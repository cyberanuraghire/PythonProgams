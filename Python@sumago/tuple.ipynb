{
 "cells": [
  {
   "cell_type": "code",
   "execution_count": 1,
   "id": "d7001377-8400-48d9-b6f9-f5496e474b8f",
   "metadata": {},
   "outputs": [
    {
     "name": "stdout",
     "output_type": "stream",
     "text": [
      "()\n",
      "<class 'tuple'>\n"
     ]
    }
   ],
   "source": [
    "#creating an empty typle \n",
    "#tuple are not dynamic immutable\n",
    "#they can have int, string, float value \n",
    "#can create tuple using tuple function or directly\n",
    "\n",
    "Tuple1 =()\n",
    "print(Tuple1)\n",
    "print(type(Tuple1))"
   ]
  },
  {
   "cell_type": "code",
   "execution_count": 2,
   "id": "2fec85ae-670e-4024-946c-529f4511c28c",
   "metadata": {},
   "outputs": [
    {
     "name": "stdout",
     "output_type": "stream",
     "text": [
      "()\n",
      "<class 'tuple'>\n"
     ]
    }
   ],
   "source": [
    "#can create tuple using tuple function or directly\n",
    "t1=()\n",
    "print(t1)\n",
    "print(type(t1))\n"
   ]
  },
  {
   "cell_type": "code",
   "execution_count": 3,
   "id": "1527b8c7-164d-4a20-b587-e17b6ce5f8a9",
   "metadata": {},
   "outputs": [],
   "source": [
    "# allow duplicates value\n",
    "# they are unchangeable meaning it can not be changed add or remove item\n",
    "#they are ordered have index \n",
    "#we can't perform pop append insert function as it is not dyamic innature"
   ]
  },
  {
   "cell_type": "code",
   "execution_count": 4,
   "id": "4113947d-df03-4bf6-9623-334d4b6b5091",
   "metadata": {},
   "outputs": [
    {
     "name": "stdout",
     "output_type": "stream",
     "text": [
      "(1, 2, 3, 4, 4.4, 'black', 'red', True, 'REd')\n",
      "<class 'tuple'>\n"
     ]
    }
   ],
   "source": [
    "#creat a Tuple with all type of data type\n",
    "Tuple = (1,2,3,4,4.4,\"black\",\"red\",True,\"REd\")\n",
    "print(Tuple)\n",
    "print(type(Tuple))"
   ]
  },
  {
   "cell_type": "code",
   "execution_count": 5,
   "id": "90dc318c-6693-413b-a5cd-5c5578d3a17f",
   "metadata": {},
   "outputs": [
    {
     "name": "stdout",
     "output_type": "stream",
     "text": [
      "('Anurag',)\n",
      "<class 'tuple'>\n"
     ]
    }
   ],
   "source": [
    "#create a tuple with a single String value\n",
    "tuple=(\"Anurag\",)\n",
    "print(tuple)\n",
    "print(type(tuple))"
   ]
  },
  {
   "cell_type": "code",
   "execution_count": 6,
   "id": "a3ff8c74-4f39-4ae0-814f-cfdfa3bfab5e",
   "metadata": {},
   "outputs": [
    {
     "name": "stdout",
     "output_type": "stream",
     "text": [
      "anurag\n",
      "<class 'str'>\n"
     ]
    }
   ],
   "source": [
    "t2=(\"anurag\")\n",
    "print(t2)\n",
    "print(type(t2))"
   ]
  },
  {
   "cell_type": "code",
   "execution_count": 7,
   "id": "76a443a3-4bd6-41d2-8fac-ffb310adbdfe",
   "metadata": {},
   "outputs": [
    {
     "name": "stdout",
     "output_type": "stream",
     "text": [
      "1\n",
      "<class 'int'>\n"
     ]
    }
   ],
   "source": [
    "t3=(1)#it will be considered as a string if , is missing it will not be act as tuple\n",
    "print(t3)\n",
    "print(type(t3))"
   ]
  },
  {
   "cell_type": "code",
   "execution_count": 8,
   "id": "546000b7-d404-4a04-9b73-8caabea23d9c",
   "metadata": {},
   "outputs": [
    {
     "name": "stdout",
     "output_type": "stream",
     "text": [
      "black\n"
     ]
    }
   ],
   "source": [
    "#indexing of typle\n",
    "t1=(1,2,3,4,5,5,5,5,\"black\",\"red\",True)\n",
    "print(t1[-3])#accesing through the index numbers\n"
   ]
  },
  {
   "cell_type": "code",
   "execution_count": 9,
   "id": "db4ee3fc-925b-4601-a2a2-3867ded72184",
   "metadata": {},
   "outputs": [
    {
     "name": "stdout",
     "output_type": "stream",
     "text": [
      "(10, 20, 30, 40)\n",
      "<class 'tuple'>\n"
     ]
    }
   ],
   "source": [
    "t2=10,20,30,40 #can also be writen as these without  () \n",
    "print(t2)\n",
    "print(type(t2))"
   ]
  },
  {
   "cell_type": "code",
   "execution_count": 10,
   "id": "fcfe7585-d51f-43c2-9606-24aa4b357c71",
   "metadata": {},
   "outputs": [
    {
     "name": "stdout",
     "output_type": "stream",
     "text": [
      "<class 'int'>\n",
      "<class 'tuple'>\n"
     ]
    }
   ],
   "source": [
    "t3=4   \n",
    "t4=4, #comma at the end makes it tuple \n",
    "print(type(t3))\n",
    "print(type(t4))"
   ]
  },
  {
   "cell_type": "markdown",
   "id": "6b7b1a79-9b3a-4084-bc68-289ca20f91e2",
   "metadata": {},
   "source": [
    "We can crate Tuple from List using tuple() function"
   ]
  },
  {
   "cell_type": "code",
   "execution_count": 15,
   "id": "af62c459-393c-4960-9857-67a5ce4231f4",
   "metadata": {},
   "outputs": [
    {
     "ename": "NameError",
     "evalue": "name 'my_tuple' is not defined",
     "output_type": "error",
     "traceback": [
      "\u001b[1;31m---------------------------------------------------------------------------\u001b[0m",
      "\u001b[1;31mNameError\u001b[0m                                 Traceback (most recent call last)",
      "Cell \u001b[1;32mIn[15], line 2\u001b[0m\n\u001b[0;32m      1\u001b[0m my_list\u001b[38;5;241m=\u001b[39m[\u001b[38;5;241m1\u001b[39m,\u001b[38;5;241m2\u001b[39m,\u001b[38;5;241m1.2\u001b[39m,\u001b[38;5;124m\"\u001b[39m\u001b[38;5;124mblack\u001b[39m\u001b[38;5;124m\"\u001b[39m]\n\u001b[1;32m----> 2\u001b[0m my_tuple\u001b[38;5;241m=\u001b[39m\u001b[38;5;28mtuple\u001b[39m(my_tuple)\n\u001b[0;32m      3\u001b[0m \u001b[38;5;28mprint\u001b[39m(my_tuple)\n",
      "\u001b[1;31mNameError\u001b[0m: name 'my_tuple' is not defined"
     ]
    }
   ],
   "source": [
    "my_list=[1,2,1.2,\"black\"]\n",
    "my_tuple=tuple(my_tuple)\n",
    "print(my_tuple)"
   ]
  },
  {
   "cell_type": "code",
   "execution_count": 2,
   "id": "e275ee8f-c000-4799-bd4a-5fb4f749e15f",
   "metadata": {},
   "outputs": [
    {
     "name": "stdout",
     "output_type": "stream",
     "text": [
      "(1, 2, 3, 4, 5, 5, 6)\n"
     ]
    }
   ],
   "source": [
    "#accessing the element uisng slicing \n",
    "t=(1,2,3,4,5,5,6)\n",
    "print(t[:])"
   ]
  },
  {
   "cell_type": "code",
   "execution_count": 6,
   "id": "6a60bf3c-f7c1-4bef-99c3-3cc668ca5c6d",
   "metadata": {},
   "outputs": [
    {
     "name": "stdout",
     "output_type": "stream",
     "text": [
      "[12, 22, 32, 42, 52, 62]\n"
     ]
    }
   ],
   "source": [
    "#list and Tuple comprehension\n",
    "marks=[10,20,30,40,50,60] #5 lines of code\n",
    "new_marks=[]\n",
    "for x in marks:\n",
    "    new_marks.append(x+2)\n",
    "print(new_marks)\n"
   ]
  },
  {
   "cell_type": "code",
   "execution_count": 8,
   "id": "1dbb74f2-6924-43f1-aa66-c67760582274",
   "metadata": {},
   "outputs": [
    {
     "name": "stdout",
     "output_type": "stream",
     "text": [
      "[12, 22, 32, 42, 52, 62]\n"
     ]
    }
   ],
   "source": [
    "marks=[10,20,30,40,50,60] #2 lines of code\n",
    "new_marks=[x+2 for x in marks] #we gave the condition before the range x+2 for x in marks\n",
    "print(new_marks)"
   ]
  },
  {
   "cell_type": "code",
   "execution_count": null,
   "id": "9839ffca-2cf3-46c9-ab2f-a0b218bb314c",
   "metadata": {},
   "outputs": [],
   "source": []
  }
 ],
 "metadata": {
  "kernelspec": {
   "display_name": "Python 3 (ipykernel)",
   "language": "python",
   "name": "python3"
  },
  "language_info": {
   "codemirror_mode": {
    "name": "ipython",
    "version": 3
   },
   "file_extension": ".py",
   "mimetype": "text/x-python",
   "name": "python",
   "nbconvert_exporter": "python",
   "pygments_lexer": "ipython3",
   "version": "3.12.4"
  }
 },
 "nbformat": 4,
 "nbformat_minor": 5
}
