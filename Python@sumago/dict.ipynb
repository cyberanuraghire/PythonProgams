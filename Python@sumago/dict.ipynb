{
 "cells": [
  {
   "cell_type": "code",
   "execution_count": 1,
   "id": "5fe80065-fdc0-4558-bb7a-cac7241409ca",
   "metadata": {},
   "outputs": [
    {
     "name": "stdout",
     "output_type": "stream",
     "text": [
      "{'brand': 'honda', 'modal': 'activa', 'year': 2024}\n",
      "<class 'dict'>\n"
     ]
    }
   ],
   "source": [
    "dict1 = {\"brand\":\"honda\",\"modal\":\"activa\",\"year\":2024} #key value pair\n",
    "print(dict1)\n",
    "print(type(dict1))"
   ]
  },
  {
   "cell_type": "code",
   "execution_count": 3,
   "id": "a7f6072a-9ada-412c-883a-5333a06c6920",
   "metadata": {},
   "outputs": [
    {
     "name": "stdout",
     "output_type": "stream",
     "text": [
      "{'brand': 'ford', 'electric': False, 'year': 1963, 'colors': ['red', 'black', 'grey']}\n",
      "<class 'type'>\n",
      "4\n"
     ]
    }
   ],
   "source": [
    "thisdict ={\n",
    "    \"brand\":\"ford\",\n",
    "    \"electric\":False,\n",
    "    \"year\":1963,\n",
    "    \"colors\":[\"red\",\"black\",\"grey\"] #we can use any data type \n",
    "}\n",
    "print(thisdict)\n",
    "print(type(dict))\n",
    "print(len(thisdict)) #len"
   ]
  },
  {
   "cell_type": "markdown",
   "id": "c1f89bf4-b977-466c-8832-4768594e2811",
   "metadata": {},
   "source": [
    "Accessing the items\n"
   ]
  },
  {
   "cell_type": "code",
   "execution_count": 17,
   "id": "d017486a-8966-424f-b57d-17a6326595bc",
   "metadata": {},
   "outputs": [
    {
     "name": "stdout",
     "output_type": "stream",
     "text": [
      "ford\n"
     ]
    }
   ],
   "source": [
    "dict ={\n",
    "    \"brand\":\"ford\",\n",
    "    \"electric\":False,\n",
    "    \"year\":1963,\n",
    "    \"colors\":[\"red\",\"black\",\"grey\"] #we can use any data type \n",
    "}\n",
    "x=dict[\"brand\"] #accces using the key value pair\n",
    "\n",
    "print(x)"
   ]
  },
  {
   "cell_type": "markdown",
   "id": "cd943bbb-68e1-4a43-ab08-de3da34143a5",
   "metadata": {},
   "source": [
    "get() method"
   ]
  },
  {
   "cell_type": "code",
   "execution_count": 21,
   "id": "372924f7-0002-4d16-ac66-1de28cdd0d11",
   "metadata": {},
   "outputs": [
    {
     "name": "stdout",
     "output_type": "stream",
     "text": [
      "{'brand': 'ford', 'electric': False, 'year': 1963, 'colors': ['red', 'black', 'grey']}\n",
      "ford\n",
      "ford\n"
     ]
    }
   ],
   "source": [
    "dict ={\n",
    "    \"brand\":\"ford\",\n",
    "    \"electric\":False,\n",
    "    \"year\":1963,\n",
    "    \"colors\":[\"red\",\"black\",\"grey\"] #we can use any data type \n",
    "}\n",
    "print(dict)\n",
    "x=dict[\"brand\"]\n",
    "print(x)\n",
    "y=dict.get(\"brand\") #we can also access these using the get() method \n",
    "print(y)"
   ]
  },
  {
   "cell_type": "code",
   "execution_count": 25,
   "id": "97a3a02f-0adf-4b0b-b4f3-ef5397d27071",
   "metadata": {},
   "outputs": [
    {
     "name": "stdout",
     "output_type": "stream",
     "text": [
      "{'brand': 'ford', 'electric': False, 'year': 1963, 'colors': ['red', 'black', 'grey']}\n",
      "brand\n",
      "electric\n",
      "year\n",
      "colors\n"
     ]
    }
   ],
   "source": [
    "dict ={\n",
    "    \"brand\":\"ford\",\n",
    "    \"electric\":False,\n",
    "    \"year\":1963,\n",
    "    \"colors\":[\"red\",\"black\",\"grey\"] #we can use any data type \n",
    "}\n",
    "print(dict)\n",
    "for i in dict: #using \n",
    "    print(i)\n"
   ]
  },
  {
   "cell_type": "code",
   "execution_count": 31,
   "id": "75c37217-6826-4395-84a3-29aa3a7a2455",
   "metadata": {},
   "outputs": [
    {
     "name": "stdout",
     "output_type": "stream",
     "text": [
      "ford\n",
      "False\n",
      "1963\n",
      "['red', 'black', 'grey']\n"
     ]
    }
   ],
   "source": [
    "dict ={\n",
    "    \"brand\":\"ford\",\n",
    "    \"electric\":False,\n",
    "    \"year\":1963,\n",
    "    \"colors\":[\"red\",\"black\",\"grey\"] #we can use any data type \n",
    "}\n",
    "for x in dict:\n",
    "    print(dict[x]) #for accessing the value "
   ]
  },
  {
   "cell_type": "code",
   "execution_count": 33,
   "id": "31b2b215-3157-4d73-9711-ec44af671254",
   "metadata": {},
   "outputs": [
    {
     "name": "stdout",
     "output_type": "stream",
     "text": [
      "['red', 'black', 'grey']\n"
     ]
    }
   ],
   "source": [
    "dict ={\n",
    "    \"brand\":\"ford\",\n",
    "    \"electric\":False,\n",
    "    \"year\":1963,\n",
    "    \"colors\":[\"red\",\"black\",\"grey\"] #we can use any data type \n",
    "}\n"
   ]
  },
  {
   "cell_type": "code",
   "execution_count": 45,
   "id": "e7b9bd50-8485-4937-b3da-cf5c88b09826",
   "metadata": {},
   "outputs": [
    {
     "name": "stdout",
     "output_type": "stream",
     "text": [
      "dict_values(['ford', False, 1963, ['red', 'black', 'grey']])\n",
      "ford\n",
      "False\n",
      "1963\n",
      "['red', 'black', 'grey']\n"
     ]
    }
   ],
   "source": [
    "dict ={\n",
    "    \"brand\":\"ford\",\n",
    "    \"electric\":False,\n",
    "    \"year\":1963,\n",
    "    \"colors\":[\"red\",\"black\",\"grey\"] #we can use any data type \n",
    "}\n",
    "print(dict.values())\n",
    "for x in dict.values():\n",
    "    print(x)"
   ]
  },
  {
   "cell_type": "code",
   "execution_count": 37,
   "id": "6c6aa919-295a-420d-a944-f017e117dc7d",
   "metadata": {},
   "outputs": [
    {
     "name": "stdout",
     "output_type": "stream",
     "text": [
      "brand ford\n",
      "electric False\n",
      "year 1963\n",
      "colors ['red', 'black', 'grey']\n"
     ]
    }
   ],
   "source": [
    "#we can also use the item function .items()\n",
    "#we can access both the key and value pair \n",
    "dict ={\n",
    "    \"brand\":\"ford\",\n",
    "    \"electric\":False,\n",
    "    \"year\":1963,\n",
    "    \"colors\":[\"red\",\"black\",\"grey\"] #we can use any data type \n",
    "}\n",
    "for x,y in dict.items():\n",
    "    print(x,y)"
   ]
  },
  {
   "cell_type": "code",
   "execution_count": 53,
   "id": "2ba71307-8207-4ab3-b88c-4c01d8e003d0",
   "metadata": {},
   "outputs": [
    {
     "name": "stdout",
     "output_type": "stream",
     "text": [
      "{'brand': 'ford', 'electric': False, 'year': 1963, 'colors': ['red', 'black', 'grey']}\n",
      "{'brand': 'ford', 'electric': True, 'year': 2024, 'colors': ['red', 'black', 'grey']}\n"
     ]
    }
   ],
   "source": [
    "#if we want to change the value of the dict\n",
    "dict ={\n",
    "    \"brand\":\"ford\",\n",
    "    \"electric\":False,\n",
    "    \"year\":1963,\n",
    "    \"colors\":[\"red\",\"black\",\"grey\"] #we can use any data type \n",
    "}\n",
    "print(dict)\n",
    "dict[\"year\"]=2024 #we change the value useing the key\n",
    "dict[\"electric\"]=True\n",
    "print(dict)"
   ]
  },
  {
   "cell_type": "code",
   "execution_count": 57,
   "id": "46221fc7-c501-4dc3-b5d7-7982831e3ea3",
   "metadata": {},
   "outputs": [
    {
     "name": "stdout",
     "output_type": "stream",
     "text": [
      "Yes, it is one of the key in the dictionary\n"
     ]
    }
   ],
   "source": [
    "#only to check the key within the keys\n",
    "dict={\"brand\":\"honda\",\n",
    "     \"Model\":\"Activa\",\n",
    "     \"Year\":2024}\n",
    "if \"brand\" in dict: #to check if it dict \n",
    "    print(\"Yes, it is one of the key in the dictionary\")\n",
    "else:\n",
    "    print(\"No, it is not one of the key in the dictionary\")\n"
   ]
  },
  {
   "cell_type": "code",
   "execution_count": null,
   "id": "2e95aa23-7033-4395-8721-e875762298b3",
   "metadata": {},
   "outputs": [],
   "source": [
    "dict ={\n",
    "    \"brand\":\"ford\",\n",
    "    \"electric\":False,\n",
    "    \"year\":1963,\n",
    "    \"colors\":[\"red\",\"black\",\"grey\"] #we can use any data type \n",
    "}\n"
   ]
  },
  {
   "cell_type": "code",
   "execution_count": 77,
   "id": "20a1f740-cb63-4b0f-a1ed-da9e2391e35d",
   "metadata": {},
   "outputs": [
    {
     "name": "stdout",
     "output_type": "stream",
     "text": [
      "{'brand': 'honda', 'electric': False, 'year': 1963, 'colors': ['red', 'black', 'grey']}\n",
      "{'brand': 'honda', 'electric': False, 'year': 1963, 'colors': ['red', 'black', 'grey'], 'color': 'black', 'engine': 'none', 'Brand': 'ola'}\n",
      "length of dict : 7\n"
     ]
    }
   ],
   "source": [
    "#adding a new element using dict['key']=value\n",
    "\n",
    "dict ={\n",
    "    \"brand\":\"honda\",\n",
    "    \"electric\":False,\n",
    "    \"year\":1963,\n",
    "    \"colors\":[\"red\",\"black\",\"grey\"] #we can use any data type \n",
    "}\n",
    "print(dict)\n",
    "dict['color']=\"black\"\n",
    "dict[\"engine\"]=\"none\"\n",
    "dict['Brand']=\"ola\"\n",
    "dict['Brand']=\"ola\"\n",
    "print(dict)\n",
    "x = len(dict)\n",
    "print(\"length of dict :\",x)"
   ]
  },
  {
   "cell_type": "code",
   "execution_count": 83,
   "id": "2b853a03-1d29-455f-b932-ea19358830c1",
   "metadata": {},
   "outputs": [
    {
     "name": "stdout",
     "output_type": "stream",
     "text": [
      "{'brand': 'Honda', 'Model': 'Activa', 'year': 2023}\n",
      "{'brand': 'Honda', 'Model': 'Activa'}\n"
     ]
    }
   ],
   "source": [
    "#removing items\n",
    "dict ={\"brand\":\"Honda\", \"Model\":\"Activa\", \"year\":2023}\n",
    "print(dict)\n",
    "del dict[\"year\"]#to delet the key and value of the dict\n",
    "print(dict)"
   ]
  },
  {
   "cell_type": "code",
   "execution_count": 93,
   "id": "6c0fead5-9495-4ced-b2cc-55967b1bddae",
   "metadata": {},
   "outputs": [
    {
     "name": "stdout",
     "output_type": "stream",
     "text": [
      "{'brand': 'Honda', 'Model': 'Activa', 'year': 2023}\n",
      "<class 'dict'>\n"
     ]
    }
   ],
   "source": []
  },
  {
   "cell_type": "code",
   "execution_count": 91,
   "id": "957cda24-6ac3-4bad-a1c8-bd681c7f4651",
   "metadata": {},
   "outputs": [
    {
     "name": "stdout",
     "output_type": "stream",
     "text": [
      "{'brand': 'Honda', 'Model': 'Activa', 'year': 2023}\n",
      "{'brand': 'Honda', 'year': 2023}\n"
     ]
    }
   ],
   "source": [
    "#removing items using pop()\n",
    "dict ={\"brand\":\"Honda\", \"Model\":\"Activa\", \"year\":2023}\n",
    "print(dict)\n",
    "dict.pop(\"Model\")#to remove usign pop()\n",
    "print(dict)\n",
    "\n",
    "\n"
   ]
  },
  {
   "cell_type": "code",
   "execution_count": 11,
   "id": "0a4cb247-0d61-47af-b752-b3d140cf09c2",
   "metadata": {},
   "outputs": [
    {
     "name": "stdout",
     "output_type": "stream",
     "text": [
      "{'brand': 'Honda', 'Model': 'Activa', 'year': 2023}\n",
      "<class 'dict'>\n"
     ]
    }
   ],
   "source": [
    "dict ={\"brand\":\"Honda\", \"Model\":\"Activa\", \"year\":2023}\n",
    "print(dict)\n",
    "\n",
    "del dict #delete dict\n",
    "\n",
    "print(dict)\n"
   ]
  },
  {
   "cell_type": "code",
   "execution_count": null,
   "id": "95919087-e1b5-44e5-949e-c72613bf29c3",
   "metadata": {},
   "outputs": [],
   "source": []
  }
 ],
 "metadata": {
  "kernelspec": {
   "display_name": "Python 3 (ipykernel)",
   "language": "python",
   "name": "python3"
  },
  "language_info": {
   "codemirror_mode": {
    "name": "ipython",
    "version": 3
   },
   "file_extension": ".py",
   "mimetype": "text/x-python",
   "name": "python",
   "nbconvert_exporter": "python",
   "pygments_lexer": "ipython3",
   "version": "3.12.4"
  }
 },
 "nbformat": 4,
 "nbformat_minor": 5
}
