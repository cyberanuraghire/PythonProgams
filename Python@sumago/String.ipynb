{
 "cells": [
  {
   "cell_type": "code",
   "execution_count": 3,
   "id": "7393d7ba-6ca3-4e89-bb31-e7c6d97b3a2f",
   "metadata": {},
   "outputs": [
    {
     "name": "stdout",
     "output_type": "stream",
     "text": [
      "e\n",
      "anurag\n",
      "My name is anurag\n",
      "I have done my masters in computer applications\n"
     ]
    }
   ],
   "source": [
    "#strings \n",
    "#different types of strings\n",
    "a = \"e\" #single letter\n",
    "b =\"anurag\" #word\n",
    "c =\"My name is anurag\" #sentene\n",
    "d =\"I have done my masters in computer applications\" #para\n",
    "print(a)\n",
    "print(b)\n",
    "print(c)\n",
    "print(d)"
   ]
  },
  {
   "cell_type": "code",
   "execution_count": 2,
   "id": "cabc5235-e5d2-454e-afbd-4f12f5e70f02",
   "metadata": {},
   "outputs": [
    {
     "name": "stdout",
     "output_type": "stream",
     "text": [
      "anurag hire\n"
     ]
    }
   ],
   "source": [
    "#concatenation in string \n",
    "str1 = \"anurag\"\n",
    "str2 = \"hire\"\n",
    "print(str1+ \" \" +str2)\n"
   ]
  },
  {
   "cell_type": "code",
   "execution_count": 13,
   "id": "40e81514-69bd-4502-b7cf-7e7c2d87473d",
   "metadata": {},
   "outputs": [
    {
     "name": "stdout",
     "output_type": "stream",
     "text": [
      "anurag hire\n"
     ]
    }
   ],
   "source": [
    "#concatenation in string \n",
    "str1 = \"anurag\"\n",
    "str2 = \"hire\"\n",
    "print(str1+\" \"+str2) #just ot add space \n"
   ]
  },
  {
   "cell_type": "markdown",
   "id": "9e2e9112-1bcf-4462-926f-79960abf12bd",
   "metadata": {},
   "source": [
    "indexing "
   ]
  },
  {
   "cell_type": "code",
   "execution_count": 37,
   "id": "69d7a6ce-9b85-4bbb-b815-56d0b55db10c",
   "metadata": {},
   "outputs": [
    {
     "data": {
      "text/plain": [
       "'a'"
      ]
     },
     "execution_count": 37,
     "metadata": {},
     "output_type": "execute_result"
    }
   ],
   "source": [
    "string = \"anurag\" #always start with 0\n",
    "string[0] #acces the letter on that perticular index"
   ]
  },
  {
   "cell_type": "markdown",
   "id": "2dbc9cc2-0ccb-4d55-a0b4-485ccdadcb13",
   "metadata": {},
   "source": [
    "The index always start with 0 form left and -1 form the right side \n",
    "ie \n",
    "a b c d e f\n",
    "0 1 2 3 4 5\n",
    "#form left side it will always start from -1\n",
    " 0  1  2  3  4 \n",
    "-5 -4 -3 -2 -1\n"
   ]
  },
  {
   "cell_type": "code",
   "execution_count": 48,
   "id": "684f60ee-b212-4b75-977c-af76abd2efdc",
   "metadata": {},
   "outputs": [
    {
     "data": {
      "text/plain": [
       "'a'"
      ]
     },
     "execution_count": 48,
     "metadata": {},
     "output_type": "execute_result"
    }
   ],
   "source": [
    "#negative index \n",
    "#start with -1 form behind the string -1 -2 -3 -4\n",
    "str =\"anurag\"\n",
    "# str[-1]\n",
    "str[-2]"
   ]
  },
  {
   "cell_type": "markdown",
   "id": "de1baef1-3368-404b-ab12-2e5e218b9473",
   "metadata": {},
   "source": [
    "## string slicing \n"
   ]
  },
  {
   "cell_type": "code",
   "execution_count": 6,
   "id": "244ff91a-4f88-473e-9e07-17de54c7c13f",
   "metadata": {},
   "outputs": [
    {
     "name": "stdout",
     "output_type": "stream",
     "text": [
      "JAVA_\n",
      "JAVA_TUTORIAL\n",
      "RIA\n",
      "\n"
     ]
    }
   ],
   "source": [
    "#to find the range of characters int the string \n",
    "string = \"JAVA_TUTORIAL\"\n",
    "print(string[0:5]) #will retun form 0 index till the given rannge an will omit the last one \n",
    "print(string[:])#will print everything as no string index or ending index is given \n",
    "print(string[-4:-1])\n",
    "print(string[-1:-3])\n",
    "# print(string[-1:-4])"
   ]
  },
  {
   "cell_type": "code",
   "execution_count": 8,
   "id": "91b3949e-6378-4c43-8261-88ecd7a0d7c9",
   "metadata": {},
   "outputs": [
    {
     "data": {
      "text/plain": [
       "'Anurag'"
      ]
     },
     "execution_count": 8,
     "metadata": {},
     "output_type": "execute_result"
    }
   ],
   "source": [
    "str1=\"anurag\"\n",
    "str1.capitalize() #will do the first letter capital "
   ]
  },
  {
   "cell_type": "code",
   "execution_count": null,
   "id": "cebb9280-3a9d-4c53-9cfa-8c9e53bfabd9",
   "metadata": {},
   "outputs": [],
   "source": []
  },
  {
   "cell_type": "code",
   "execution_count": null,
   "id": "bd431b1f-bf2f-49ae-8e20-deb8d1b290d6",
   "metadata": {},
   "outputs": [],
   "source": [
    "str1=\"anurag\"\n",
    "str1.capitalize() #capialize the first character is anurag = Anurag\n"
   ]
  },
  {
   "cell_type": "code",
   "execution_count": 10,
   "id": "e3be3981-8ee4-4fdc-9fea-1bad9456bfff",
   "metadata": {},
   "outputs": [
    {
     "data": {
      "text/plain": [
       "True"
      ]
     },
     "execution_count": 10,
     "metadata": {},
     "output_type": "execute_result"
    }
   ],
   "source": [
    "str1=\"anurag\"\n",
    "str1.endswith(\"rag\") #check if it ends with the substring passed in the endswith() and return True or false\n"
   ]
  },
  {
   "cell_type": "code",
   "execution_count": 12,
   "id": "8c558eb9-2154-489a-bf7f-7e61a885d3db",
   "metadata": {},
   "outputs": [
    {
     "data": {
      "text/plain": [
       "' I like will study Java. Java is open source and easy will use language'"
      ]
     },
     "execution_count": 12,
     "metadata": {},
     "output_type": "execute_result"
    }
   ],
   "source": [
    "#replace\n",
    "str1 =\" I like to study Java. Java is open source and easy to use language\"\n",
    "str1.replace(\"Java\",\"Python\") #str1.replace(\"old\",\"new)\n",
    "# str1.replace(\"I\", \"J\")\n",
    "str1.replace(\"to\",\"will\")\n"
   ]
  },
  {
   "cell_type": "code",
   "execution_count": 14,
   "id": "629b7e1f-6550-48fb-abc2-accb9e671df3",
   "metadata": {},
   "outputs": [
    {
     "data": {
      "text/plain": [
       "1"
      ]
     },
     "execution_count": 14,
     "metadata": {},
     "output_type": "execute_result"
    }
   ],
   "source": [
    "str1.find(\"I\") #to find the index of the give letter it the find()"
   ]
  },
  {
   "cell_type": "code",
   "execution_count": 16,
   "id": "aec703f2-ca00-4851-9446-620d5a00d84b",
   "metadata": {},
   "outputs": [
    {
     "data": {
      "text/plain": [
       "2"
      ]
     },
     "execution_count": 16,
     "metadata": {},
     "output_type": "execute_result"
    }
   ],
   "source": [
    "str1.count(\"to\") #to find the count of the give characters from the give sentence"
   ]
  },
  {
   "cell_type": "code",
   "execution_count": 20,
   "id": "76f4a3d2-3287-4688-84a3-c03f71833e7d",
   "metadata": {},
   "outputs": [
    {
     "data": {
      "text/plain": [
       "11"
      ]
     },
     "execution_count": 20,
     "metadata": {},
     "output_type": "execute_result"
    }
   ],
   "source": [
    "str1 = \"anurag hire\"\n",
    "len(str1) #returns the length of the string\n",
    "len(str1)"
   ]
  },
  {
   "cell_type": "code",
   "execution_count": null,
   "id": "1ac6e182-082c-4d92-a761-88466d30553a",
   "metadata": {},
   "outputs": [],
   "source": [
    "str1 =\"Anurag\"\n",
    "sr"
   ]
  },
  {
   "cell_type": "raw",
   "id": "4dcd7db9-d47e-4e39-bfdc-d7ecd1ca7622",
   "metadata": {},
   "source": [
    "Write a progarm to input the first name and print its length"
   ]
  },
  {
   "cell_type": "code",
   "execution_count": 26,
   "id": "010f99a0-423d-449c-9567-e219a7889d4e",
   "metadata": {},
   "outputs": [
    {
     "name": "stdin",
     "output_type": "stream",
     "text": [
      "enter the string 11111\n"
     ]
    },
    {
     "name": "stdout",
     "output_type": "stream",
     "text": [
      "5\n"
     ]
    }
   ],
   "source": [
    "# name =(input(\"Enter First numeber:\"))\n",
    "# print(\"Entered name:\",name)\n",
    "# print(\"length of the given name is \")\n",
    "# # print(\"length of the given name is \",len(name))\n",
    "# len(name)\n",
    "str1 = input(\"enter the string\")\n",
    "print(len(str1))\n"
   ]
  },
  {
   "cell_type": "markdown",
   "id": "062dbb59-5361-4137-a5f1-8c04ac5cd22b",
   "metadata": {},
   "source": [
    "write a program to find the occurance of \"$\" in a string\n"
   ]
  },
  {
   "cell_type": "code",
   "execution_count": 125,
   "id": "20e35781-059e-4174-abb2-b5706b321da4",
   "metadata": {},
   "outputs": [
    {
     "name": "stdout",
     "output_type": "stream",
     "text": [
      "occurance of $ is : 3\n"
     ]
    },
    {
     "data": {
      "text/plain": [
       "3"
      ]
     },
     "execution_count": 125,
     "metadata": {},
     "output_type": "execute_result"
    }
   ],
   "source": [
    "str1 =\"anurag$123$@hire$\"\n",
    "print(\"occurance of $ is :\",str1.count(\"$\"))\n",
    "# str1.count(\"$\")"
   ]
  },
  {
   "cell_type": "code",
   "execution_count": 14,
   "id": "910ed0a3-f8dc-4b28-8e20-ff7a51d5d589",
   "metadata": {},
   "outputs": [
    {
     "name": "stdout",
     "output_type": "stream",
     "text": [
      "left is not smaller than right\n"
     ]
    }
   ],
   "source": [
    "left = 100\n",
    "right = 150\n",
    "left2 = 100\n",
    "right2= 1000\n",
    "# if(left > right):\n",
    "#     print(\"left is greater than right\")\n",
    "# else:\n",
    "#     print(\"Left is not greater than right\")\n",
    "if(left < right and left2 >= right2):\n",
    "    print(\"it will return True if both the condition are true\")\n",
    "else:\n",
    "    print(\"left is not smaller than right\")"
   ]
  },
  {
   "cell_type": "code",
   "execution_count": 35,
   "id": "1d41595f-117e-423d-b8a9-c0b6f9218acf",
   "metadata": {},
   "outputs": [
    {
     "name": "stdout",
     "output_type": "stream",
     "text": [
      "s is not smaller than d\n"
     ]
    }
   ],
   "source": [
    "a = 10\n",
    "b = 2\n",
    "c = 8\n",
    "d = 4\n",
    "# if(a > b):\n",
    "#     print(\"a is greater than b\")\n",
    "# else:\n",
    "#     print(\"a is smaller than b\")\n",
    "if(c < d):\n",
    "    print(\"c is smaller than d\")\n",
    "else:\n",
    "    print(\"s is not smaller than d\")\n",
    "    "
   ]
  },
  {
   "cell_type": "code",
   "execution_count": 60,
   "id": "fff89503-da9f-4767-ba8b-ce6ed2dfe07a",
   "metadata": {},
   "outputs": [
    {
     "name": "stdout",
     "output_type": "stream",
     "text": [
      "both are correct\n"
     ]
    }
   ],
   "source": [
    "\n",
    "num1 = 10\n",
    "num2 = 100\n",
    "if num1<30 and num2>15:\n",
    "  print(\"both are correct\")\n",
    "else:\n",
    "  print (\"one is wrong\")"
   ]
  },
  {
   "cell_type": "code",
   "execution_count": 88,
   "id": "636ab415-2422-445b-a001-5f7b2ee860e6",
   "metadata": {},
   "outputs": [
    {
     "name": "stdin",
     "output_type": "stream",
     "text": [
      "Enter the value of a  30\n",
      "Enter the value of b  40\n"
     ]
    },
    {
     "name": "stdout",
     "output_type": "stream",
     "text": [
      "it is not greater than c\n",
      "none\n"
     ]
    }
   ],
   "source": [
    "a = int(input(\"Enter the value of a \"))\n",
    "b = int(input(\"Enter the value of b \"))\n",
    "if(a > b):\n",
    "    print(a,\"is greather than\",c,\"helo\")\n",
    "else:\n",
    "    print(\"it is not greater than c\")\n",
    "\n",
    "if(b < a):\n",
    "    print(b,\"is smaller than a\")\n",
    "else:\n",
    "    print(\"none\")\n",
    "    "
   ]
  },
  {
   "cell_type": "code",
   "execution_count": null,
   "id": "70c9c573-56fa-4663-9e39-c4da82c4db7e",
   "metadata": {},
   "outputs": [],
   "source": [
    "\n"
   ]
  }
 ],
 "metadata": {
  "kernelspec": {
   "display_name": "Python 3 (ipykernel)",
   "language": "python",
   "name": "python3"
  },
  "language_info": {
   "codemirror_mode": {
    "name": "ipython",
    "version": 3
   },
   "file_extension": ".py",
   "mimetype": "text/x-python",
   "name": "python",
   "nbconvert_exporter": "python",
   "pygments_lexer": "ipython3",
   "version": "3.12.4"
  }
 },
 "nbformat": 4,
 "nbformat_minor": 5
}
