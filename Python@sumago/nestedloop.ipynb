{
 "cells": [
  {
   "cell_type": "code",
   "execution_count": 8,
   "id": "52ece51e-7968-4a86-a01a-410d07df73fa",
   "metadata": {},
   "outputs": [
    {
     "name": "stdin",
     "output_type": "stream",
     "text": [
      "Enter the age 5\n"
     ]
    },
    {
     "name": "stdout",
     "output_type": "stream",
     "text": [
      "grow up buddy\n"
     ]
    }
   ],
   "source": [
    "#nested if\n",
    "age = int(input(\"Enter the age\"))\n",
    "own_car =\"true\"\n",
    "#outer if statement \n",
    "if(age >= 18):\n",
    "    #inner if statment\n",
    "    if(own_car ==\"true\"):\n",
    "        print(\"Drive your car\")\n",
    "    else:\n",
    "        print(\"work hard and purchase a new car\")\n",
    "else:\n",
    "    print(\"grow up buddy\")"
   ]
  },
  {
   "cell_type": "code",
   "execution_count": 22,
   "id": "b49bb773-cd02-4a78-9183-d3dedc66d8ed",
   "metadata": {},
   "outputs": [
    {
     "name": "stdin",
     "output_type": "stream",
     "text": [
      "Enter number upto which a you want to find the sum 5\n"
     ]
    },
    {
     "name": "stdout",
     "output_type": "stream",
     "text": [
      "sum= 15\n"
     ]
    }
   ],
   "source": [
    "# while loop\n",
    "n = int(input(\"Enter number upto which a you want to find the sum\"))\n",
    "i = 1\n",
    "sum =0 \n",
    "while (i <=n ):\n",
    "    sum = sum + i\n",
    "    i +=1\n",
    "print(\"sum=\",sum)\n"
   ]
  },
  {
   "cell_type": "code",
   "execution_count": 26,
   "id": "e55a4c1c-0263-4e5d-8a8b-8d8c5d5d6e5f",
   "metadata": {},
   "outputs": [
    {
     "name": "stdout",
     "output_type": "stream",
     "text": [
      "i =0, j=0\n",
      "i =0, j=1\n",
      "i =0, j=2\n",
      "i =1, j=0\n",
      "i =1, j=1\n",
      "i =1, j=2\n"
     ]
    }
   ],
   "source": [
    "for i in range(2):\n",
    "    for j in range(3):\n",
    "        print(f\"i ={i}, j={j}\")\n",
    "    "
   ]
  },
  {
   "cell_type": "code",
   "execution_count": 36,
   "id": "c2a45bc4-63d1-4780-89c7-6786fc62c6e2",
   "metadata": {},
   "outputs": [
    {
     "name": "stdout",
     "output_type": "stream",
     "text": [
      "1\n",
      "2\n"
     ]
    }
   ],
   "source": [
    "#while loop in python\n",
    "a = 1\n",
    "while a <=20:\n",
    "    print(a)\n",
    "    a +=1"
   ]
  },
  {
   "cell_type": "code",
   "execution_count": 40,
   "id": "8214ce2b-da26-4072-80de-318d88e7d8df",
   "metadata": {},
   "outputs": [
    {
     "name": "stdout",
     "output_type": "stream",
     "text": [
      "15\n"
     ]
    }
   ],
   "source": [
    "n =5 \n",
    "i =1\n",
    "sum =0\n",
    "while (i <=n):\n",
    "    sum=sum+i\n",
    "    i = i+1\n",
    "print(sum)"
   ]
  },
  {
   "cell_type": "code",
   "execution_count": 50,
   "id": "fd46e633-93c3-4ce7-a2ba-d20bd9357ccc",
   "metadata": {},
   "outputs": [
    {
     "name": "stdout",
     "output_type": "stream",
     "text": [
      "1\n",
      "2\n",
      "3\n",
      "4\n",
      "5\n",
      "sum 5\n"
     ]
    }
   ],
   "source": [
    "n = 5\n",
    "i =1 #init\n",
    "sum = 0\n",
    "while (i<=n):\n",
    "    sum =+i\n",
    "    print(sum)\n",
    "    i = i+1\n",
    "print(\"sum\",sum)"
   ]
  },
  {
   "cell_type": "code",
   "execution_count": 54,
   "id": "5f584023-a94d-4b33-8ebb-1de78ff4a662",
   "metadata": {},
   "outputs": [
    {
     "name": "stdin",
     "output_type": "stream",
     "text": [
      "Enter number upto which you want to find squre of sum 10\n"
     ]
    },
    {
     "name": "stdout",
     "output_type": "stream",
     "text": [
      "1\n",
      "5\n",
      "14\n",
      "30\n",
      "55\n",
      "91\n",
      "140\n",
      "204\n",
      "285\n",
      "385\n",
      "sum of squre: 385\n"
     ]
    }
   ],
   "source": [
    "#find sum of squre from 1 to n \n",
    "n = int(input(\"Enter number upto which you want to find squre of sum\"))\n",
    "i = 1 #init\n",
    "sum=0\n",
    "while(i<=n):\n",
    "    sum = sum +i*i\n",
    "    print(sum)\n",
    "    i = i +1\n",
    "print(\"sum of squre:\",sum)"
   ]
  },
  {
   "cell_type": "code",
   "execution_count": 60,
   "id": "8b697f9b-df45-4760-8985-5fa2ee68e77e",
   "metadata": {},
   "outputs": [
    {
     "name": "stdin",
     "output_type": "stream",
     "text": [
      "Enter the number 5\n"
     ]
    },
    {
     "name": "stdout",
     "output_type": "stream",
     "text": [
      "1\n",
      "9\n",
      "36\n",
      "100\n",
      "225\n",
      "225\n"
     ]
    }
   ],
   "source": [
    "n = int(input(\"Enter the number\"))\n",
    "i =1 \n",
    "sum = 0\n",
    "while(i<=n):\n",
    "    sum = sum+i*i*i\n",
    "    print(sum)\n",
    "    i= i +1\n",
    "print(sum)"
   ]
  },
  {
   "cell_type": "code",
   "execution_count": 66,
   "id": "094ef3ba-ab51-477a-a4d6-bffa2d8f27df",
   "metadata": {},
   "outputs": [
    {
     "name": "stdout",
     "output_type": "stream",
     "text": [
      "1\n",
      "17\n",
      "98\n",
      "354\n",
      "354\n"
     ]
    }
   ],
   "source": [
    "n = 4\n",
    "i = 1 \n",
    "sum =0\n",
    "while(i<=n):\n",
    "    sum = sum +i*i*i*i\n",
    "    print(sum)\n",
    "    i = i+1\n",
    "print(sum)"
   ]
  },
  {
   "cell_type": "code",
   "execution_count": 70,
   "id": "a7c92a14-85f6-4bd3-b07c-0b3e1f109428",
   "metadata": {},
   "outputs": [
    {
     "name": "stdout",
     "output_type": "stream",
     "text": [
      "hello\n",
      "hello\n",
      "hello\n",
      "hello\n",
      "hello\n",
      "hello\n",
      "hello\n",
      "hello\n",
      "hello\n",
      "hello\n",
      "end\n"
     ]
    }
   ],
   "source": [
    "i = 1#init\n",
    "while i<=10:\n",
    "    print(\"hello\")\n",
    "    i = i +1\n",
    "print(\"end\")"
   ]
  },
  {
   "cell_type": "code",
   "execution_count": 76,
   "id": "c28e3b82-6546-4f93-b508-1445589f1466",
   "metadata": {},
   "outputs": [
    {
     "name": "stdout",
     "output_type": "stream",
     "text": [
      "10\n",
      "8\n",
      "6\n",
      "4\n",
      "2\n",
      "end\n"
     ]
    }
   ],
   "source": [
    "i = 10 #init\n",
    "while i >=1:\n",
    "    print(i)\n",
    "    i = i -2 #condtiton\n",
    "print(\"end\")"
   ]
  },
  {
   "cell_type": "markdown",
   "id": "20d59ade-2f8c-4471-83ac-9dccac89b4d7",
   "metadata": {},
   "source": [
    "nested loop"
   ]
  },
  {
   "cell_type": "code",
   "execution_count": 81,
   "id": "26de432e-1b1d-4570-8c1c-f9db8ca5bb01",
   "metadata": {},
   "outputs": [
    {
     "name": "stdout",
     "output_type": "stream",
     "text": [
      "1\n",
      "2\n",
      "3\n",
      "4\n",
      "next\n",
      "1\n",
      "2\n",
      "3\n",
      "4\n",
      "next\n",
      "1\n",
      "2\n",
      "3\n",
      "4\n",
      "next\n",
      "1\n",
      "2\n",
      "3\n",
      "4\n",
      "next\n",
      "1\n",
      "2\n",
      "3\n",
      "4\n",
      "next\n",
      "end\n"
     ]
    }
   ],
   "source": [
    "i =1  #inti\n",
    "while i <= 5:\n",
    "    j =1 \n",
    "    while j<5:\n",
    "        print(j)\n",
    "        j= j+1\n",
    "    i = i +1\n",
    "    print(\"next\")\n",
    "print(\"end\")\n"
   ]
  },
  {
   "cell_type": "code",
   "execution_count": 91,
   "id": "5b5a322c-fcc5-4e1a-bbf3-ab719299fbf5",
   "metadata": {},
   "outputs": [
    {
     "name": "stdin",
     "output_type": "stream",
     "text": [
      "Enter the value of x 5\n"
     ]
    },
    {
     "name": "stdout",
     "output_type": "stream",
     "text": [
      "1\n",
      "2\n",
      "3\n",
      "4\n",
      "x increment 2\n",
      "1\n",
      "2\n",
      "3\n",
      "4\n",
      "x increment 3\n",
      "1\n",
      "2\n",
      "3\n",
      "4\n",
      "x increment 4\n",
      "1\n",
      "2\n",
      "3\n",
      "4\n",
      "x increment 5\n",
      "1\n",
      "2\n",
      "3\n",
      "4\n",
      "x increment 6\n",
      "end\n"
     ]
    }
   ],
   "source": [
    "#inti\n",
    "#condi\n",
    "#incre/decre\n",
    "\n",
    "n= int(input(\"Enter the value of x\"))\n",
    "x=1\n",
    "while x <= n:\n",
    "    y = 1\n",
    "    while y <= 4:\n",
    "        print(y)\n",
    "        y = y+1\n",
    "    x +=1\n",
    "    print(\"x increment\", x)\n",
    "print(\"end\")"
   ]
  },
  {
   "cell_type": "code",
   "execution_count": 97,
   "id": "cbc750aa-4cf8-45a7-8478-025bf96489d0",
   "metadata": {},
   "outputs": [
    {
     "name": "stdout",
     "output_type": "stream",
     "text": [
      "1\n",
      "1\n",
      "1\n",
      "increment z\n",
      "2\n",
      "increment z\n",
      "3\n",
      "increment z\n",
      "4\n",
      "increment z\n",
      "5\n",
      "increment z\n",
      "increment y\n",
      "2\n",
      "1\n",
      "increment z\n",
      "2\n",
      "increment z\n",
      "3\n",
      "increment z\n",
      "4\n",
      "increment z\n",
      "5\n",
      "increment z\n",
      "increment y\n",
      "3\n",
      "1\n",
      "increment z\n",
      "2\n",
      "increment z\n",
      "3\n",
      "increment z\n",
      "4\n",
      "increment z\n",
      "5\n",
      "increment z\n",
      "increment y\n",
      "4\n",
      "1\n",
      "increment z\n",
      "2\n",
      "increment z\n",
      "3\n",
      "increment z\n",
      "4\n",
      "increment z\n",
      "5\n",
      "increment z\n",
      "increment y\n",
      "5\n",
      "1\n",
      "increment z\n",
      "2\n",
      "increment z\n",
      "3\n",
      "increment z\n",
      "4\n",
      "increment z\n",
      "5\n",
      "increment z\n",
      "increment y\n",
      "increment x\n",
      "2\n",
      "1\n",
      "1\n",
      "increment z\n",
      "2\n",
      "increment z\n",
      "3\n",
      "increment z\n",
      "4\n",
      "increment z\n",
      "5\n",
      "increment z\n",
      "increment y\n",
      "2\n",
      "1\n",
      "increment z\n",
      "2\n",
      "increment z\n",
      "3\n",
      "increment z\n",
      "4\n",
      "increment z\n",
      "5\n",
      "increment z\n",
      "increment y\n",
      "3\n",
      "1\n",
      "increment z\n",
      "2\n",
      "increment z\n",
      "3\n",
      "increment z\n",
      "4\n",
      "increment z\n",
      "5\n",
      "increment z\n",
      "increment y\n",
      "4\n",
      "1\n",
      "increment z\n",
      "2\n",
      "increment z\n",
      "3\n",
      "increment z\n",
      "4\n",
      "increment z\n",
      "5\n",
      "increment z\n",
      "increment y\n",
      "5\n",
      "1\n",
      "increment z\n",
      "2\n",
      "increment z\n",
      "3\n",
      "increment z\n",
      "4\n",
      "increment z\n",
      "5\n",
      "increment z\n",
      "increment y\n",
      "increment x\n",
      "3\n",
      "1\n",
      "1\n",
      "increment z\n",
      "2\n",
      "increment z\n",
      "3\n",
      "increment z\n",
      "4\n",
      "increment z\n",
      "5\n",
      "increment z\n",
      "increment y\n",
      "2\n",
      "1\n",
      "increment z\n",
      "2\n",
      "increment z\n",
      "3\n",
      "increment z\n",
      "4\n",
      "increment z\n",
      "5\n",
      "increment z\n",
      "increment y\n",
      "3\n",
      "1\n",
      "increment z\n",
      "2\n",
      "increment z\n",
      "3\n",
      "increment z\n",
      "4\n",
      "increment z\n",
      "5\n",
      "increment z\n",
      "increment y\n",
      "4\n",
      "1\n",
      "increment z\n",
      "2\n",
      "increment z\n",
      "3\n",
      "increment z\n",
      "4\n",
      "increment z\n",
      "5\n",
      "increment z\n",
      "increment y\n",
      "5\n",
      "1\n",
      "increment z\n",
      "2\n",
      "increment z\n",
      "3\n",
      "increment z\n",
      "4\n",
      "increment z\n",
      "5\n",
      "increment z\n",
      "increment y\n",
      "increment x\n",
      "4\n",
      "1\n",
      "1\n",
      "increment z\n",
      "2\n",
      "increment z\n",
      "3\n",
      "increment z\n",
      "4\n",
      "increment z\n",
      "5\n",
      "increment z\n",
      "increment y\n",
      "2\n",
      "1\n",
      "increment z\n",
      "2\n",
      "increment z\n",
      "3\n",
      "increment z\n",
      "4\n",
      "increment z\n",
      "5\n",
      "increment z\n",
      "increment y\n",
      "3\n",
      "1\n",
      "increment z\n",
      "2\n",
      "increment z\n",
      "3\n",
      "increment z\n",
      "4\n",
      "increment z\n",
      "5\n",
      "increment z\n",
      "increment y\n",
      "4\n",
      "1\n",
      "increment z\n",
      "2\n",
      "increment z\n",
      "3\n",
      "increment z\n",
      "4\n",
      "increment z\n",
      "5\n",
      "increment z\n",
      "increment y\n",
      "5\n",
      "1\n",
      "increment z\n",
      "2\n",
      "increment z\n",
      "3\n",
      "increment z\n",
      "4\n",
      "increment z\n",
      "5\n",
      "increment z\n",
      "increment y\n",
      "increment x\n",
      "5\n",
      "1\n",
      "1\n",
      "increment z\n",
      "2\n",
      "increment z\n",
      "3\n",
      "increment z\n",
      "4\n",
      "increment z\n",
      "5\n",
      "increment z\n",
      "increment y\n",
      "2\n",
      "1\n",
      "increment z\n",
      "2\n",
      "increment z\n",
      "3\n",
      "increment z\n",
      "4\n",
      "increment z\n",
      "5\n",
      "increment z\n",
      "increment y\n",
      "3\n",
      "1\n",
      "increment z\n",
      "2\n",
      "increment z\n",
      "3\n",
      "increment z\n",
      "4\n",
      "increment z\n",
      "5\n",
      "increment z\n",
      "increment y\n",
      "4\n",
      "1\n",
      "increment z\n",
      "2\n",
      "increment z\n",
      "3\n",
      "increment z\n",
      "4\n",
      "increment z\n",
      "5\n",
      "increment z\n",
      "increment y\n",
      "5\n",
      "1\n",
      "increment z\n",
      "2\n",
      "increment z\n",
      "3\n",
      "increment z\n",
      "4\n",
      "increment z\n",
      "5\n",
      "increment z\n",
      "increment y\n",
      "increment x\n",
      "end\n"
     ]
    }
   ],
   "source": [
    "x = 1\n",
    "while x <=5:\n",
    "    print(x)\n",
    "    y = 1\n",
    "    while y <=5:\n",
    "        print(y)\n",
    "        z= 1\n",
    "        while z <=5:\n",
    "            print(z)\n",
    "            z+=1\n",
    "            print(\"increment z\")\n",
    "            \n",
    "        y+=1\n",
    "        print(\"increment y\")\n",
    "    x +=1\n",
    "    print(\"increment x\")\n",
    "print(\"end\")\n",
    "        "
   ]
  },
  {
   "cell_type": "code",
   "execution_count": 105,
   "id": "d5ad1070-966d-4600-8e40-297b0b022907",
   "metadata": {},
   "outputs": [
    {
     "name": "stdout",
     "output_type": "stream",
     "text": [
      "2\n",
      "3\n",
      "4\n",
      "5\n",
      "6\n",
      "inc 2\n",
      "2\n",
      "3\n",
      "4\n",
      "5\n",
      "6\n",
      "inc 3\n",
      "2\n",
      "3\n",
      "4\n",
      "5\n",
      "6\n",
      "inc 4\n",
      "2\n",
      "3\n",
      "4\n",
      "5\n",
      "6\n",
      "inc 5\n",
      "2\n",
      "3\n",
      "4\n",
      "5\n",
      "6\n",
      "inc 6\n",
      "end\n"
     ]
    }
   ],
   "source": [
    "i = 1\n",
    "while i <=5:\n",
    "    j = 1\n",
    "    while j <=5:\n",
    "        j=j+1\n",
    "        print(j)\n",
    "    i = i+1\n",
    "    print(\"inc\", i)\n",
    "print(\"end\")"
   ]
  },
  {
   "cell_type": "code",
   "execution_count": 113,
   "id": "b22e4bfb-5c68-47fe-8dd7-56a6ceeed0fd",
   "metadata": {},
   "outputs": [
    {
     "name": "stdout",
     "output_type": "stream",
     "text": [
      " 1  2  3  4  5  6  7  8  9 10 \n",
      " 2  4  6  8 10 12 14 16 18 20 \n",
      " 3  6  9 12 15 18 21 24 27 30 \n",
      " 4  8 12 16 20 24 28 32 36 40 \n",
      " 5 10 15 20 25 30 35 40 45 50 \n",
      " 6 12 18 24 30 36 42 48 54 60 \n",
      " 7 14 21 28 35 42 49 56 63 70 \n",
      " 8 16 24 32 40 48 56 64 72 80 \n",
      " 9 18 27 36 45 54 63 72 81 90 \n",
      "10 20 30 40 50 60 70 80 90 100 \n"
     ]
    }
   ],
   "source": [
    "for i in range(1, 11):\n",
    "    for j in range(1, 11):\n",
    "        print(f\"{i*j:2}\", end=\" \")\n",
    "    print()"
   ]
  },
  {
   "cell_type": "code",
   "execution_count": 140,
   "id": "144048bf-dcf6-4748-9b3f-18db59f2e3c6",
   "metadata": {},
   "outputs": [
    {
     "name": "stdout",
     "output_type": "stream",
     "text": [
      "1 2 3 4 5 6 7 8 9 10 \n",
      "2 4 6 8 10 12 14 16 18 20 \n",
      "3 6 9 12 15 18 21 24 27 30 \n",
      "4 8 12 16 20 24 28 32 36 40 \n",
      "5 10 15 20 25 30 35 40 45 50 \n",
      "6 12 18 24 30 36 42 48 54 60 \n",
      "7 14 21 28 35 42 49 56 63 70 \n",
      "8 16 24 32 40 48 56 64 72 80 \n",
      "9 18 27 36 45 54 63 72 81 90 \n",
      "10 20 30 40 50 60 70 80 90 100 \n"
     ]
    }
   ],
   "source": [
    "for i in range( 1, 11):\n",
    "    for j in range(1, 11):\n",
    "        print(i*j, end=\" \")\n",
    "    print()"
   ]
  },
  {
   "cell_type": "code",
   "execution_count": 148,
   "id": "2f6fafea-03d5-48d0-9df1-3676fee9305e",
   "metadata": {},
   "outputs": [
    {
     "name": "stdout",
     "output_type": "stream",
     "text": [
      " 1  2  3  4  5 \n",
      " 2  4  6  8 10 \n",
      " 3  6  9 12 15 \n",
      " 4  8 12 16 20 \n",
      " 5 10 15 20 25 \n"
     ]
    }
   ],
   "source": [
    "for i in range(1, 6): #first while loop \n",
    "    for j in range(1, 6): #nested into it\n",
    "        # print(i * j, end=\" \")\n",
    "        print(f\"{i*j:2}\",end=\" \")#action that we carry on it\n",
    "    print()\n",
    "        "
   ]
  },
  {
   "cell_type": "code",
   "execution_count": 150,
   "id": "5e16e556-7eda-4bdb-955a-c974194b3aac",
   "metadata": {},
   "outputs": [
    {
     "name": "stdout",
     "output_type": "stream",
     "text": [
      " 1  2  3  4  5 \n",
      " 2  4  6  8 10 \n",
      " 3  6  9 12 15 \n",
      " 4  8 12 16 20 \n",
      " 5 10 15 20 25 \n"
     ]
    }
   ],
   "source": [
    "i = 1 #init\n",
    "while i<=5: #condit\n",
    "    j=1 #next loop\n",
    "    while j<=5:#next loop condi\n",
    "        print(f\"{i*j:2}\",end=\" \")#action\n",
    "        j +=1 #incre for j\n",
    "    i +=1 #incer for i\n",
    "    print()"
   ]
  },
  {
   "cell_type": "code",
   "execution_count": 198,
   "id": "cdc470aa-b7f8-4390-a1d7-73f16ee84fa2",
   "metadata": {},
   "outputs": [
    {
     "name": "stdin",
     "output_type": "stream",
     "text": [
      "Enter the number till u want to print the table 5\n"
     ]
    },
    {
     "name": "stdout",
     "output_type": "stream",
     "text": [
      "1*1= 1 1*2= 2 1*3= 3 1*4= 4 1*5= 5 1*6= 6 1*7= 7 1*8= 8 1*9= 9 1*10=10 \n",
      "2*1= 2 2*2= 4 2*3= 6 2*4= 8 2*5=10 2*6=12 2*7=14 2*8=16 2*9=18 2*10=20 \n",
      "3*1= 3 3*2= 6 3*3= 9 3*4=12 3*5=15 3*6=18 3*7=21 3*8=24 3*9=27 3*10=30 \n",
      "4*1= 4 4*2= 8 4*3=12 4*4=16 4*5=20 4*6=24 4*7=28 4*8=32 4*9=36 4*10=40 \n",
      "5*1= 5 5*2=10 5*3=15 5*4=20 5*5=25 5*6=30 5*7=35 5*8=40 5*9=45 5*10=50 \n"
     ]
    }
   ],
   "source": [
    "#write a program to print n numbers of multiplication table\n",
    "n = int(input(\"Enter the number till u want to print the table\"))\n",
    "#using while loop\n",
    "x = 1\n",
    "while x <=n:\n",
    "    y= 1\n",
    "    while y<=10:\n",
    "        print(f\"{x}*{y}={x*y:2}\",end=\" \")\n",
    "        y +=1\n",
    "    x+=1\n",
    "    print()\n",
    "    "
   ]
  },
  {
   "cell_type": "code",
   "execution_count": 208,
   "id": "58ee61cb-bc1f-4f9e-aa24-2b44b3e1a496",
   "metadata": {},
   "outputs": [
    {
     "name": "stdout",
     "output_type": "stream",
     "text": [
      "1 2 3 4 5 \n",
      "2 4 6 8 10 \n",
      "3 6 9 12 15 \n",
      "4 8 12 16 20 \n",
      "5 10 15 20 25 \n"
     ]
    }
   ],
   "source": [
    "n = 5\n",
    "a = 1\n",
    "while a <=n:\n",
    "    b = 1\n",
    "    while b <=n:\n",
    "        print(a*b,end=\" \")\n",
    "        b +=1\n",
    "    a +=1\n",
    "    print()"
   ]
  },
  {
   "cell_type": "code",
   "execution_count": 218,
   "id": "1a9ae590-1aab-47e8-bb7f-db897f69bfc3",
   "metadata": {},
   "outputs": [
    {
     "name": "stdout",
     "output_type": "stream",
     "text": [
      "    *\n",
      "   ***\n",
      "  *****\n",
      " *******\n",
      "*********\n"
     ]
    }
   ],
   "source": [
    "# pyramid question using while loop\n",
    "rows = 5\n",
    "i = 1\n",
    "while i <= rows:\n",
    "    spaces = rows -i\n",
    "    while spaces > 0:\n",
    "        print(\" \",end=\"\")\n",
    "        spaces -=1\n",
    "        #num\n",
    "    stars = 2* i -1\n",
    "    while stars > 0:\n",
    "        print(\"*\", end=\"\")\n",
    "        stars -= 1\n",
    "    print()\n",
    "    i +=1\n"
   ]
  },
  {
   "cell_type": "code",
   "execution_count": 220,
   "id": "200f598f-d416-482c-8675-8ea4be008809",
   "metadata": {},
   "outputs": [
    {
     "name": "stdout",
     "output_type": "stream",
     "text": [
      "   1\n",
      "  222\n",
      " 33333\n",
      "4444444\n"
     ]
    }
   ],
   "source": [
    "rows = 4\n",
    "i = 1 #inti\n",
    "while i <=rows: #condi\n",
    "    spaces = rows -i\n",
    "    while spaces > 0:\n",
    "        print(\" \",end=\"\")\n",
    "        spaces -=1\n",
    "    #print numbre\n",
    "    numbers = 2 * i -1\n",
    "    while numbers> 0:\n",
    "        print(i , end=\"\")\n",
    "        numbers -=1\n",
    "    print() #move to the next line after each row\n",
    "    i +=1"
   ]
  },
  {
   "cell_type": "code",
   "execution_count": 1,
   "id": "76b408ae-2f2f-4c76-8015-6a9e5f938f1e",
   "metadata": {},
   "outputs": [
    {
     "name": "stdout",
     "output_type": "stream",
     "text": [
      "*****\n",
      "****\n",
      "***\n",
      "**\n",
      "*\n"
     ]
    }
   ],
   "source": [
    "#patterns questinos\n",
    "n = 5\n",
    "i = n\n",
    "while i > 0:\n",
    "    print('*' * i)\n",
    "    i -= 1"
   ]
  },
  {
   "cell_type": "code",
   "execution_count": 7,
   "id": "701fa7f9-a7df-4fd3-b508-bbf404d0a5cb",
   "metadata": {},
   "outputs": [
    {
     "name": "stdout",
     "output_type": "stream",
     "text": [
      "*\n",
      "**\n",
      "***\n",
      "****\n",
      "*****\n"
     ]
    }
   ],
   "source": [
    "n = 5 \n",
    "i =1\n",
    "while i <= n:\n",
    "    print('*' * i)\n",
    "    i +=1"
   ]
  },
  {
   "cell_type": "code",
   "execution_count": 7,
   "id": "6832acc8-5cb4-4493-b7f0-b59036c0736d",
   "metadata": {},
   "outputs": [
    {
     "name": "stdout",
     "output_type": "stream",
     "text": [
      "1 \n",
      "2 3 \n",
      "4 5 6 \n",
      "7 8 9 10 \n",
      "11 12 13 14 15 \n"
     ]
    }
   ],
   "source": [
    "n = 5\n",
    "i = 1\n",
    "num =1\n",
    "while i <=n:\n",
    "    j = 1\n",
    "    while j<=i:\n",
    "        print(num, end=\" \")\n",
    "        num +=1\n",
    "        j +=1\n",
    "    print()\n",
    "    i+=1"
   ]
  },
  {
   "cell_type": "code",
   "execution_count": 31,
   "id": "1441d4e0-1dac-4ab3-aa84-6196e69a9a93",
   "metadata": {},
   "outputs": [
    {
     "name": "stdout",
     "output_type": "stream",
     "text": [
      "len 3\n",
      "1\n",
      "3\n",
      "6\n",
      "next\n",
      "len 3\n",
      "10\n",
      "15\n",
      "21\n",
      "next\n",
      "len 3\n",
      "28\n",
      "36\n",
      "45\n",
      "next\n",
      "45\n"
     ]
    }
   ],
   "source": [
    "matrix = [\n",
    "    [1, 2, 3],\n",
    "    [4, 5, 6],\n",
    "    [7, 8, 9]\n",
    "]\n",
    "i = 0 #init\n",
    "sum_total = 0\n",
    "while i < len(matrix):\n",
    "    print(\"len\",len(matrix))\n",
    "    j = 0\n",
    "    while j < len(matrix[i]):\n",
    "        sum_total += matrix[i][j]\n",
    "        print(sum_total)\n",
    "        j +=1\n",
    "    i +=1\n",
    "    print(\"next\")\n",
    "print(sum_total)"
   ]
  },
  {
   "cell_type": "code",
   "execution_count": null,
   "id": "42fc4c4e-075d-4c56-9bc5-2ffbdc537b95",
   "metadata": {},
   "outputs": [],
   "source": []
  }
 ],
 "metadata": {
  "kernelspec": {
   "display_name": "Python 3 (ipykernel)",
   "language": "python",
   "name": "python3"
  },
  "language_info": {
   "codemirror_mode": {
    "name": "ipython",
    "version": 3
   },
   "file_extension": ".py",
   "mimetype": "text/x-python",
   "name": "python",
   "nbconvert_exporter": "python",
   "pygments_lexer": "ipython3",
   "version": "3.12.4"
  }
 },
 "nbformat": 4,
 "nbformat_minor": 5
}
