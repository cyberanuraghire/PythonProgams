{
 "cells": [
  {
   "cell_type": "markdown",
   "id": "3ad69099-1af1-4310-8513-f215661ceedb",
   "metadata": {},
   "source": [
    "numPy is a python libray \n",
    "50 times faster than list \n",
    "numpy stands for numerical python \n",
    "numpy and list difference \n",
    "why is it faster than list \n",
    "numpy is usually imported as np\n"
   ]
  },
  {
   "cell_type": "code",
   "execution_count": 1,
   "id": "5c43d7e9-1356-4afb-b04a-1d47fd1b6867",
   "metadata": {},
   "outputs": [
    {
     "name": "stdout",
     "output_type": "stream",
     "text": [
      "1.26.4\n"
     ]
    }
   ],
   "source": [
    "import numpy as np # to import the numpy\n",
    "print(np.__version__) #to check the version "
   ]
  },
  {
   "cell_type": "code",
   "execution_count": null,
   "id": "8768b611-cd08-40cb-a4be-05be29639a81",
   "metadata": {},
   "outputs": [],
   "source": [
    "creating a numpy ndarrry object "
   ]
  },
  {
   "cell_type": "code",
   "execution_count": 5,
   "id": "207c1d84-cc1e-4823-87d3-761e5b6aea4e",
   "metadata": {},
   "outputs": [
    {
     "name": "stdout",
     "output_type": "stream",
     "text": [
      "[1 2 3 4 5 6]\n",
      "<class 'builtin_function_or_method'>\n"
     ]
    }
   ],
   "source": [
    "import numpy as np # import numpy\n",
    "arr = np.array([1,2,3,4,5,6])\n",
    "print(arr)\n",
    "print(type(np.array))"
   ]
  },
  {
   "cell_type": "code",
   "execution_count": 29,
   "id": "62db9ce1-2566-47a8-aee2-0c6c2e690631",
   "metadata": {},
   "outputs": [
    {
     "name": "stdout",
     "output_type": "stream",
     "text": [
      "[1 2 3 4 5 6]\n",
      "<class 'numpy.ndarray'>\n",
      "1\n"
     ]
    }
   ],
   "source": [
    "import numpy as np\n",
    "arr = np.array((1,2,3,4,5,6))\n",
    "print(arr)\n",
    "print(type(arr))\n",
    "print(arr.ndim) #one dimension "
   ]
  },
  {
   "cell_type": "code",
   "execution_count": 27,
   "id": "dec23a8d-133a-476b-80fa-7d4215d10972",
   "metadata": {},
   "outputs": [
    {
     "name": "stdout",
     "output_type": "stream",
     "text": [
      "2\n",
      "<class 'numpy.ndarray'>\n",
      "0\n"
     ]
    }
   ],
   "source": [
    "import numpy as np\n",
    "arr = np.array(2)\n",
    "print(arr)\n",
    "print(type(arr))\n",
    "print(arr.ndim) #zero dimension "
   ]
  },
  {
   "cell_type": "code",
   "execution_count": 23,
   "id": "2d277063-c2c4-4307-8bb0-7ca8d9076949",
   "metadata": {},
   "outputs": [
    {
     "name": "stdout",
     "output_type": "stream",
     "text": [
      "[[1 2 3]\n",
      " [4 5 6]]\n",
      "<class 'numpy.ndarray'>\n",
      "2\n"
     ]
    }
   ],
   "source": [
    "#2D array matrix will be created \n",
    "import numpy as np\n",
    "arr = np.array([[1,2,3],[4,5,6]])\n",
    "print(arr)\n",
    "print(type(arr))\n",
    "print(arr.ndim) #to check the dimension "
   ]
  },
  {
   "cell_type": "code",
   "execution_count": 25,
   "id": "393a1440-1b64-463b-a23f-1e6ec97a1ea3",
   "metadata": {},
   "outputs": [
    {
     "name": "stdout",
     "output_type": "stream",
     "text": [
      "[[1 2 3]\n",
      " [4 5 6]]\n",
      "2\n"
     ]
    }
   ],
   "source": [
    "# 3d array  tenser\n",
    "import numpy as np\n",
    "arr_id = np.array([[[1,2,3], [4,5,6]], [[7,8,9],[4,5,6]]])\n",
    "print(arr)\n",
    "print(arr.ndim)\n"
   ]
  },
  {
   "cell_type": "code",
   "execution_count": null,
   "id": "9fd6d14b-9480-40b7-b599-7d29fd55e541",
   "metadata": {},
   "outputs": [],
   "source": [
    "import numpy as np\n",
    "a = np.array([[[1,2,3],[4,5,6],[[1,2,3],[]])"
   ]
  },
  {
   "cell_type": "code",
   "execution_count": 1,
   "id": "2b99f029-8531-445b-99af-186d1eb5c602",
   "metadata": {},
   "outputs": [
    {
     "name": "stdout",
     "output_type": "stream",
     "text": [
      "1\n",
      "6\n",
      "5\n"
     ]
    }
   ],
   "source": [
    "import numpy as np\n",
    "arr = np.array([1,2,3,4,5,6])\n",
    "print(arr[0]) #indexing the \n",
    "print(arr[-1]) #acces the last item\n",
    "print(arr[-2])#similar as we used earlier"
   ]
  },
  {
   "cell_type": "code",
   "execution_count": 73,
   "id": "0f46242b-a924-47cf-90b7-52625045d622",
   "metadata": {},
   "outputs": [
    {
     "name": "stdout",
     "output_type": "stream",
     "text": [
      "[4 5]\n",
      "[2 3 4]\n",
      "[5 6]\n",
      "[4 5 6]\n",
      "[4 5 6]\n",
      "[2 4]\n",
      "<class 'numpy.ndarray'>\n",
      "int32\n"
     ]
    }
   ],
   "source": [
    "#slicing of 1D array \n",
    "import numpy as np\n",
    "arr = np.array([1,2,3,4,5,6])\n",
    "print(arr[3:5]) #slicing the elements in the array \n",
    "print(arr[-5:-2]) #array[start:end]\n",
    "print(arr[4:]) #start\n",
    "print(arr[3:])\n",
    "print(arr[-3:])\n",
    "print(arr[1:5:2]) #arr[start:end:step]\n",
    "print(type(arr))\n",
    "print(arr.dtype) #to check the data type of the array #int will be displayed "
   ]
  },
  {
   "cell_type": "code",
   "execution_count": 75,
   "id": "5fd60cea-933a-412f-8db6-d8edf97f45af",
   "metadata": {},
   "outputs": [
    {
     "name": "stdout",
     "output_type": "stream",
     "text": [
      "<U6\n"
     ]
    }
   ],
   "source": [
    "import numpy as np\n",
    "arr = np.array((\"anurag\"))\n",
    "print(arr.dtype)"
   ]
  },
  {
   "cell_type": "code",
   "execution_count": 81,
   "id": "bbf41139-6905-4aba-a7d9-10349a474b1a",
   "metadata": {},
   "outputs": [
    {
     "name": "stdout",
     "output_type": "stream",
     "text": [
      "<U7\n",
      "<class 'numpy.ndarray'>\n",
      "1\n"
     ]
    }
   ],
   "source": [
    "import numpy as np\n",
    "arr = np.array(['red','blue','megenta','puruple'])\n",
    "print(arr.dtype)\n",
    "print(type(arr))\n",
    "print(arr.ndim)"
   ]
  },
  {
   "cell_type": "code",
   "execution_count": 83,
   "id": "f7123058-ec3e-4636-bd48-e6abd5d7f0af",
   "metadata": {},
   "outputs": [
    {
     "name": "stdout",
     "output_type": "stream",
     "text": [
      "[1 2 3 4 5 6]\n"
     ]
    }
   ],
   "source": [
    "import numpy as np \n",
    "arr1= np.array([1,2,3])\n",
    "arr2= np.array([4,5,6])\n",
    "arr3= np.concatenate((arr1,arr2)) #join two array arr1 and arr2 using \n",
    "#np.concatenate()\n",
    "print(arr3)"
   ]
  },
  {
   "cell_type": "code",
   "execution_count": 85,
   "id": "fb0322b5-32c2-4493-9b2c-b3458d33c75b",
   "metadata": {},
   "outputs": [
    {
     "name": "stdout",
     "output_type": "stream",
     "text": [
      "[1 2 3 4 5 6 7 8 9]\n"
     ]
    }
   ],
   "source": [
    "arr1 =np.array([1,2,3])\n",
    "arr2 = np.array([4,5,6])\n",
    "arr3 = np.array([7,8,9])\n",
    "arr=np.concatenate([arr1,arr2,arr3])\n",
    "# np.concatenate\n",
    "print(arr)"
   ]
  },
  {
   "cell_type": "code",
   "execution_count": 91,
   "id": "57dfc08f-7c28-4161-a7ef-b5c7c3a01c7a",
   "metadata": {},
   "outputs": [
    {
     "name": "stdout",
     "output_type": "stream",
     "text": [
      "2\n",
      "[[1 2 3 4]\n",
      " [5 6 7 8]]\n",
      "(2, 4)\n"
     ]
    }
   ],
   "source": [
    "#Get the shape of an array \n",
    "arr = np.array([[1,2,3,4],[5,6,7,8]])\n",
    "print(arr.ndim)\n",
    "print(arr)\n",
    "print(arr.shape) #The shape of an array is the number of elements in each dimension."
   ]
  },
  {
   "cell_type": "code",
   "execution_count": 105,
   "id": "a478fa42-9987-4a26-8182-53270a7d3537",
   "metadata": {},
   "outputs": [
    {
     "name": "stdout",
     "output_type": "stream",
     "text": [
      "1\n",
      "[1 2 3]\n",
      "(3,)\n"
     ]
    }
   ],
   "source": [
    "#Get the shape of an array \n",
    "arr = np.array([1,2,3])\n",
    "print(arr.ndim)\n",
    "print(arr)\n",
    "print(arr.shape) #The shape of an array is the number of elements in each dimension."
   ]
  },
  {
   "cell_type": "code",
   "execution_count": 101,
   "id": "cd322e69-82ee-4716-8ceb-d433e2f1746c",
   "metadata": {},
   "outputs": [
    {
     "name": "stdout",
     "output_type": "stream",
     "text": [
      "2\n",
      "[[1 2 3 0]\n",
      " [5 6 7 8]]\n",
      "(2, 4)\n"
     ]
    }
   ],
   "source": [
    "#Get the shape of an array \n",
    "arr = np.array([[1,2,3,4],[5,6,7,8]])\n",
    "print(arr.ndim)\n",
    "print(arr)\n",
    "print(arr.shape) #The shape of an array is the number of elements in each dimension."
   ]
  },
  {
   "cell_type": "code",
   "execution_count": 111,
   "id": "ab43ffad-639a-4660-9bf3-84b16a4ec4d9",
   "metadata": {},
   "outputs": [
    {
     "name": "stdout",
     "output_type": "stream",
     "text": [
      "[[ 1  2  3]\n",
      " [ 4  5  6]\n",
      " [ 7  8  9]\n",
      " [10 11 12]]\n"
     ]
    }
   ],
   "source": [
    "#reshaping from 1-D to 2-D\n",
    "import numpy as np\n",
    "arr = np.array([1,2,3,4,5,6,7,8,9,10,11,12])\n",
    "newarr = arr.reshape(4,3) \n",
    "#4 || columns  \n",
    "# -- 3 rows \n",
    "#multiplication should be the numbers of total elemets in the array ie 4*3 = 12 ie 12 elements should be present in the arry \n",
    "\n",
    "print(newarr)"
   ]
  },
  {
   "cell_type": "code",
   "execution_count": 113,
   "id": "277779c0-cd34-42f7-a06d-3f6d111d3153",
   "metadata": {},
   "outputs": [
    {
     "name": "stdout",
     "output_type": "stream",
     "text": [
      "[[1 2 3]\n",
      " [4 5 6]\n",
      " [7 8 9]]\n"
     ]
    }
   ],
   "source": [
    "#reshaping from 1-D to 2-D\n",
    "import numpy as np\n",
    "arr = np.array([1,2,3,4,5,6,7,8,9]) #9 elements \n",
    "newarr = arr.reshape(3,3) #3row and 3 column\n",
    "#multiplication should be the numbers of total elemets in the array ie 3*3 = 9 ie 9 elements should be present in the arry \n",
    "\n",
    "print(newarr)"
   ]
  },
  {
   "cell_type": "code",
   "execution_count": 119,
   "id": "aa0b4c9d-6a21-47c0-ad10-061ff1740dd4",
   "metadata": {},
   "outputs": [
    {
     "name": "stdout",
     "output_type": "stream",
     "text": [
      "[[1 2]\n",
      " [3 4]\n",
      " [5 6]]\n",
      "[[1 2 3]\n",
      " [4 5 6]]\n"
     ]
    }
   ],
   "source": [
    "#reshaping from 1-D to 2-D\n",
    "import numpy as np\n",
    "arr = np.array([1,2,3,4,5,6]) #6lements \n",
    "newarr = arr.reshape(3,2) #3 colum 2 rows #multiplication should be the numbers of total elemets in the array ie 3*2 = 6 ie 6elements should be present in the arry \n",
    "newarr2 = arr.reshape(2,3) #2 columns 3 rows \n",
    "print(newarr)\n",
    "print(newarr2)"
   ]
  },
  {
   "cell_type": "code",
   "execution_count": 127,
   "id": "6f839290-8125-4dea-96d4-72983bb69968",
   "metadata": {},
   "outputs": [],
   "source": [
    "# mathematical operations using numpy"
   ]
  },
  {
   "cell_type": "code",
   "execution_count": 129,
   "id": "df80dc31-1021-472f-9c2a-6ee66939aeab",
   "metadata": {},
   "outputs": [
    {
     "name": "stdout",
     "output_type": "stream",
     "text": [
      "[1 2 3 4 5 6 7 8 9]\n"
     ]
    }
   ],
   "source": [
    "#range function in array \n",
    "import numpy as np\n",
    "ar_id = np.arange(1,10) #np.arange(start, stop, step)\n",
    "print(ar_id)"
   ]
  },
  {
   "cell_type": "code",
   "execution_count": 5,
   "id": "efde1195-0fb1-4e24-9d34-4ce44f4642cc",
   "metadata": {},
   "outputs": [
    {
     "name": "stdout",
     "output_type": "stream",
     "text": [
      "[[1 2 3]\n",
      " [4 5 6]\n",
      " [7 8 9]]\n"
     ]
    }
   ],
   "source": [
    "arr1 = np.arange(1,10)\n",
    "arr = arr1.reshape(3,3)\n",
    "print(arr)\n"
   ]
  },
  {
   "cell_type": "code",
   "execution_count": 145,
   "id": "5b79b2fd-9f24-4fa3-9471-786721e3cfed",
   "metadata": {},
   "outputs": [
    {
     "name": "stdout",
     "output_type": "stream",
     "text": [
      "[[1 2 3]\n",
      " [4 5 6]\n",
      " [7 8 9]]\n",
      "[[1 2 3]\n",
      " [4 5 6]\n",
      " [7 8 9]]\n"
     ]
    }
   ],
   "source": [
    "arr1 = np.arange(1,10).reshape(3,3) #we take the range in 1 D and then reshape in  intwo 2D array uing \n",
    "arr2 = np.arange(1,10).reshape(3,3)\n",
    "print(arr2)\n",
    "print(arr1)"
   ]
  },
  {
   "cell_type": "code",
   "execution_count": 157,
   "id": "a51bae5c-3caa-46e9-a078-664d49952710",
   "metadata": {},
   "outputs": [
    {
     "name": "stdout",
     "output_type": "stream",
     "text": [
      "[[0 0 0]\n",
      " [0 0 0]\n",
      " [0 0 0]]\n",
      "[[ 2  4  6]\n",
      " [ 8 10 12]\n",
      " [14 16 18]]\n",
      "[[ 1  4  9]\n",
      " [16 25 36]\n",
      " [49 64 81]]\n",
      "[[1. 1. 1.]\n",
      " [1. 1. 1.]\n",
      " [1. 1. 1.]]\n"
     ]
    }
   ],
   "source": [
    "print(arr1-arr2)\n",
    "print(arr1+arr2)\n",
    "print(arr1*arr2)\n",
    "print(arr1/arr2)"
   ]
  },
  {
   "cell_type": "raw",
   "id": "b85fb0c3-bab2-47cb-a70b-e123dd7d8fe6",
   "metadata": {},
   "source": [
    "print(arr1*arr2)"
   ]
  },
  {
   "cell_type": "markdown",
   "id": "747090b5-fc6e-480b-84b0-8d4a390fc894",
   "metadata": {},
   "source": [
    "Numpay Array Iterating "
   ]
  },
  {
   "cell_type": "code",
   "execution_count": 10,
   "id": "d750d398-0117-4643-b06a-a6c2a780cc35",
   "metadata": {},
   "outputs": [
    {
     "name": "stdout",
     "output_type": "stream",
     "text": [
      "1\n",
      "2\n",
      "3\n",
      "4\n",
      "5\n",
      "6\n"
     ]
    }
   ],
   "source": [
    "import numpy as np\n",
    "arr = np.array([1,2,3,4,5,6])\n",
    "for x in arr:\n",
    "    print(x)"
   ]
  },
  {
   "cell_type": "code",
   "execution_count": 18,
   "id": "c07cd720-28eb-4390-b57b-52bb9c516be9",
   "metadata": {},
   "outputs": [
    {
     "name": "stdout",
     "output_type": "stream",
     "text": [
      "[1 2 3 4]\n",
      "[1 2 3 4]\n"
     ]
    }
   ],
   "source": [
    "# iterating in 2 D\n",
    "import numpy as np\n",
    "arr2 = np.array([[1,2,3,4],[1,2,3,4]]) #2D array \n",
    "for x in arr2:\n",
    "    print(x)"
   ]
  },
  {
   "cell_type": "code",
   "execution_count": 20,
   "id": "183da303-52ea-4194-a35d-1e9d482689f4",
   "metadata": {},
   "outputs": [],
   "source": [
    "#iterating in 3D\n"
   ]
  },
  {
   "cell_type": "code",
   "execution_count": 28,
   "id": "82f89bab-02a3-48b6-9fa1-7fb30d958cfd",
   "metadata": {},
   "outputs": [
    {
     "name": "stdout",
     "output_type": "stream",
     "text": [
      "[[1 2 3]\n",
      " [4 5 6]]\n",
      "[[ 7  8  9]\n",
      " [10 11 12]]\n"
     ]
    }
   ],
   "source": [
    "import numpy as np\n",
    "arr = np.array([[[1,2,3],[4,5,6]],[[7,8,9],[10,11,12]]]) #in a 3D array it will go through all the 2-D arrays.\n",
    "for x in arr:\n",
    "    print(x)"
   ]
  },
  {
   "cell_type": "markdown",
   "id": "d526c3f0-8b31-495b-b374-d3e6005c0370",
   "metadata": {},
   "source": [
    "Spliting Numpy Arrays\n",
    "array_split()"
   ]
  },
  {
   "cell_type": "code",
   "execution_count": 37,
   "id": "6ab7b573-86e0-4f1d-9500-879d37838808",
   "metadata": {},
   "outputs": [
    {
     "name": "stdout",
     "output_type": "stream",
     "text": [
      "[array([1, 2, 3]), array([4, 5, 6])]\n"
     ]
    }
   ],
   "source": [
    "import numpy as np\n",
    "arr = np.array([1,2,3,4,5,6])\n",
    "newarr = np.array_split(arr, 2) #split the array into the desired number that u gona pass in it np.array_split(arrayname, no)\n",
    "print(newarr)"
   ]
  },
  {
   "cell_type": "code",
   "execution_count": 47,
   "id": "63242e84-0be1-4ca5-b008-62f515a2969a",
   "metadata": {},
   "outputs": [
    {
     "name": "stdout",
     "output_type": "stream",
     "text": [
      "[array(['a', 'b'], dtype='<U1'), array(['c', 'd'], dtype='<U1'), array(['e', 'f'], dtype='<U1')]\n",
      "['a' 'b']\n",
      "['e' 'f']\n"
     ]
    }
   ],
   "source": [
    "import numpy as np\n",
    "arr = np.array([\"a\",\"b\",\"c\",\"d\",\"e\",\"f\"])\n",
    "newarr = np.array_split(arr, 3) #split into 3 parts \n",
    "print(newarr)\n",
    "print(newarr[0]) #check the index of split array using these\n",
    "print(newarr[2])\n"
   ]
  },
  {
   "cell_type": "markdown",
   "id": "2588c497-2ce7-4d3f-81c4-d6fd706c5351",
   "metadata": {},
   "source": [
    "Numpy Searching Arrays\n",
    "you can search an array for a certain value and return the indexes that get a match\n",
    "it will return the index value of the element that we want to search\n"
   ]
  },
  {
   "cell_type": "code",
   "execution_count": 64,
   "id": "38c03ec4-5852-411d-b53a-032ca9fb1fec",
   "metadata": {},
   "outputs": [
    {
     "name": "stdout",
     "output_type": "stream",
     "text": [
      "(array([4], dtype=int64),)\n",
      "(array([0, 3, 6], dtype=int64),)\n"
     ]
    }
   ],
   "source": [
    "import numpy as np\n",
    "arr = np.array([\"red\",\"yellow\",\"black\",\"red\",\"grey\",\"blue\",\"red\"])\n",
    "x = np.where(arr=='red') #these condition wtil search for the stuff and return the index value\n",
    "y = np.where(arr==\"grey\")\n",
    "print(y)\n",
    "print(x)"
   ]
  },
  {
   "cell_type": "code",
   "execution_count": 74,
   "id": "d437be6f-ffc9-4065-945f-120f06feb66b",
   "metadata": {},
   "outputs": [
    {
     "name": "stdout",
     "output_type": "stream",
     "text": [
      "(array([ 0,  2,  4,  6,  8, 10], dtype=int64),)\n",
      "(array([ 1,  3,  5,  7,  9, 11], dtype=int64),)\n"
     ]
    }
   ],
   "source": [
    "import numpy as np\n",
    "arr = np.array([1,2,3,4,5,6,7,8,9,10,11,12])\n",
    "x = np.where(arr%2==0) #these will print the index of all even numbers\n",
    "y = np.where(arr%2!=0) #these will print the inex of all odd numbes\n",
    "print(y)\n",
    "print(x)"
   ]
  },
  {
   "cell_type": "code",
   "execution_count": 78,
   "id": "5c35d743-9089-4bfd-9beb-4e8ea1d87f5f",
   "metadata": {},
   "outputs": [],
   "source": [
    "import numpy as np\n",
    "arr = np.array([1,2,3,4,5,6,7,8,9,10,11,12])\n",
    "# for x in arr:\n",
    "#     if(x%2==0):\n",
    "#         print(x)"
   ]
  },
  {
   "cell_type": "markdown",
   "id": "bb4ec7d1-d6e4-4cc6-939a-51ab35a2bd66",
   "metadata": {},
   "source": [
    "Numpy sorting Array\n"
   ]
  },
  {
   "cell_type": "code",
   "execution_count": 81,
   "id": "5e9872f5-95aa-42dc-ab71-f56f0a0f8096",
   "metadata": {},
   "outputs": [],
   "source": [
    "#soring Array\n",
    "#sorting means putting elements n an ordered sequence \n",
    "#Numpy ndarray object has a function called sort(), that will sort a sepecified array\n",
    "np.sort()"
   ]
  },
  {
   "cell_type": "code",
   "execution_count": 83,
   "id": "32240e96-7e80-4180-8c50-c07068ff4469",
   "metadata": {},
   "outputs": [
    {
     "name": "stdout",
     "output_type": "stream",
     "text": [
      "[  1   3   4   5   6   7  33  45  56 223]\n"
     ]
    }
   ],
   "source": [
    "import numpy as np\n",
    "arr = np.array([3,4,5,33,45,6,7,223,56,1])\n",
    "print(np.sort(arr)) #in increasing order #ascending "
   ]
  },
  {
   "cell_type": "code",
   "execution_count": 85,
   "id": "67c92012-a332-4b31-a885-485e74984448",
   "metadata": {},
   "outputs": [
    {
     "name": "stdout",
     "output_type": "stream",
     "text": [
      "['a' 'e' 'g' 'j' 'm' 'z']\n"
     ]
    }
   ],
   "source": [
    "import numpy as np\n",
    "arr = np.array([\"e\",\"z\",\"a\",\"g\",\"m\",\"j\"])\n",
    "print(np.sort(arr))"
   ]
  },
  {
   "cell_type": "code",
   "execution_count": 91,
   "id": "67fda623-3ef1-4d29-b336-9aad353e7679",
   "metadata": {},
   "outputs": [
    {
     "name": "stdout",
     "output_type": "stream",
     "text": [
      "[223  56  45  33   7   6   5   4   3   1]\n"
     ]
    }
   ],
   "source": [
    "import numpy as np\n",
    "arr = np.array([3,4,5,33,45,6,7,223,56,1])\n",
    "print(np.sort(arr)[::-1]) #for decending "
   ]
  },
  {
   "cell_type": "markdown",
   "id": "c54a239f-a0cd-4d3a-816d-1fd0857100c0",
   "metadata": {},
   "source": [
    "getting some elements \n",
    "u can filter an array using a boolean indx "
   ]
  },
  {
   "cell_type": "code",
   "execution_count": 111,
   "id": "d5300d9a-a17f-4e28-8b6e-83d7429a63e9",
   "metadata": {},
   "outputs": [
    {
     "name": "stdout",
     "output_type": "stream",
     "text": [
      "[False  True False  True]\n",
      "[42 44]\n"
     ]
    }
   ],
   "source": [
    "import numpy as np\n",
    "arr = np.array([41,42,43,44])\n",
    "filter_arr = arr>42\n",
    "filter_arr = arr%2==0 #check for even number\n",
    "newarr=arr[filter_arr]\n",
    "print(filter_arr)\n",
    "print(newarr)\n"
   ]
  },
  {
   "cell_type": "code",
   "execution_count": 113,
   "id": "131b08fe-2a52-442d-80ac-3cfc88283407",
   "metadata": {},
   "outputs": [
    {
     "name": "stdout",
     "output_type": "stream",
     "text": [
      "[2 4 6]\n"
     ]
    }
   ],
   "source": [
    "import numpy as np\n",
    "arr = np.array([1,2,3,4,5,6,7])\n",
    "filter_arr = arr %2 ==0\n",
    "newarr = arr[filter_arr]\n",
    "print(newarr)"
   ]
  },
  {
   "cell_type": "raw",
   "id": "ef0e6a90-6a20-4890-8bb8-5b9d5a674a2f",
   "metadata": {},
   "source": [
    "numpy #methods "
   ]
  },
  {
   "cell_type": "code",
   "execution_count": 123,
   "id": "2ff359bf-c2c2-486c-8301-ee600e468f6b",
   "metadata": {},
   "outputs": [
    {
     "data": {
      "text/plain": [
       "array([[1., 1., 1., 1., 1.],\n",
       "       [1., 1., 1., 1., 1.],\n",
       "       [1., 1., 1., 1., 1.],\n",
       "       [1., 1., 1., 1., 1.],\n",
       "       [1., 1., 1., 1., 1.]])"
      ]
     },
     "execution_count": 123,
     "metadata": {},
     "output_type": "execute_result"
    }
   ],
   "source": [
    "#creating ndarrays of zeros  nd=ndimensional array\n",
    "np.ones((5,5)) #(rows,columns) all ones "
   ]
  },
  {
   "cell_type": "code",
   "execution_count": 125,
   "id": "4ec24412-e03b-45bd-9ab2-dc3e6dc32ef4",
   "metadata": {},
   "outputs": [
    {
     "data": {
      "text/plain": [
       "array([[[1., 1., 1., 1.],\n",
       "        [1., 1., 1., 1.]],\n",
       "\n",
       "       [[1., 1., 1., 1.],\n",
       "        [1., 1., 1., 1.]],\n",
       "\n",
       "       [[1., 1., 1., 1.],\n",
       "        [1., 1., 1., 1.]]])"
      ]
     },
     "execution_count": 125,
     "metadata": {},
     "output_type": "execute_result"
    }
   ],
   "source": [
    "np.ones((3,2,4)) #3dim 2-rows 4-column"
   ]
  },
  {
   "cell_type": "code",
   "execution_count": 141,
   "id": "89cbe9cf-cc2e-47ca-9748-9f75cc4c099b",
   "metadata": {},
   "outputs": [
    {
     "data": {
      "text/plain": [
       "array([[1, 1, 1, 1, 1],\n",
       "       [1, 1, 1, 1, 1],\n",
       "       [1, 1, 1, 1, 1],\n",
       "       [1, 1, 1, 1, 1],\n",
       "       [1, 1, 1, 1, 1]])"
      ]
     },
     "execution_count": 141,
     "metadata": {},
     "output_type": "execute_result"
    }
   ],
   "source": [
    "import numpy as np\n",
    "np.ones((5,5),dtype=int) #specifically get it in the desired data type like here it int in above it was double"
   ]
  },
  {
   "cell_type": "code",
   "execution_count": 135,
   "id": "07bf9672-2871-40fd-8627-2cd9143ea4b6",
   "metadata": {},
   "outputs": [
    {
     "data": {
      "text/plain": [
       "array([[0., 0., 0., 0.],\n",
       "       [0., 0., 0., 0.],\n",
       "       [0., 0., 0., 0.]])"
      ]
     },
     "execution_count": 135,
     "metadata": {},
     "output_type": "execute_result"
    }
   ],
   "source": [
    "np.zeros((3,4))"
   ]
  },
  {
   "cell_type": "code",
   "execution_count": 137,
   "id": "5bba1312-766a-4ea3-9d91-0ab2cb713166",
   "metadata": {},
   "outputs": [
    {
     "data": {
      "text/plain": [
       "array([[[0., 0., 0., 0.],\n",
       "        [0., 0., 0., 0.]],\n",
       "\n",
       "       [[0., 0., 0., 0.],\n",
       "        [0., 0., 0., 0.]],\n",
       "\n",
       "       [[0., 0., 0., 0.],\n",
       "        [0., 0., 0., 0.]]])"
      ]
     },
     "execution_count": 137,
     "metadata": {},
     "output_type": "execute_result"
    }
   ],
   "source": [
    "np.zeros((3,2,4))"
   ]
  },
  {
   "cell_type": "code",
   "execution_count": 143,
   "id": "b10e92c9-b3b5-4b2d-b338-80ffd38aa1dd",
   "metadata": {},
   "outputs": [
    {
     "data": {
      "text/plain": [
       "array([[1., 0., 0.],\n",
       "       [0., 1., 0.],\n",
       "       [0., 0., 1.]])"
      ]
     },
     "execution_count": 143,
     "metadata": {},
     "output_type": "execute_result"
    }
   ],
   "source": [
    "#creating ndarray \n",
    "#creating an identity matrix \n",
    "np.eye(3) "
   ]
  },
  {
   "cell_type": "code",
   "execution_count": 153,
   "id": "dcddedd7-0050-4a75-b7c8-dff24cab5903",
   "metadata": {},
   "outputs": [
    {
     "data": {
      "text/plain": [
       "3"
      ]
     },
     "execution_count": 153,
     "metadata": {},
     "output_type": "execute_result"
    }
   ],
   "source": [
    "#random int\n",
    "#create a random inter within the given range\n",
    "np.random.randint(1,10)"
   ]
  },
  {
   "cell_type": "code",
   "execution_count": 155,
   "id": "2adca442-238e-4209-b677-a44d9a5072c8",
   "metadata": {},
   "outputs": [
    {
     "data": {
      "text/plain": [
       "35"
      ]
     },
     "execution_count": 155,
     "metadata": {},
     "output_type": "execute_result"
    }
   ],
   "source": [
    "np.random.randint(50)"
   ]
  },
  {
   "cell_type": "code",
   "execution_count": 163,
   "id": "9694bba5-3f93-46d5-8526-1d0c850ac985",
   "metadata": {},
   "outputs": [
    {
     "data": {
      "text/plain": [
       "array([76, 93])"
      ]
     },
     "execution_count": 163,
     "metadata": {},
     "output_type": "execute_result"
    }
   ],
   "source": [
    "np.random.randint(1, 150, 2) #\n"
   ]
  },
  {
   "cell_type": "code",
   "execution_count": 171,
   "id": "8c7294dc-ec12-432c-89be-155bda76f838",
   "metadata": {},
   "outputs": [
    {
     "name": "stdout",
     "output_type": "stream",
     "text": [
      "[[1 2 3]\n",
      " [4 5 6]\n",
      " [7 8 9]]\n",
      "[[1 4 7]\n",
      " [2 5 8]\n",
      " [3 6 9]]\n"
     ]
    }
   ],
   "source": [
    "#transpose = convert rows into column and columns into rows\n",
    "import numpy as np\n",
    "arr = np.array([1,2,3,4,5,6,7,8,9]) #9 elements \n",
    "newarr = arr.reshape(3,3) #3row and 3 column\n",
    "print(newarr)\n",
    "newarr2 = newarr.T\n",
    "print(newarr2)"
   ]
  },
  {
   "cell_type": "code",
   "execution_count": null,
   "id": "362fcbaa-5b3d-47c7-b15b-c7a62e530527",
   "metadata": {},
   "outputs": [],
   "source": [
    "import numpy as np\n",
    "arr = np.array([12,12,49,60,40,39])"
   ]
  },
  {
   "cell_type": "raw",
   "id": "fefb4d01-f0dd-44c9-a3f8-9b1972a5298a",
   "metadata": {},
   "source": [
    "#seed function in numpy IMP\n"
   ]
  },
  {
   "cell_type": "code",
   "execution_count": 179,
   "id": "3aea41bc-73a6-4ab5-84f9-486b8544378f",
   "metadata": {},
   "outputs": [
    {
     "name": "stdout",
     "output_type": "stream",
     "text": [
      "[67 37 57 94 21 17 29 33 64 84]\n"
     ]
    }
   ],
   "source": [
    "import numpy as np\n",
    "np.random.seed(205) #if u want to keep the random generated  numbers common we can the seed() and add a no in it which will be common in all the pc universal \n",
    "arr=np.random.randint(1,100,10)\n",
    "print(arr)"
   ]
  },
  {
   "cell_type": "code",
   "execution_count": null,
   "id": "b57a873e-1acc-4d47-bd27-c93f850a790a",
   "metadata": {},
   "outputs": [],
   "source": []
  }
 ],
 "metadata": {
  "kernelspec": {
   "display_name": "Python 3 (ipykernel)",
   "language": "python",
   "name": "python3"
  },
  "language_info": {
   "codemirror_mode": {
    "name": "ipython",
    "version": 3
   },
   "file_extension": ".py",
   "mimetype": "text/x-python",
   "name": "python",
   "nbconvert_exporter": "python",
   "pygments_lexer": "ipython3",
   "version": "3.12.4"
  }
 },
 "nbformat": 4,
 "nbformat_minor": 5
}
