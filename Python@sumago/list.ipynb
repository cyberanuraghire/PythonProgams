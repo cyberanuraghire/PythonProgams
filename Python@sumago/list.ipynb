{
 "cells": [
  {
   "cell_type": "markdown",
   "id": "b17562ef-4647-4950-b99c-62bcedc2c68c",
   "metadata": {},
   "source": [
    "LIST\n",
    "list are mutable objects \n",
    "we can store various type of data type into it str int float\n",
    "ordered group of "
   ]
  },
  {
   "cell_type": "code",
   "execution_count": 6,
   "id": "9595e638-85a8-4cab-b32e-02aae78d89be",
   "metadata": {},
   "outputs": [
    {
     "name": "stdout",
     "output_type": "stream",
     "text": [
      "[99, 23, 40, 50, 50]\n",
      "<class 'list'>\n"
     ]
    }
   ],
   "source": [
    "marks = [99, 23, 40 , 50 , 50 ] \n",
    "#creating list always start with []. they are mutable ie can be changed at the run time\n",
    "print(marks)\n",
    "print(type(marks))"
   ]
  },
  {
   "cell_type": "code",
   "execution_count": 12,
   "id": "b8e37057-0911-40fe-82c1-7291edf231e5",
   "metadata": {},
   "outputs": [
    {
     "name": "stdout",
     "output_type": "stream",
     "text": [
      "['anur', 'hire', 22, 2.2]\n",
      "<class 'list'>\n"
     ]
    }
   ],
   "source": [
    "marks =[\"anur\", \"hire\", 22 , 2.2, ] #hetrogenus data type  we can have float int string \n",
    "print(marks)\n",
    "print(type(marks))"
   ]
  },
  {
   "cell_type": "code",
   "execution_count": 14,
   "id": "e899faec-797c-4acf-9667-a2a3986f7cfe",
   "metadata": {},
   "outputs": [
    {
     "name": "stdout",
     "output_type": "stream",
     "text": [
      "[]\n",
      "<class 'list'>\n"
     ]
    }
   ],
   "source": [
    "value = [] #empty list created \n",
    "print(value)\n",
    "print(type(value))"
   ]
  },
  {
   "cell_type": "code",
   "execution_count": 16,
   "id": "3ff9e82d-36d9-4e26-a160-1abf4ea67621",
   "metadata": {},
   "outputs": [
    {
     "data": {
      "text/plain": [
       "1"
      ]
     },
     "execution_count": 16,
     "metadata": {},
     "output_type": "execute_result"
    }
   ],
   "source": [
    "list = [1,2,3] #they are ordered\n",
    "list[0]"
   ]
  },
  {
   "cell_type": "code",
   "execution_count": 10,
   "id": "ad832efe-5214-4f8b-b64d-1769851cc24a",
   "metadata": {},
   "outputs": [
    {
     "data": {
      "text/plain": [
       "'White'"
      ]
     },
     "execution_count": 10,
     "metadata": {},
     "output_type": "execute_result"
    }
   ],
   "source": [
    "color =[\"Red\", \"Black\", \"grey\",\"White\"]\n",
    "color[1]\n",
    "color[3]"
   ]
  },
  {
   "cell_type": "markdown",
   "id": "1956f171-4bed-4210-880c-a540d19e7d8a",
   "metadata": {},
   "source": [
    "MULTIDIMENSIONAL LIST"
   ]
  },
  {
   "cell_type": "code",
   "execution_count": 8,
   "id": "697fb214-dc7c-4cc4-abe1-ff1300ede74e",
   "metadata": {},
   "outputs": [
    {
     "data": {
      "text/plain": [
       "'red'"
      ]
     },
     "execution_count": 8,
     "metadata": {},
     "output_type": "execute_result"
    }
   ],
   "source": [
    "list=[[\"red\",\"black\"], [\"anurag\",\"hire\"]]\n",
    "list[0][0]\n",
    "list[0][0]\n"
   ]
  },
  {
   "cell_type": "markdown",
   "id": "ac525c22-7207-45cb-9f5d-e5beee0c89be",
   "metadata": {},
   "source": [
    "taking input of a python list"
   ]
  },
  {
   "cell_type": "code",
   "execution_count": 12,
   "id": "37422c02-f7f7-49f2-9aa7-17d3281c074c",
   "metadata": {},
   "outputs": [
    {
     "name": "stdin",
     "output_type": "stream",
     "text": [
      "Enter elements(space-sepearated): hello hy bye\n"
     ]
    },
    {
     "name": "stdout",
     "output_type": "stream",
     "text": [
      "The list is ['hello', 'hy', 'bye']\n",
      "3\n"
     ]
    }
   ],
   "source": [
    "string = input(\"Enter elements(space-sepearated):\")\n",
    "lst = string.split()#used to split the elements \n",
    "\n",
    "print(\"The list is\", lst)\n",
    "print(len(lst))#to find the length of list"
   ]
  },
  {
   "cell_type": "code",
   "execution_count": 48,
   "id": "7aaa79b5-ea72-40dd-9682-75f7ed946ad0",
   "metadata": {},
   "outputs": [
    {
     "data": {
      "text/plain": [
       "['anur', 'black', 22, 2.2, 9]"
      ]
     },
     "execution_count": 48,
     "metadata": {},
     "output_type": "execute_result"
    }
   ],
   "source": [
    "list = [\"anur\", \"hire\", 22 , 2.2, 9 ]\n",
    "list[1]=\"black\" #we can change the value in the list by selecting the index an assign he new value\n",
    "list"
   ]
  },
  {
   "cell_type": "markdown",
   "id": "a70c2e52-4a3d-43b0-aa5e-28861290de10",
   "metadata": {},
   "source": [
    "slicing of list\n",
    "to get the range of elements"
   ]
  },
  {
   "cell_type": "code",
   "execution_count": 18,
   "id": "e4e38579-4dfb-44af-9269-7632385e182e",
   "metadata": {},
   "outputs": [
    {
     "data": {
      "text/plain": [
       "29"
      ]
     },
     "execution_count": 18,
     "metadata": {},
     "output_type": "execute_result"
    }
   ],
   "source": [
    "marks=[12,20,30,49,49,30,29]\n",
    "marks[-1]#access the last elemen\n",
    "# marks[1:4] #acces the element form 1 till 4.. omit the last\n"
   ]
  },
  {
   "cell_type": "code",
   "execution_count": 14,
   "id": "124da435-e9af-4dd9-9691-d6f268be014c",
   "metadata": {},
   "outputs": [
    {
     "ename": "NameError",
     "evalue": "name 'marks' is not defined",
     "output_type": "error",
     "traceback": [
      "\u001b[1;31m---------------------------------------------------------------------------\u001b[0m",
      "\u001b[1;31mNameError\u001b[0m                                 Traceback (most recent call last)",
      "Cell \u001b[1;32mIn[14], line 1\u001b[0m\n\u001b[1;32m----> 1\u001b[0m marks[\u001b[38;5;241m-\u001b[39m\u001b[38;5;241m1\u001b[39m]\n",
      "\u001b[1;31mNameError\u001b[0m: name 'marks' is not defined"
     ]
    }
   ],
   "source": [
    "marks[-1] #acces form right to left"
   ]
  },
  {
   "cell_type": "code",
   "execution_count": 77,
   "id": "3809ddae-b7f1-4dd7-bf88-be9d239d4b2a",
   "metadata": {},
   "outputs": [
    {
     "data": {
      "text/plain": [
       "[49, 49]"
      ]
     },
     "execution_count": 77,
     "metadata": {},
     "output_type": "execute_result"
    }
   ],
   "source": [
    "marks[-4:-2] #negative index"
   ]
  },
  {
   "cell_type": "markdown",
   "id": "4d3fce0d-5964-4121-a612-1b1f8ed41294",
   "metadata": {},
   "source": [
    "LIST FUNCTION\n",
    "append()\n",
    "APPEND = add at the last of the list\n",
    "ie \n"
   ]
  },
  {
   "cell_type": "code",
   "execution_count": 109,
   "id": "f450a44f-40c2-4071-922a-5e3817f6ad54",
   "metadata": {},
   "outputs": [
    {
     "data": {
      "text/plain": [
       "[1, 2, 3, 5]"
      ]
     },
     "execution_count": 109,
     "metadata": {},
     "output_type": "execute_result"
    }
   ],
   "source": [
    "marks=[1,2,3] #list\n",
    "marks.append(5) #add elements at the end of the list\n",
    "marks\n",
    "\n",
    "\n"
   ]
  },
  {
   "cell_type": "markdown",
   "id": "09bac7b5-af39-431c-8984-e39ad7cb2fa7",
   "metadata": {},
   "source": [
    "SORT\n"
   ]
  },
  {
   "cell_type": "code",
   "execution_count": 126,
   "id": "e84bf277-7f9e-4e30-b1e4-e4943f5eda9f",
   "metadata": {},
   "outputs": [
    {
     "data": {
      "text/plain": [
       "[1, 2, 3, 4, 5, 6, 7, 8, 9, 10]"
      ]
     },
     "execution_count": 126,
     "metadata": {},
     "output_type": "execute_result"
    }
   ],
   "source": [
    "list1=[10,8,9,7,5,6,4,3,2,1] #currenly in decending order\n",
    "list1.sort()#sorts in accending order \n",
    "list1"
   ]
  },
  {
   "cell_type": "code",
   "execution_count": 120,
   "id": "c2358d18-fcb4-4402-8eae-bd726fe5ca69",
   "metadata": {},
   "outputs": [
    {
     "data": {
      "text/plain": [
       "[10, 9, 8, 7, 6, 5, 4, 3, 2, 1]"
      ]
     },
     "execution_count": 120,
     "metadata": {},
     "output_type": "execute_result"
    }
   ],
   "source": [
    "list2=[1,2,3,4,5,6,7,8,9,10]\n",
    "list2.sort(reverse=True)\n",
    "list2\n",
    "\n"
   ]
  },
  {
   "cell_type": "code",
   "execution_count": 122,
   "id": "1224faec-b90f-4ac5-bfb7-49d0a9e5415c",
   "metadata": {},
   "outputs": [
    {
     "data": {
      "text/plain": [
       "[5, 1, 2, 3]"
      ]
     },
     "execution_count": 122,
     "metadata": {},
     "output_type": "execute_result"
    }
   ],
   "source": [
    "lst=[1,2,3]\n",
    "lst.insert(0,5) #list.insert(index,element) Insert elements at a perticular index\n",
    "lst"
   ]
  },
  {
   "cell_type": "code",
   "execution_count": 128,
   "id": "34caf1c7-4289-4b21-b8ed-b8203e8f999b",
   "metadata": {},
   "outputs": [
    {
     "data": {
      "text/plain": [
       "[8, 5, 3]"
      ]
     },
     "execution_count": 128,
     "metadata": {},
     "output_type": "execute_result"
    }
   ],
   "source": [
    "lst1=[3,5,8]\n",
    "lst1.reverse() #reverse the order of the lst1\n",
    "lst"
   ]
  },
  {
   "cell_type": "code",
   "execution_count": 138,
   "id": "5de17f59-59fd-4413-bc19-34a2a2867950",
   "metadata": {},
   "outputs": [
    {
     "data": {
      "text/plain": [
       "[2, 3, 1]"
      ]
     },
     "execution_count": 138,
     "metadata": {},
     "output_type": "execute_result"
    }
   ],
   "source": [
    "list1=[2,1,3,1]\n",
    "list1.remove(1) #remove the entered element #will remove the first element which is there\n",
    "list1"
   ]
  },
  {
   "cell_type": "code",
   "execution_count": 20,
   "id": "82289916-4a78-4269-b542-9f97f01c847d",
   "metadata": {},
   "outputs": [
    {
     "data": {
      "text/plain": [
       "[2, 4, 5]"
      ]
     },
     "execution_count": 20,
     "metadata": {},
     "output_type": "execute_result"
    }
   ],
   "source": [
    "#pop delete the element at the index\n",
    "list2=[1,2,3,4,5]\n",
    "list2.pop(2)#remove the element at the index 2 \n",
    "list2.pop(0)\n",
    "list2"
   ]
  },
  {
   "cell_type": "code",
   "execution_count": 144,
   "id": "84f4645b-6ce0-4227-b963-0f83d16136a1",
   "metadata": {},
   "outputs": [
    {
     "data": {
      "text/plain": [
       "3"
      ]
     },
     "execution_count": 144,
     "metadata": {},
     "output_type": "execute_result"
    }
   ],
   "source": [
    "list1=[1,2,3,4,5,3,3,2]\n",
    "list1.count(3)#returns the count of the items passed \n"
   ]
  },
  {
   "cell_type": "code",
   "execution_count": 50,
   "id": "93086e7f-73c5-449f-bfa7-a39696842dbb",
   "metadata": {},
   "outputs": [
    {
     "ename": "NameError",
     "evalue": "name 'list3' is not defined",
     "output_type": "error",
     "traceback": [
      "\u001b[1;31m---------------------------------------------------------------------------\u001b[0m",
      "\u001b[1;31mNameError\u001b[0m                                 Traceback (most recent call last)",
      "Cell \u001b[1;32mIn[50], line 3\u001b[0m\n\u001b[0;32m      1\u001b[0m \u001b[38;5;66;03m#clear function\u001b[39;00m\n\u001b[0;32m      2\u001b[0m list4\u001b[38;5;241m=\u001b[39m[\u001b[38;5;241m1\u001b[39m,\u001b[38;5;241m2\u001b[39m,\u001b[38;5;241m3\u001b[39m,\u001b[38;5;241m4\u001b[39m,\u001b[38;5;241m4\u001b[39m,\u001b[38;5;241m4\u001b[39m]\n\u001b[1;32m----> 3\u001b[0m list3\u001b[38;5;241m.\u001b[39mcopy(list4)\n\u001b[0;32m      4\u001b[0m \u001b[38;5;66;03m#clear all the elements from the list\u001b[39;00m\n\u001b[0;32m      5\u001b[0m \u001b[38;5;28mprint\u001b[39m(list3)\n",
      "\u001b[1;31mNameError\u001b[0m: name 'list3' is not defined"
     ]
    }
   ],
   "source": [
    "#clear function\n",
    "list4=[1,2,3,4,4,4]\n",
    "list3.copy(list4)\n",
    "#clear all the elements from the list\n",
    "print(list3)"
   ]
  },
  {
   "cell_type": "code",
   "execution_count": 40,
   "id": "4d9e6213-edd7-448d-8082-e299d403d041",
   "metadata": {},
   "outputs": [
    {
     "data": {
      "text/plain": [
       "[1, 2, 'car', 'bike', 'cat', 'dog']"
      ]
     },
     "execution_count": 40,
     "metadata": {},
     "output_type": "execute_result"
    }
   ],
   "source": [
    "# extend index() #returns the count of the number of items passed as an argument\n",
    "list1 =[1,2,\"car\",\"bike\"]\n",
    "list2 =[\"cat\", \"dog\"]\n",
    "list1.extend(list2) #add all list elements from one list to another one\n",
    "list1"
   ]
  },
  {
   "cell_type": "code",
   "execution_count": 52,
   "id": "ee917ae0-0cde-4343-98a3-82f9f8a0b411",
   "metadata": {},
   "outputs": [
    {
     "name": "stdout",
     "output_type": "stream",
     "text": [
      "[1, 2, 3]\n"
     ]
    }
   ],
   "source": [
    "original_list = [1, 2, 3]\n",
    "copied_list = original_list.copy()\n",
    "print(copied_list) # Output: [1, 2, 3]"
   ]
  },
  {
   "cell_type": "markdown",
   "id": "faff2858-879e-4aa8-b68f-a562e7f80d78",
   "metadata": {},
   "source": [
    "The index() method in python is used to find the first occurance of a specified value in the list. string or tuple i it returns the index(position) of the first occurance of the value. if the value is not found it raise a vlaue error"
   ]
  },
  {
   "cell_type": "code",
   "execution_count": 60,
   "id": "cfba7355-ecf4-46ef-a3ee-38419364e198",
   "metadata": {},
   "outputs": [
    {
     "name": "stdout",
     "output_type": "stream",
     "text": [
      "0\n"
     ]
    }
   ],
   "source": [
    "#index() to find the index of the given element \n",
    "my_list=[12,13,14,15]\n",
    "index = my_list.index(12)\n",
    "print(index)"
   ]
  },
  {
   "cell_type": "code",
   "execution_count": null,
   "id": "b876cce4-51a3-431c-b79a-4171f2872d6e",
   "metadata": {},
   "outputs": [],
   "source": []
  },
  {
   "cell_type": "code",
   "execution_count": null,
   "id": "f174520d-4cdc-4aac-b430-d8515cb78809",
   "metadata": {},
   "outputs": [],
   "source": []
  }
 ],
 "metadata": {
  "kernelspec": {
   "display_name": "Python 3 (ipykernel)",
   "language": "python",
   "name": "python3"
  },
  "language_info": {
   "codemirror_mode": {
    "name": "ipython",
    "version": 3
   },
   "file_extension": ".py",
   "mimetype": "text/x-python",
   "name": "python",
   "nbconvert_exporter": "python",
   "pygments_lexer": "ipython3",
   "version": "3.12.4"
  }
 },
 "nbformat": 4,
 "nbformat_minor": 5
}
