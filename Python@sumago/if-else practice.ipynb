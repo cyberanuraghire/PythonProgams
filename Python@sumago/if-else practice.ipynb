{
 "cells": [
  {
   "cell_type": "markdown",
   "id": "5961c53d-1a74-4455-a8d2-fd5be5a4319c",
   "metadata": {},
   "source": [
    "Password Validator: Write a program that checks if a password entered by the user meets the following criteria:\n",
    "\n",
    "At least 8 characters long\n",
    "Contains both uppercase and lowercase letters\n",
    "Contains at least one numerical digit\n",
    "Contains at least one special character (e.g., @, #, $, etc.)"
   ]
  },
  {
   "cell_type": "code",
   "execution_count": 2,
   "id": "61cb5c22-247a-4a27-8325-11c3654a80e5",
   "metadata": {},
   "outputs": [
    {
     "name": "stdin",
     "output_type": "stream",
     "text": [
      "Enter the password Hire@3520\n"
     ]
    },
    {
     "name": "stdout",
     "output_type": "stream",
     "text": [
      "Entered Password is Valid\n"
     ]
    }
   ],
   "source": [
    "import re #imporing the re \n",
    "password = input(\"Enter the password\") \n",
    "if (len(password) >= 8 and #we check for the atlest 8 char\n",
    "    re.search(\"[a-z]\",password) and #uppercase\n",
    "    re.search(\"[A-Z]\",password) and #lowercase\n",
    "    re.search(\"[0-9]\",password) and #numerical digits\n",
    "    re.search(\"[@#$]\",password)): #special char\n",
    "    print(\"Entered Password is Valid\")\n",
    "else:\n",
    "    print(\"Invalid password\")"
   ]
  },
  {
   "cell_type": "markdown",
   "id": "e6d7795b-781c-458f-9a9f-6d6759b070c7",
   "metadata": {},
   "source": [
    "Simple Calculator \n",
    "ask for two number and operator\n"
   ]
  },
  {
   "cell_type": "code",
   "execution_count": null,
   "id": "02a55dee-fbd7-4178-a8f2-9926fe2cc61e",
   "metadata": {},
   "outputs": [],
   "source": [
    "num1 = int(input(\"Enter the number\"))\n",
    "num2 = int(input(\"Enter the number\"))\n",
    "operator = input(\"Enter the operator to carry the operation which u want to perform/n '+', '-', '*','/'\")\n",
    "if (operator == '+'):\n",
    "    print(f\"Sum of the given Numeners is {num1+num2}\")\n",
    "elif (operator =='-'):\n",
    "    print(f\"difference of the given {num1-num2}\")\n",
    "elif(operator =='*'):\n",
    "    print(f\"product of {a} and {b} is {num1*num2}\")\n",
    "elif(operator == '/'):\n",
    "    if num2 != 0:\n",
    "        print(f\"division of {a} and {b} is: {num1/num2}\")\n",
    "    else:\n",
    "        print(\"Error Divison by zero\")\n",
    "else:\n",
    "    print(\"Invalid operator\")\n",
    "    \n",
    "    "
   ]
  },
  {
   "cell_type": "markdown",
   "id": "ec554857-b783-43d5-a313-c6bcce505cae",
   "metadata": {},
   "source": [
    "1 - 100"
   ]
  },
  {
   "cell_type": "code",
   "execution_count": null,
   "id": "aa753953-8172-45ee-9e25-c3ce6e54f25d",
   "metadata": {},
   "outputs": [],
   "source": [
    "num = int(input(\"Enter the number to check\"))\n",
    "if(num >= 1 and num <= 100):\n",
    "    print(\"number within the range\")\n",
    "else:\n",
    "    print(\"Number not within the range\")"
   ]
  },
  {
   "cell_type": "markdown",
   "id": "b7fe6061-8f2d-4108-98b5-1ec9bdd2c672",
   "metadata": {},
   "source": [
    "vowels or consonant \n",
    "Vowel or Consonant: Write a Python program that takes a single character as input and checks if it is a vowel (a, e, i, o, u) or a consonant."
   ]
  },
  {
   "cell_type": "code",
   "execution_count": null,
   "id": "ce6127fb-ea41-402f-9775-9cb3a8c32ce5",
   "metadata": {},
   "outputs": [],
   "source": [
    "char = input(\"Enter the character\")\n",
    "if char in 'aeiou':\n",
    "    print(f\"{char} is a vowel!\")\n",
    "elif char.isalpha(): #it is an inbuilt function\n",
    "    print(f\"{char} is Consonant\")\n",
    "else:\n",
    "    print(\"invalid\")\n",
    "    "
   ]
  },
  {
   "cell_type": "markdown",
   "id": "dac9f585-7f33-4f48-88ea-8c41cc0bae44",
   "metadata": {},
   "source": [
    "Quadratic Equation Solver"
   ]
  },
  {
   "cell_type": "code",
   "execution_count": null,
   "id": "ebef0158-517b-469e-8aeb-084ca030aaec",
   "metadata": {},
   "outputs": [],
   "source": [
    "a = int(input(\"Enter the value of a \"))\n",
    "b = int(input(\"Enter the value of b \"))\n",
    "c = int(input(\"Enter the value of c \"))\n",
    "discriminant = "
   ]
  },
  {
   "cell_type": "markdown",
   "id": "81419efd-7bf4-4d42-94a4-022d980377fb",
   "metadata": {},
   "source": [
    "BMI Calculator\n",
    "Write a Python program that calculates the Body Mass Index (BMI) based on the user's weight (in kg) and height (in meters) and categorizes it as underweight, normal weight, overweight, or obese."
   ]
  },
  {
   "cell_type": "code",
   "execution_count": null,
   "id": "11f6e242-5b01-4e0f-957e-bb0189c70a6a",
   "metadata": {},
   "outputs": [],
   "source": [
    "weight = float(input(\"Enter the Users Weight in Kg : /n\"))\n",
    "height = float(input(\"Enter the Users height in cm \"))\n",
    "h=height/100 #cm to meter\n",
    "bmi = weight / (h**2) #formula forBMI\n",
    "print(bmi)\n",
    "if bmi <= 15:\n",
    "    print(\"Very Severely Underweight\")\n",
    "elif bmi > 15 and bmi < 16:\n",
    "    print(\"Severely UnderWeight\")\n",
    "elif bmi >= 16 and bml <=18.5:\n",
    "    print(\"UnderWeight\")\n",
    "elif bmi >= 18.5 and bmi <=25:\n",
    "    print(\"Normal  Your are healty Buddy!\")\n",
    "elif bmi > 25 and bmi <= 30:\n",
    "    print(\"OverWeight\")\n",
    "elif bmi > 30 and bmi <= 35:\n",
    "    print(\"Moderately Obese\")\n",
    "elif bmi > 35 and bmi <= 40:\n",
    "    print(\"Severely Obese\")\n",
    "else:\n",
    "    print(\"your are gona die \")\n",
    "    \n"
   ]
  },
  {
   "cell_type": "markdown",
   "id": "62a82d67-18cf-4a35-b593-c6a60e855795",
   "metadata": {},
   "source": [
    "#write a python program to calculate the income on based on the fules\n",
    "No tax for income below ₹250,000.\n",
    "5% for income between ₹250,000 and ₹500,000.\n",
    "20% for income between ₹500,000 and ₹1,000,000.\n",
    "30% for income above ₹1,000,000."
   ]
  },
  {
   "cell_type": "code",
   "execution_count": null,
   "id": "2f4a3a06-ab2c-4f9c-8145-22c6c96fb219",
   "metadata": {},
   "outputs": [],
   "source": [
    "income = float(input(\"Enter the income in Rs\"))\n",
    "if income <= 250000:\n",
    "    tax = 0\n",
    "elif  income <500000:\n",
    "    tax= (income - 250000) * 0.05\n",
    "elif income < 1000000:\n",
    "    tax =(income - 500000) *0.2 + 250000 * 0.05\n",
    "elif income >= 1000000:\n",
    "    tax = (income - 1000000) * 0.3 + 500000 *0.2 + 250000*0.05\n",
    "    \n",
    "print(f\"Tax  have to pay {tax:.2f}\")\n"
   ]
  },
  {
   "cell_type": "markdown",
   "id": "7e2d82db-eb4e-4c7c-8247-3d634b17fba0",
   "metadata": {},
   "source": [
    "rock paper Sissors "
   ]
  },
  {
   "cell_type": "code",
   "execution_count": null,
   "id": "dbcecfa8-d8e7-47a3-b159-5ee08cbbe65d",
   "metadata": {},
   "outputs": [],
   "source": [
    "player1 = input(\"Enter your choice 'stone' 'paper' 'sissor'.\").lower()\n",
    "player2 = input(\"Enter your choice 'stone' 'paper' 'sissor'.\").lower()\n",
    "if player1 == player2:\n",
    "    print(\"Its a Tie\")\n",
    "elif (player1 == \"stone\" and player2 == \"sissor\" ) or \\\n",
    "    (player1 == \"paper\" and player2 == \"stone\") or \\\n",
    "    (player1 == \"sissor\" and player2 ==\"paper\"):\n",
    "    print(\"player 1 win!\")\n",
    "else:\n",
    "    print(\"player2 win\")\n",
    "    "
   ]
  },
  {
   "cell_type": "code",
   "execution_count": 14,
   "id": "978c017a-fd15-4157-8c6a-a376a79eca30",
   "metadata": {},
   "outputs": [
    {
     "name": "stdout",
     "output_type": "stream",
     "text": [
      "\n",
      "1.Check balance\n",
      "\n",
      "2.Depositing Money\n",
      "\n",
      "3.WithDraw Money\n",
      "\n",
      ".4 Exit \n"
     ]
    },
    {
     "name": "stdin",
     "output_type": "stream",
     "text": [
      "Choose an Option \n"
     ]
    },
    {
     "ename": "ValueError",
     "evalue": "invalid literal for int() with base 10: ''",
     "output_type": "error",
     "traceback": [
      "\u001b[1;31m---------------------------------------------------------------------------\u001b[0m",
      "\u001b[1;31mValueError\u001b[0m                                Traceback (most recent call last)",
      "Cell \u001b[1;32mIn[14], line 8\u001b[0m\n\u001b[0;32m      6\u001b[0m \u001b[38;5;28mprint\u001b[39m(\u001b[38;5;124m\"\u001b[39m\u001b[38;5;130;01m\\n\u001b[39;00m\u001b[38;5;124m3.WithDraw Money\u001b[39m\u001b[38;5;124m\"\u001b[39m)\n\u001b[0;32m      7\u001b[0m \u001b[38;5;28mprint\u001b[39m(\u001b[38;5;124m\"\u001b[39m\u001b[38;5;130;01m\\n\u001b[39;00m\u001b[38;5;124m.4 Exit \u001b[39m\u001b[38;5;124m\"\u001b[39m)\n\u001b[1;32m----> 8\u001b[0m choice \u001b[38;5;241m=\u001b[39m \u001b[38;5;28mint\u001b[39m(\u001b[38;5;28minput\u001b[39m(\u001b[38;5;124m\"\u001b[39m\u001b[38;5;124mChoose an Option\u001b[39m\u001b[38;5;124m\"\u001b[39m))\n\u001b[0;32m     10\u001b[0m \u001b[38;5;28;01mif\u001b[39;00m choice \u001b[38;5;241m==\u001b[39m \u001b[38;5;241m1\u001b[39m:\n\u001b[0;32m     11\u001b[0m     \u001b[38;5;28mprint\u001b[39m(\u001b[38;5;124mf\u001b[39m\u001b[38;5;124m\"\u001b[39m\u001b[38;5;124myour bank balance is \u001b[39m\u001b[38;5;132;01m{\u001b[39;00mbal\u001b[38;5;132;01m}\u001b[39;00m\u001b[38;5;124m\"\u001b[39m)\n",
      "\u001b[1;31mValueError\u001b[0m: invalid literal for int() with base 10: ''"
     ]
    }
   ],
   "source": [
    "#### atm simulation\n",
    "bal = 1000 #initial balance\n",
    "while True:\n",
    "    print(\"\\n1.Check balance\")\n",
    "    print(\"\\n2.Depositing Money\")\n",
    "    print(\"\\n3.WithDraw Money\")\n",
    "    print(\"\\n.4 Exit \")\n",
    "    choice = int(input(\"Choose an Option\"))\n",
    "\n",
    "    if choice == 1:\n",
    "        print(f\"your bank balance is {bal}\")\n",
    "    elif choice == 2:\n",
    "        deposite = float(input(\"Enter the amount \"))\n",
    "        if deposite >0:\n",
    "            bal += deposite\n",
    "            print(f\"{deposite} deposited in your account. Upadated balance {bal}\")\n",
    "        else:\n",
    "            print(\"invalid amount\")\n",
    "    elif choice == 3:\n",
    "        withdraw = float(input(\"Enter the amount you want to withdraw\"))\n",
    "        if 0 < withdraw <= bal:\n",
    "            bal -= withdraw\n",
    "            print(f\"{withdraw} amount has been withdrawn and current balance{bal}\")\n",
    "        else:\n",
    "            print(\"Insufficent balance \")\n",
    "    elif choice ==4:\n",
    "        print(\"ended\")\n",
    "        break\n",
    "        \n",
    "        \n",
    "        \n",
    "        "
   ]
  },
  {
   "cell_type": "code",
   "execution_count": null,
   "id": "96385309-2014-434e-a0d5-2ff37e64eb60",
   "metadata": {},
   "outputs": [],
   "source": []
  }
 ],
 "metadata": {
  "kernelspec": {
   "display_name": "Python 3 (ipykernel)",
   "language": "python",
   "name": "python3"
  },
  "language_info": {
   "codemirror_mode": {
    "name": "ipython",
    "version": 3
   },
   "file_extension": ".py",
   "mimetype": "text/x-python",
   "name": "python",
   "nbconvert_exporter": "python",
   "pygments_lexer": "ipython3",
   "version": "3.12.4"
  }
 },
 "nbformat": 4,
 "nbformat_minor": 5
}
