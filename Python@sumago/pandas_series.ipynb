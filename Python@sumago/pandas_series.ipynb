{
 "cells": [
  {
   "cell_type": "code",
   "execution_count": 11,
   "id": "8a70769b-d250-41be-95ed-811ab16f0edb",
   "metadata": {},
   "outputs": [
    {
     "data": {
      "text/plain": [
       "0       india\n",
       "1         pak\n",
       "2    srilanka\n",
       "3       nepal\n",
       "4      bhutan\n",
       "dtype: object"
      ]
     },
     "execution_count": 11,
     "metadata": {},
     "output_type": "execute_result"
    }
   ],
   "source": [
    "#series is basically like a column and it is 1Dimensional\n",
    "import numpy as np\n",
    "import pandas as pd\n",
    "country=['india','pak','srilanka','nepal','bhutan']\n",
    "pd.Series(country)\n",
    "\n"
   ]
  },
  {
   "cell_type": "code",
   "execution_count": 7,
   "id": "5987a61a-1cf9-4bf4-900a-334e78a1ebcb",
   "metadata": {},
   "outputs": [
    {
     "data": {
      "text/plain": [
       "0    112\n",
       "1     12\n",
       "2      3\n",
       "3      2\n",
       "4     45\n",
       "5      6\n",
       "6      7\n",
       "7     88\n",
       "dtype: int64"
      ]
     },
     "execution_count": 7,
     "metadata": {},
     "output_type": "execute_result"
    }
   ],
   "source": [
    "runs=[112,12,3,2,45,6,7,88]\n",
    "pd.Series(runs)"
   ]
  },
  {
   "cell_type": "code",
   "execution_count": 15,
   "id": "decd8bc0-fe19-46a6-85c4-66f35e68f910",
   "metadata": {},
   "outputs": [
    {
     "data": {
      "text/plain": [
       "maths      67\n",
       "english    47\n",
       "polity     29\n",
       "geo        20\n",
       "science    44\n",
       "dtype: int64"
      ]
     },
     "execution_count": 15,
     "metadata": {},
     "output_type": "execute_result"
    }
   ],
   "source": [
    "#for custome index we cdo do s0\n",
    "marks=[67,47,29,20,44]\n",
    "subjects=['maths','english','polity','geo','science']\n",
    "pd.Series(marks, index=subjects) #here we are using the  subject list as a index in default it is from 0 to "
   ]
  },
  {
   "cell_type": "code",
   "execution_count": 25,
   "id": "d7484533-9703-491f-94d9-16ec25cbe166",
   "metadata": {},
   "outputs": [
    {
     "data": {
      "text/plain": [
       "maths      67\n",
       "english    47\n",
       "polity     29\n",
       "geo        20\n",
       "science    44\n",
       "Name: toms marks, dtype: int64"
      ]
     },
     "execution_count": 25,
     "metadata": {},
     "output_type": "execute_result"
    }
   ],
   "source": [
    "marks= pd.Series(marks,index=subjects,name='toms marks') #give the name to the list \n",
    "marks"
   ]
  },
  {
   "cell_type": "code",
   "execution_count": 13,
   "id": "ca6c3919-6c29-48f8-8d4d-c1b6d34b6383",
   "metadata": {},
   "outputs": [
    {
     "data": {
      "text/plain": [
       "maths       67\n",
       "englisg     57\n",
       "science     89\n",
       "hindi      100\n",
       "Name: mark of sem, dtype: int64"
      ]
     },
     "execution_count": 13,
     "metadata": {},
     "output_type": "execute_result"
    }
   ],
   "source": [
    "# Series from dictonary \n",
    "import numpy as np\n",
    "import pandas as pd\n",
    "marks={'maths':67,\n",
    "      'englisg':57,\n",
    "      'science':89,\n",
    "      'hindi':100\n",
    "      }\n",
    "marks_series = pd.Series(marks,name='mark of sem')\n",
    "marks_series\n"
   ]
  },
  {
   "cell_type": "code",
   "execution_count": 7,
   "id": "a122bea6-c257-4b97-aedf-d5056562a68f",
   "metadata": {},
   "outputs": [
    {
     "data": {
      "text/plain": [
       "4"
      ]
     },
     "execution_count": 7,
     "metadata": {},
     "output_type": "execute_result"
    }
   ],
   "source": [
    "#Series Attributes\n",
    "marks_series.size"
   ]
  },
  {
   "cell_type": "code",
   "execution_count": 15,
   "id": "66c56f40-6b41-432a-8a2a-8588ad88031f",
   "metadata": {},
   "outputs": [
    {
     "data": {
      "text/plain": [
       "dtype('int64')"
      ]
     },
     "execution_count": 15,
     "metadata": {},
     "output_type": "execute_result"
    }
   ],
   "source": [
    "#dtype\n",
    "marks_series.dtype"
   ]
  },
  {
   "cell_type": "code",
   "execution_count": 17,
   "id": "3d5a6c1a-a8d7-4d20-87af-6ac835df2cbe",
   "metadata": {},
   "outputs": [
    {
     "data": {
      "text/plain": [
       "'mark of sem'"
      ]
     },
     "execution_count": 17,
     "metadata": {},
     "output_type": "execute_result"
    }
   ],
   "source": [
    "#name \n",
    "marks_series.name"
   ]
  },
  {
   "cell_type": "code",
   "execution_count": 23,
   "id": "4bb9a61a-1be1-4b41-a40f-cc1dcb276d21",
   "metadata": {},
   "outputs": [
    {
     "data": {
      "text/plain": [
       "False"
      ]
     },
     "execution_count": 23,
     "metadata": {},
     "output_type": "execute_result"
    }
   ],
   "source": [
    "#is unique\n",
    "marks_series.is_unique\n",
    "pd.Series([1,1,2,3,4,5]).is_unique"
   ]
  },
  {
   "cell_type": "code",
   "execution_count": 6,
   "id": "8cb75cf8-26c1-4c1f-aa0e-39d88dd110c4",
   "metadata": {},
   "outputs": [
    {
     "data": {
      "text/html": [
       "<div>\n",
       "<style scoped>\n",
       "    .dataframe tbody tr th:only-of-type {\n",
       "        vertical-align: middle;\n",
       "    }\n",
       "\n",
       "    .dataframe tbody tr th {\n",
       "        vertical-align: top;\n",
       "    }\n",
       "\n",
       "    .dataframe thead th {\n",
       "        text-align: right;\n",
       "    }\n",
       "</style>\n",
       "<table border=\"1\" class=\"dataframe\">\n",
       "  <thead>\n",
       "    <tr style=\"text-align: right;\">\n",
       "      <th></th>\n",
       "      <th>movie</th>\n",
       "      <th>lead</th>\n",
       "    </tr>\n",
       "  </thead>\n",
       "  <tbody>\n",
       "    <tr>\n",
       "      <th>0</th>\n",
       "      <td>Uri: The Surgical Strike</td>\n",
       "      <td>Vicky Kaushal</td>\n",
       "    </tr>\n",
       "    <tr>\n",
       "      <th>1</th>\n",
       "      <td>Battalion 609</td>\n",
       "      <td>Vicky Ahuja</td>\n",
       "    </tr>\n",
       "    <tr>\n",
       "      <th>2</th>\n",
       "      <td>The Accidental Prime Minister (film)</td>\n",
       "      <td>Anupam Kher</td>\n",
       "    </tr>\n",
       "    <tr>\n",
       "      <th>3</th>\n",
       "      <td>Why Cheat India</td>\n",
       "      <td>Emraan Hashmi</td>\n",
       "    </tr>\n",
       "    <tr>\n",
       "      <th>4</th>\n",
       "      <td>Evening Shadows</td>\n",
       "      <td>Mona Ambegaonkar</td>\n",
       "    </tr>\n",
       "    <tr>\n",
       "      <th>...</th>\n",
       "      <td>...</td>\n",
       "      <td>...</td>\n",
       "    </tr>\n",
       "    <tr>\n",
       "      <th>1495</th>\n",
       "      <td>Hum Tumhare Hain Sanam</td>\n",
       "      <td>Shah Rukh Khan</td>\n",
       "    </tr>\n",
       "    <tr>\n",
       "      <th>1496</th>\n",
       "      <td>Aankhen (2002 film)</td>\n",
       "      <td>Amitabh Bachchan</td>\n",
       "    </tr>\n",
       "    <tr>\n",
       "      <th>1497</th>\n",
       "      <td>Saathiya (film)</td>\n",
       "      <td>Vivek Oberoi</td>\n",
       "    </tr>\n",
       "    <tr>\n",
       "      <th>1498</th>\n",
       "      <td>Company (film)</td>\n",
       "      <td>Ajay Devgn</td>\n",
       "    </tr>\n",
       "    <tr>\n",
       "      <th>1499</th>\n",
       "      <td>Awara Paagal Deewana</td>\n",
       "      <td>Akshay Kumar</td>\n",
       "    </tr>\n",
       "  </tbody>\n",
       "</table>\n",
       "<p>1500 rows × 2 columns</p>\n",
       "</div>"
      ],
      "text/plain": [
       "                                     movie              lead\n",
       "0                 Uri: The Surgical Strike     Vicky Kaushal\n",
       "1                            Battalion 609       Vicky Ahuja\n",
       "2     The Accidental Prime Minister (film)       Anupam Kher\n",
       "3                          Why Cheat India     Emraan Hashmi\n",
       "4                          Evening Shadows  Mona Ambegaonkar\n",
       "...                                    ...               ...\n",
       "1495                Hum Tumhare Hain Sanam    Shah Rukh Khan\n",
       "1496                   Aankhen (2002 film)  Amitabh Bachchan\n",
       "1497                       Saathiya (film)      Vivek Oberoi\n",
       "1498                        Company (film)        Ajay Devgn\n",
       "1499                  Awara Paagal Deewana      Akshay Kumar\n",
       "\n",
       "[1500 rows x 2 columns]"
      ]
     },
     "execution_count": 6,
     "metadata": {},
     "output_type": "execute_result"
    }
   ],
   "source": [
    "import numpy as np\n",
    "import pandas as pd\n",
    "movie=pd.read_csv(\"Desktop/dataset sumago/datasets-session-16-20240829T041139Z-001/datasets-session-16/bollywood.csv\")\n",
    "movie"
   ]
  },
  {
   "cell_type": "code",
   "execution_count": 8,
   "id": "17aaf344-aca5-4201-9e22-789065610666",
   "metadata": {},
   "outputs": [
    {
     "data": {
      "text/html": [
       "<div>\n",
       "<style scoped>\n",
       "    .dataframe tbody tr th:only-of-type {\n",
       "        vertical-align: middle;\n",
       "    }\n",
       "\n",
       "    .dataframe tbody tr th {\n",
       "        vertical-align: top;\n",
       "    }\n",
       "\n",
       "    .dataframe thead th {\n",
       "        text-align: right;\n",
       "    }\n",
       "</style>\n",
       "<table border=\"1\" class=\"dataframe\">\n",
       "  <thead>\n",
       "    <tr style=\"text-align: right;\">\n",
       "      <th></th>\n",
       "      <th>movie</th>\n",
       "      <th>lead</th>\n",
       "    </tr>\n",
       "  </thead>\n",
       "  <tbody>\n",
       "    <tr>\n",
       "      <th>0</th>\n",
       "      <td>Uri: The Surgical Strike</td>\n",
       "      <td>Vicky Kaushal</td>\n",
       "    </tr>\n",
       "    <tr>\n",
       "      <th>1</th>\n",
       "      <td>Battalion 609</td>\n",
       "      <td>Vicky Ahuja</td>\n",
       "    </tr>\n",
       "    <tr>\n",
       "      <th>2</th>\n",
       "      <td>The Accidental Prime Minister (film)</td>\n",
       "      <td>Anupam Kher</td>\n",
       "    </tr>\n",
       "    <tr>\n",
       "      <th>3</th>\n",
       "      <td>Why Cheat India</td>\n",
       "      <td>Emraan Hashmi</td>\n",
       "    </tr>\n",
       "    <tr>\n",
       "      <th>4</th>\n",
       "      <td>Evening Shadows</td>\n",
       "      <td>Mona Ambegaonkar</td>\n",
       "    </tr>\n",
       "  </tbody>\n",
       "</table>\n",
       "</div>"
      ],
      "text/plain": [
       "                                  movie              lead\n",
       "0              Uri: The Surgical Strike     Vicky Kaushal\n",
       "1                         Battalion 609       Vicky Ahuja\n",
       "2  The Accidental Prime Minister (film)       Anupam Kher\n",
       "3                       Why Cheat India     Emraan Hashmi\n",
       "4                       Evening Shadows  Mona Ambegaonkar"
      ]
     },
     "execution_count": 8,
     "metadata": {},
     "output_type": "execute_result"
    }
   ],
   "source": [
    "movie.head()"
   ]
  },
  {
   "cell_type": "code",
   "execution_count": 12,
   "id": "bbf9c317-db5b-48d3-a885-5f9c1bfa8d0b",
   "metadata": {},
   "outputs": [
    {
     "data": {
      "text/html": [
       "<div>\n",
       "<style scoped>\n",
       "    .dataframe tbody tr th:only-of-type {\n",
       "        vertical-align: middle;\n",
       "    }\n",
       "\n",
       "    .dataframe tbody tr th {\n",
       "        vertical-align: top;\n",
       "    }\n",
       "\n",
       "    .dataframe thead th {\n",
       "        text-align: right;\n",
       "    }\n",
       "</style>\n",
       "<table border=\"1\" class=\"dataframe\">\n",
       "  <thead>\n",
       "    <tr style=\"text-align: right;\">\n",
       "      <th></th>\n",
       "      <th>movie</th>\n",
       "      <th>lead</th>\n",
       "    </tr>\n",
       "  </thead>\n",
       "  <tbody>\n",
       "    <tr>\n",
       "      <th>1495</th>\n",
       "      <td>Hum Tumhare Hain Sanam</td>\n",
       "      <td>Shah Rukh Khan</td>\n",
       "    </tr>\n",
       "    <tr>\n",
       "      <th>1496</th>\n",
       "      <td>Aankhen (2002 film)</td>\n",
       "      <td>Amitabh Bachchan</td>\n",
       "    </tr>\n",
       "    <tr>\n",
       "      <th>1497</th>\n",
       "      <td>Saathiya (film)</td>\n",
       "      <td>Vivek Oberoi</td>\n",
       "    </tr>\n",
       "    <tr>\n",
       "      <th>1498</th>\n",
       "      <td>Company (film)</td>\n",
       "      <td>Ajay Devgn</td>\n",
       "    </tr>\n",
       "    <tr>\n",
       "      <th>1499</th>\n",
       "      <td>Awara Paagal Deewana</td>\n",
       "      <td>Akshay Kumar</td>\n",
       "    </tr>\n",
       "  </tbody>\n",
       "</table>\n",
       "</div>"
      ],
      "text/plain": [
       "                       movie              lead\n",
       "1495  Hum Tumhare Hain Sanam    Shah Rukh Khan\n",
       "1496     Aankhen (2002 film)  Amitabh Bachchan\n",
       "1497         Saathiya (film)      Vivek Oberoi\n",
       "1498          Company (film)        Ajay Devgn\n",
       "1499    Awara Paagal Deewana      Akshay Kumar"
      ]
     },
     "execution_count": 12,
     "metadata": {},
     "output_type": "execute_result"
    }
   ],
   "source": [
    "movie.tail()"
   ]
  },
  {
   "cell_type": "code",
   "execution_count": 14,
   "id": "5a069939-dfb6-4c86-ba50-684ce4672af6",
   "metadata": {},
   "outputs": [
    {
     "data": {
      "text/plain": [
       "movie    1500\n",
       "lead     1500\n",
       "dtype: int64"
      ]
     },
     "execution_count": 14,
     "metadata": {},
     "output_type": "execute_result"
    }
   ],
   "source": [
    "movie.count()"
   ]
  },
  {
   "cell_type": "code",
   "execution_count": 8,
   "id": "ad420863-361b-4d9b-b477-3d55db879218",
   "metadata": {},
   "outputs": [
    {
     "data": {
      "text/plain": [
       "{'jaipur': 'Rajasthan',\n",
       " 'Mumbai': 'Maharashtar',\n",
       " 'Kolkata': 'Bengal',\n",
       " 'chandigarg': 'Punjab',\n",
       " 'Bengaluru': 'Karnataka'}"
      ]
     },
     "execution_count": 8,
     "metadata": {},
     "output_type": "execute_result"
    }
   ],
   "source": [
    "#creating Series from Dictionary \n",
    "import numpy as np\n",
    "import pandas as pd\n",
    "data={'jaipur':'Rajasthan',\n",
    "      'Mumbai':'Maharashtar',\n",
    "      'Kolkata':'Bengal',\n",
    "      'chandigarg':'Punjab',\n",
    "      'Bengaluru':'Karnataka'}\n",
    "data"
   ]
  },
  {
   "cell_type": "code",
   "execution_count": 10,
   "id": "707fe011-2a9a-449b-96ce-e05a26abd4dd",
   "metadata": {},
   "outputs": [
    {
     "data": {
      "text/plain": [
       "jaipur          Rajasthan\n",
       "Mumbai        Maharashtar\n",
       "Kolkata            Bengal\n",
       "chandigarg         Punjab\n",
       "Bengaluru       Karnataka\n",
       "dtype: object"
      ]
     },
     "execution_count": 10,
     "metadata": {},
     "output_type": "execute_result"
    }
   ],
   "source": [
    "\n",
    "s2= pd.Series(data)\n",
    "s2"
   ]
  },
  {
   "cell_type": "code",
   "execution_count": 12,
   "id": "2fe4c56d-c968-4e70-b4db-ec19ce729bef",
   "metadata": {},
   "outputs": [
    {
     "data": {
      "text/plain": [
       "Index(['jaipur', 'Mumbai', 'Kolkata', 'chandigarg', 'Bengaluru'], dtype='object')"
      ]
     },
     "execution_count": 12,
     "metadata": {},
     "output_type": "execute_result"
    }
   ],
   "source": [
    "s2.index"
   ]
  },
  {
   "cell_type": "code",
   "execution_count": 14,
   "id": "5be48193-b8d2-4e77-a025-58cefdb38a11",
   "metadata": {},
   "outputs": [
    {
     "name": "stderr",
     "output_type": "stream",
     "text": [
      "C:\\Users\\91951\\AppData\\Local\\Temp\\ipykernel_15536\\2344841457.py:1: FutureWarning: Series.__getitem__ treating keys as positions is deprecated. In a future version, integer keys will always be treated as labels (consistent with DataFrame behavior). To access a value by position, use `ser.iloc[pos]`\n",
      "  s2[0]\n"
     ]
    },
    {
     "data": {
      "text/plain": [
       "'Rajasthan'"
      ]
     },
     "execution_count": 14,
     "metadata": {},
     "output_type": "execute_result"
    }
   ],
   "source": [
    "s2[0]"
   ]
  },
  {
   "cell_type": "code",
   "execution_count": 16,
   "id": "2dd3be17-b174-49fa-bcec-f2e4ad23021d",
   "metadata": {},
   "outputs": [
    {
     "name": "stderr",
     "output_type": "stream",
     "text": [
      "C:\\Users\\91951\\AppData\\Local\\Temp\\ipykernel_15536\\2825080482.py:1: FutureWarning: Series.__getitem__ treating keys as positions is deprecated. In a future version, integer keys will always be treated as labels (consistent with DataFrame behavior). To access a value by position, use `ser.iloc[pos]`\n",
      "  s2[1]\n"
     ]
    },
    {
     "data": {
      "text/plain": [
       "'Maharashtar'"
      ]
     },
     "execution_count": 16,
     "metadata": {},
     "output_type": "execute_result"
    }
   ],
   "source": [
    "s2[1]"
   ]
  },
  {
   "cell_type": "markdown",
   "id": "d016d5b9-e726-42d5-a5a7-1a37db1dafff",
   "metadata": {},
   "source": [
    "s2.values"
   ]
  },
  {
   "cell_type": "code",
   "execution_count": 19,
   "id": "9115f351-8568-4275-abc2-d73431ad5df0",
   "metadata": {},
   "outputs": [
    {
     "data": {
      "text/plain": [
       "array(['Rajasthan', 'Maharashtar', 'Bengal', 'Punjab', 'Karnataka'],\n",
       "      dtype=object)"
      ]
     },
     "execution_count": 19,
     "metadata": {},
     "output_type": "execute_result"
    }
   ],
   "source": [
    "s2.values"
   ]
  },
  {
   "cell_type": "code",
   "execution_count": 27,
   "id": "7d5cdf13-873e-404e-8691-f7b6eee6b16b",
   "metadata": {},
   "outputs": [
    {
     "name": "stderr",
     "output_type": "stream",
     "text": [
      "C:\\Users\\91951\\AppData\\Local\\Temp\\ipykernel_15536\\3032101855.py:1: FutureWarning: Series.__getitem__ treating keys as positions is deprecated. In a future version, integer keys will always be treated as labels (consistent with DataFrame behavior). To access a value by position, use `ser.iloc[pos]`\n",
      "  s2[-1]\n"
     ]
    },
    {
     "data": {
      "text/plain": [
       "'Karnataka'"
      ]
     },
     "execution_count": 27,
     "metadata": {},
     "output_type": "execute_result"
    }
   ],
   "source": [
    "s2[-1] #negative indexing "
   ]
  },
  {
   "cell_type": "code",
   "execution_count": 31,
   "id": "d0da77f2-ff88-4d60-b409-29991e7dfe2a",
   "metadata": {},
   "outputs": [
    {
     "data": {
      "text/plain": [
       "jaipur          Rajasthan\n",
       "Mumbai        Maharashtar\n",
       "Kolkata            Bengal\n",
       "chandigarg         Punjab\n",
       "Bengaluru       Karnataka\n",
       "Name: capital, dtype: object"
      ]
     },
     "execution_count": 31,
     "metadata": {},
     "output_type": "execute_result"
    }
   ],
   "source": [
    "s2.name= \"capital\"\n",
    "s2\n"
   ]
  },
  {
   "cell_type": "code",
   "execution_count": 37,
   "id": "20f0e214-cea9-415a-932a-97356bbcd1bf",
   "metadata": {},
   "outputs": [
    {
     "data": {
      "text/plain": [
       "jaipur          Rajasthan\n",
       "Mumbai        Maharashtar\n",
       "Kolkata            Bengal\n",
       "chandigarg         Punjab\n",
       "Bengaluru       Karnataka\n",
       "Name: capital, dtype: object"
      ]
     },
     "execution_count": 37,
     "metadata": {},
     "output_type": "execute_result"
    }
   ],
   "source": [
    "s2.index.name\n",
    "s2"
   ]
  },
  {
   "cell_type": "code",
   "execution_count": 53,
   "id": "d4a73c00-6856-4f81-b881-7c5e2e50ea9f",
   "metadata": {},
   "outputs": [
    {
     "data": {
      "text/plain": [
       "'Punjab'"
      ]
     },
     "execution_count": 53,
     "metadata": {},
     "output_type": "execute_result"
    }
   ],
   "source": [
    "s2.iloc[3] #accesing the elements using natural indexing "
   ]
  },
  {
   "cell_type": "code",
   "execution_count": 55,
   "id": "f2b6b3a4-935f-4213-8929-90287bb1aff7",
   "metadata": {},
   "outputs": [
    {
     "data": {
      "text/plain": [
       "'Bengal'"
      ]
     },
     "execution_count": 55,
     "metadata": {},
     "output_type": "execute_result"
    }
   ],
   "source": [
    "s2.iloc[2]"
   ]
  },
  {
   "cell_type": "code",
   "execution_count": 57,
   "id": "ced291df-f33f-463d-bc84-f149fd2d5c5d",
   "metadata": {},
   "outputs": [
    {
     "data": {
      "text/plain": [
       "'Rajasthan'"
      ]
     },
     "execution_count": 57,
     "metadata": {},
     "output_type": "execute_result"
    }
   ],
   "source": [
    "s2.loc[\"jaipur\"] #accesing using the key value or the loc provided by the use "
   ]
  },
  {
   "cell_type": "code",
   "execution_count": 59,
   "id": "fe2b6d9f-0b3d-4b4d-b508-fc8620c0af99",
   "metadata": {},
   "outputs": [
    {
     "data": {
      "text/plain": [
       "'capital'"
      ]
     },
     "execution_count": 59,
     "metadata": {},
     "output_type": "execute_result"
    }
   ],
   "source": [
    "s2.name # get the name of the the series se"
   ]
  },
  {
   "cell_type": "code",
   "execution_count": 86,
   "id": "00c46c07-2f07-4a2d-a71e-e5464ddbf5c9",
   "metadata": {},
   "outputs": [
    {
     "data": {
      "text/plain": [
       "Capital\n",
       "jaipur          Rajasthan\n",
       "Mumbai        Maharashtar\n",
       "Kolkata            Bengal\n",
       "chandigarg         Punjab\n",
       "Bengaluru       Karnataka\n",
       "Name: States and Capital, dtype: object"
      ]
     },
     "execution_count": 86,
     "metadata": {},
     "output_type": "execute_result"
    }
   ],
   "source": [
    "s2.index.name=\"Capital\"\n",
    "s2"
   ]
  },
  {
   "cell_type": "code",
   "execution_count": 99,
   "id": "556c8093-339e-4460-99cd-faeca00396c4",
   "metadata": {},
   "outputs": [],
   "source": [
    "# s2.value.name = \"state\" how to name the values "
   ]
  },
  {
   "cell_type": "code",
   "execution_count": 65,
   "id": "e4b5b520-622f-4b99-973f-33b998632328",
   "metadata": {},
   "outputs": [
    {
     "data": {
      "text/plain": [
       "jaipur          Rajasthan\n",
       "Mumbai        Maharashtar\n",
       "Kolkata            Bengal\n",
       "chandigarg         Punjab\n",
       "Bengaluru       Karnataka\n",
       "Name: States and Capital, dtype: object"
      ]
     },
     "execution_count": 65,
     "metadata": {},
     "output_type": "execute_result"
    }
   ],
   "source": [
    "s2.name= 'States and Capital'\n",
    "s2"
   ]
  },
  {
   "cell_type": "code",
   "execution_count": 101,
   "id": "137e8e0b-5e41-4ab1-889c-1213f7c7498a",
   "metadata": {},
   "outputs": [
    {
     "name": "stdout",
     "output_type": "stream",
     "text": [
      "Index(['jaipur', 'Mumbai', 'Kolkata', 'chandigarg', 'Bengaluru'], dtype='object', name='Capital')\n",
      "['Rajasthan' 'Maharashtar' 'Bengal' 'Punjab' 'Karnataka']\n",
      "object\n",
      "States and Capital\n",
      "Capital\n"
     ]
    }
   ],
   "source": [
    "# s2[['jaipur','Mumbai','kolkata']]\n",
    "# s2\n",
    "print(s2.index)\n",
    "print(s2.values)\n",
    "print(s2.dtype)\n",
    "print(s2.name)\n",
    "print(s2.index.name)"
   ]
  },
  {
   "cell_type": "code",
   "execution_count": 67,
   "id": "14f09430-7ba3-48ae-86f7-4ad62134ba1d",
   "metadata": {},
   "outputs": [
    {
     "data": {
      "text/plain": [
       "'States and Capital'"
      ]
     },
     "execution_count": 67,
     "metadata": {},
     "output_type": "execute_result"
    }
   ],
   "source": [
    "s2.name"
   ]
  },
  {
   "cell_type": "code",
   "execution_count": 107,
   "id": "11724f21-448a-47aa-9f73-eb6bfa627dec",
   "metadata": {},
   "outputs": [],
   "source": [
    "# s2[['jaipur','Mumbai','kolkata']] #access multiple details"
   ]
  },
  {
   "cell_type": "code",
   "execution_count": 75,
   "id": "338fae98-8377-4631-93c5-77bcbef5db4c",
   "metadata": {},
   "outputs": [],
   "source": [
    "list1 =[1,2,3,4,5,6]\n",
    "list2=[\"A\",\"B\",\"C\",\"D\",\"E\",\"F\"]\n"
   ]
  },
  {
   "cell_type": "code",
   "execution_count": 111,
   "id": "08677d25-21c4-43d2-b102-2c91772b0799",
   "metadata": {},
   "outputs": [
    {
     "data": {
      "text/plain": [
       "101    68\n",
       "102    89\n",
       "103    93\n",
       "104    74\n",
       "105    96\n",
       "dtype: int64"
      ]
     },
     "execution_count": 111,
     "metadata": {},
     "output_type": "execute_result"
    }
   ],
   "source": [
    "roll_no = [101,102,103,104,105] #list 1\n",
    "result =[68,89,93,74,96]#list2\n",
    "s3 = pd.Series(data = result , index= roll_no) #we are converting the two list into a series using these functions\n",
    "s3\n"
   ]
  },
  {
   "cell_type": "code",
   "execution_count": 113,
   "id": "dfc4284a-0a99-4616-b068-aee186e8af04",
   "metadata": {},
   "outputs": [
    {
     "data": {
      "text/plain": [
       "Roll_no\n",
       "101    68\n",
       "102    89\n",
       "103    93\n",
       "104    74\n",
       "105    96\n",
       "Name: Final_Result, dtype: int64"
      ]
     },
     "execution_count": 113,
     "metadata": {},
     "output_type": "execute_result"
    }
   ],
   "source": [
    "s3.name ='Final_Result' #name of the list \n",
    "s3.index.name ='Roll_no' #name of index \n",
    "s3"
   ]
  },
  {
   "cell_type": "code",
   "execution_count": 115,
   "id": "55d9a86a-accb-4c0b-b15b-44a95144c561",
   "metadata": {},
   "outputs": [
    {
     "data": {
      "text/plain": [
       "Capital\n",
       "jaipur          Rajasthan\n",
       "Mumbai        Maharashtar\n",
       "Kolkata            Bengal\n",
       "chandigarg         Punjab\n",
       "Bengaluru       Karnataka\n",
       "Name: States and Capital, dtype: object"
      ]
     },
     "execution_count": 115,
     "metadata": {},
     "output_type": "execute_result"
    }
   ],
   "source": [
    "s2"
   ]
  },
  {
   "cell_type": "code",
   "execution_count": 121,
   "id": "313f0feb-2322-4dbc-97dd-13858f9512eb",
   "metadata": {},
   "outputs": [
    {
     "data": {
      "text/plain": [
       "jaipur       Rajasthan\n",
       "Kolkata         Bengal\n",
       "Mumbai     Maharashtar\n",
       "Name: States and Capital, dtype: object"
      ]
     },
     "execution_count": 121,
     "metadata": {},
     "output_type": "execute_result"
    }
   ],
   "source": [
    "capitals =['jaipur','Kolkata','Mumbai']\n",
    "s4 = pd.Series(data = s2, index = capitals)\n",
    "s4"
   ]
  },
  {
   "cell_type": "code",
   "execution_count": 123,
   "id": "c46b2df6-3c83-41b5-98b7-025620a33948",
   "metadata": {},
   "outputs": [
    {
     "data": {
      "text/plain": [
       "jaipur       Rajasthan\n",
       "Kolkata         Bengal\n",
       "Mumbai     Maharashtar\n",
       "Delhi              NaN\n",
       "Chennai            NaN\n",
       "Name: States and Capital, dtype: object"
      ]
     },
     "execution_count": 123,
     "metadata": {},
     "output_type": "execute_result"
    }
   ],
   "source": [
    "capitals=['jaipur','Kolkata','Mumbai','Delhi','Chennai']\n",
    "s5=pd.Series(data= s2, index = capitals)\n",
    "s5"
   ]
  },
  {
   "cell_type": "code",
   "execution_count": 127,
   "id": "fd45efff-37cc-4c8c-a0c0-59fdf8ebb0d2",
   "metadata": {},
   "outputs": [],
   "source": [
    "# FUNCTIONS \n",
    "# isnull() = to check null value will return true if the value is null \n",
    "# notnull() = will return true if not null \n",
    "# duplicated = will return True for duplicate value\n"
   ]
  },
  {
   "cell_type": "code",
   "execution_count": 129,
   "id": "a092fe17-47ba-4cd7-9d8f-6f06d2620514",
   "metadata": {},
   "outputs": [
    {
     "data": {
      "text/plain": [
       "jaipur     False\n",
       "Kolkata    False\n",
       "Mumbai     False\n",
       "Delhi       True\n",
       "Chennai     True\n",
       "Name: States and Capital, dtype: bool"
      ]
     },
     "execution_count": 129,
     "metadata": {},
     "output_type": "execute_result"
    }
   ],
   "source": [
    "s5.isnull() #will return the true value if the value is null"
   ]
  },
  {
   "cell_type": "code",
   "execution_count": 131,
   "id": "5972a24c-a228-4cf3-b134-6f37b0fd17be",
   "metadata": {},
   "outputs": [
    {
     "data": {
      "text/plain": [
       "jaipur      True\n",
       "Kolkata     True\n",
       "Mumbai      True\n",
       "Delhi      False\n",
       "Chennai    False\n",
       "Name: States and Capital, dtype: bool"
      ]
     },
     "execution_count": 131,
     "metadata": {},
     "output_type": "execute_result"
    }
   ],
   "source": [
    "s5.notnull() #will return the true if not null value false if null\n"
   ]
  },
  {
   "cell_type": "code",
   "execution_count": 133,
   "id": "67bb8226-5205-44ff-9932-5b1f21f891c6",
   "metadata": {},
   "outputs": [
    {
     "data": {
      "text/plain": [
       "jaipur     False\n",
       "Kolkata    False\n",
       "Mumbai     False\n",
       "Delhi      False\n",
       "Chennai     True\n",
       "Name: States and Capital, dtype: bool"
      ]
     },
     "execution_count": 133,
     "metadata": {},
     "output_type": "execute_result"
    }
   ],
   "source": [
    "s5.duplicated()"
   ]
  },
  {
   "cell_type": "code",
   "execution_count": 137,
   "id": "270bd85f-53e8-4e1a-a76c-5843111ccd33",
   "metadata": {},
   "outputs": [
    {
     "data": {
      "text/plain": [
       "2"
      ]
     },
     "execution_count": 137,
     "metadata": {},
     "output_type": "execute_result"
    }
   ],
   "source": [
    "s5.isnull().sum() #will return how much null values are present in the dataset\n"
   ]
  },
  {
   "cell_type": "code",
   "execution_count": 142,
   "id": "58da0998-355e-4042-9cee-214a8acb658c",
   "metadata": {},
   "outputs": [
    {
     "data": {
      "text/plain": [
       "3"
      ]
     },
     "execution_count": 142,
     "metadata": {},
     "output_type": "execute_result"
    }
   ],
   "source": [
    "s5.notnull().sum() #will return the sum of notnull values "
   ]
  },
  {
   "cell_type": "code",
   "execution_count": 144,
   "id": "85089770-0f9b-499b-b069-143b84cbc59a",
   "metadata": {},
   "outputs": [
    {
     "data": {
      "text/plain": [
       "jaipur       Rajasthan\n",
       "Kolkata         Bengal\n",
       "Mumbai     Maharashtar\n",
       "Delhi              NaN\n",
       "Chennai            NaN\n",
       "Name: States and Capital, dtype: object"
      ]
     },
     "execution_count": 144,
     "metadata": {},
     "output_type": "execute_result"
    }
   ],
   "source": [
    "s5.head() #will return the first 5 values"
   ]
  },
  {
   "cell_type": "code",
   "execution_count": 146,
   "id": "5c6e794d-4698-4670-9d4f-4162a6f047b6",
   "metadata": {},
   "outputs": [
    {
     "data": {
      "text/plain": [
       "jaipur       Rajasthan\n",
       "Kolkata         Bengal\n",
       "Mumbai     Maharashtar\n",
       "Delhi              NaN\n",
       "Chennai            NaN\n",
       "Name: States and Capital, dtype: object"
      ]
     },
     "execution_count": 146,
     "metadata": {},
     "output_type": "execute_result"
    }
   ],
   "source": [
    "s5.tail() #will return the last five values\n"
   ]
  },
  {
   "cell_type": "code",
   "execution_count": 150,
   "id": "a70a8335-aa38-45f0-ab51-ee2c6f86ab7e",
   "metadata": {},
   "outputs": [
    {
     "name": "stdout",
     "output_type": "stream",
     "text": [
      "Delhi      NaN\n",
      "Chennai    NaN\n",
      "Name: States and Capital, dtype: object\n",
      "jaipur     Rajasthan\n",
      "Kolkata       Bengal\n",
      "Name: States and Capital, dtype: object\n"
     ]
    }
   ],
   "source": [
    "print(s5.tail(2)) #last 2 values\n",
    "\n",
    "print(s5.head(2))#first 2 values"
   ]
  },
  {
   "cell_type": "code",
   "execution_count": 152,
   "id": "c456c31b-09a1-4f32-8e06-bb12a50ab270",
   "metadata": {},
   "outputs": [
    {
     "data": {
      "text/plain": [
       "1"
      ]
     },
     "execution_count": 152,
     "metadata": {},
     "output_type": "execute_result"
    }
   ],
   "source": [
    "s5.duplicated().sum() #wil return the sum of duplicated values "
   ]
  },
  {
   "cell_type": "raw",
   "id": "a61c404c-f1cd-4869-af81-78e73e3a859b",
   "metadata": {},
   "source": [
    "DATAFRAMES"
   ]
  },
  {
   "cell_type": "code",
   "execution_count": 226,
   "id": "bc85ba3d-8ae1-4ce2-aa01-dfba8182a705",
   "metadata": {},
   "outputs": [],
   "source": [
    "emp1=pd.Series({'Name':'utkarsh', 'ID': 1, 'Gender':'Male', 'Salary':95000})\n",
    "emp2=pd.Series({'Name':'kartik', 'ID': 2, 'Gender':'Male', 'Salary':85000})\n",
    "emp3=pd.Series({'Name':'Aishwarya', 'ID': 3, 'Gender':'Female', 'Salary':75000})\n",
    "emp4=pd.Series({'Name':'Anand', 'ID': 4, 'Gender':'Male', 'Salary':65000})\n",
    "emp5=pd.Series({'Name':'Shalini', 'ID': 5, 'Gender':'Male', 'Salary':90000})\n",
    "emp6=pd.Series({'Name':'Pratik', 'ID': 6, 'Gender':'Male', 'Salary':80000})\n",
    "emp7=pd.Series({'Name':'Monalika', 'ID': 7, 'Gender':'female', 'Salary':70000})\n",
    "emp8=pd.Series({'Name':'Ayesha', 'ID': 8, 'Gender':'Female', 'Salary':60000})\n",
    "emp9=pd.Series({'Name':'Anant', 'ID': 9, 'Gender':'Male', 'Salary':10000})\n",
    "emp10=pd.Series({'Name':'Shamiksha', 'ID': 10, 'Gender':'Female', 'Salary':45000})\n",
    "emp11=pd.Series({'Name':'Prashant','ID': 11, 'Gender':'Male', 'Salary':55000})\n",
    "emp12=pd.Series({'Name':'Mohini','ID': 12, 'Gender':'Female', 'Salary':65000})"
   ]
  },
  {
   "cell_type": "code",
   "execution_count": 228,
   "id": "3392676b-a564-46fb-a326-abff2b581633",
   "metadata": {},
   "outputs": [
    {
     "data": {
      "text/html": [
       "<div>\n",
       "<style scoped>\n",
       "    .dataframe tbody tr th:only-of-type {\n",
       "        vertical-align: middle;\n",
       "    }\n",
       "\n",
       "    .dataframe tbody tr th {\n",
       "        vertical-align: top;\n",
       "    }\n",
       "\n",
       "    .dataframe thead th {\n",
       "        text-align: right;\n",
       "    }\n",
       "</style>\n",
       "<table border=\"1\" class=\"dataframe\">\n",
       "  <thead>\n",
       "    <tr style=\"text-align: right;\">\n",
       "      <th></th>\n",
       "      <th>Name</th>\n",
       "      <th>ID</th>\n",
       "      <th>Gender</th>\n",
       "      <th>Salary</th>\n",
       "    </tr>\n",
       "  </thead>\n",
       "  <tbody>\n",
       "    <tr>\n",
       "      <th>101</th>\n",
       "      <td>utkarsh</td>\n",
       "      <td>1</td>\n",
       "      <td>Male</td>\n",
       "      <td>95000</td>\n",
       "    </tr>\n",
       "    <tr>\n",
       "      <th>102</th>\n",
       "      <td>kartik</td>\n",
       "      <td>2</td>\n",
       "      <td>Male</td>\n",
       "      <td>85000</td>\n",
       "    </tr>\n",
       "    <tr>\n",
       "      <th>103</th>\n",
       "      <td>Aishwarya</td>\n",
       "      <td>3</td>\n",
       "      <td>Female</td>\n",
       "      <td>75000</td>\n",
       "    </tr>\n",
       "    <tr>\n",
       "      <th>104</th>\n",
       "      <td>Anand</td>\n",
       "      <td>4</td>\n",
       "      <td>Male</td>\n",
       "      <td>65000</td>\n",
       "    </tr>\n",
       "    <tr>\n",
       "      <th>105</th>\n",
       "      <td>Shalini</td>\n",
       "      <td>5</td>\n",
       "      <td>Male</td>\n",
       "      <td>90000</td>\n",
       "    </tr>\n",
       "    <tr>\n",
       "      <th>106</th>\n",
       "      <td>Pratik</td>\n",
       "      <td>6</td>\n",
       "      <td>Male</td>\n",
       "      <td>80000</td>\n",
       "    </tr>\n",
       "    <tr>\n",
       "      <th>107</th>\n",
       "      <td>Monalika</td>\n",
       "      <td>7</td>\n",
       "      <td>female</td>\n",
       "      <td>70000</td>\n",
       "    </tr>\n",
       "    <tr>\n",
       "      <th>108</th>\n",
       "      <td>Ayesha</td>\n",
       "      <td>8</td>\n",
       "      <td>Female</td>\n",
       "      <td>60000</td>\n",
       "    </tr>\n",
       "    <tr>\n",
       "      <th>109</th>\n",
       "      <td>Anant</td>\n",
       "      <td>9</td>\n",
       "      <td>Male</td>\n",
       "      <td>10000</td>\n",
       "    </tr>\n",
       "    <tr>\n",
       "      <th>110</th>\n",
       "      <td>Shamiksha</td>\n",
       "      <td>10</td>\n",
       "      <td>Female</td>\n",
       "      <td>45000</td>\n",
       "    </tr>\n",
       "    <tr>\n",
       "      <th>111</th>\n",
       "      <td>Prashant</td>\n",
       "      <td>11</td>\n",
       "      <td>Male</td>\n",
       "      <td>55000</td>\n",
       "    </tr>\n",
       "    <tr>\n",
       "      <th>112</th>\n",
       "      <td>Mohini</td>\n",
       "      <td>12</td>\n",
       "      <td>Female</td>\n",
       "      <td>65000</td>\n",
       "    </tr>\n",
       "  </tbody>\n",
       "</table>\n",
       "</div>"
      ],
      "text/plain": [
       "          Name  ID  Gender  Salary\n",
       "101    utkarsh   1    Male   95000\n",
       "102     kartik   2    Male   85000\n",
       "103  Aishwarya   3  Female   75000\n",
       "104      Anand   4    Male   65000\n",
       "105    Shalini   5    Male   90000\n",
       "106     Pratik   6    Male   80000\n",
       "107   Monalika   7  female   70000\n",
       "108     Ayesha   8  Female   60000\n",
       "109      Anant   9    Male   10000\n",
       "110  Shamiksha  10  Female   45000\n",
       "111   Prashant  11    Male   55000\n",
       "112     Mohini  12  Female   65000"
      ]
     },
     "execution_count": 228,
     "metadata": {},
     "output_type": "execute_result"
    }
   ],
   "source": [
    "employees= [emp1,emp2,emp3,emp4,emp5,emp6,emp7,emp8,emp9,emp10,emp11,emp12]\n",
    "df1 = pd.DataFrame(data= employees, index= range(101, 113))\n",
    "df1"
   ]
  },
  {
   "cell_type": "code",
   "execution_count": 230,
   "id": "3204fc30-8e0c-4778-9393-9b7faa4bd859",
   "metadata": {},
   "outputs": [
    {
     "data": {
      "text/html": [
       "<div>\n",
       "<style scoped>\n",
       "    .dataframe tbody tr th:only-of-type {\n",
       "        vertical-align: middle;\n",
       "    }\n",
       "\n",
       "    .dataframe tbody tr th {\n",
       "        vertical-align: top;\n",
       "    }\n",
       "\n",
       "    .dataframe thead th {\n",
       "        text-align: right;\n",
       "    }\n",
       "</style>\n",
       "<table border=\"1\" class=\"dataframe\">\n",
       "  <thead>\n",
       "    <tr style=\"text-align: right;\">\n",
       "      <th></th>\n",
       "      <th>Name</th>\n",
       "      <th>ID</th>\n",
       "      <th>Gender</th>\n",
       "      <th>Salary</th>\n",
       "    </tr>\n",
       "  </thead>\n",
       "  <tbody>\n",
       "    <tr>\n",
       "      <th>101</th>\n",
       "      <td>utkarsh</td>\n",
       "      <td>1</td>\n",
       "      <td>Male</td>\n",
       "      <td>95000</td>\n",
       "    </tr>\n",
       "    <tr>\n",
       "      <th>102</th>\n",
       "      <td>kartik</td>\n",
       "      <td>2</td>\n",
       "      <td>Male</td>\n",
       "      <td>85000</td>\n",
       "    </tr>\n",
       "    <tr>\n",
       "      <th>103</th>\n",
       "      <td>Aishwarya</td>\n",
       "      <td>3</td>\n",
       "      <td>Female</td>\n",
       "      <td>75000</td>\n",
       "    </tr>\n",
       "    <tr>\n",
       "      <th>104</th>\n",
       "      <td>Anand</td>\n",
       "      <td>4</td>\n",
       "      <td>Male</td>\n",
       "      <td>65000</td>\n",
       "    </tr>\n",
       "    <tr>\n",
       "      <th>105</th>\n",
       "      <td>Shalini</td>\n",
       "      <td>5</td>\n",
       "      <td>Male</td>\n",
       "      <td>90000</td>\n",
       "    </tr>\n",
       "  </tbody>\n",
       "</table>\n",
       "</div>"
      ],
      "text/plain": [
       "          Name  ID  Gender  Salary\n",
       "101    utkarsh   1    Male   95000\n",
       "102     kartik   2    Male   85000\n",
       "103  Aishwarya   3  Female   75000\n",
       "104      Anand   4    Male   65000\n",
       "105    Shalini   5    Male   90000"
      ]
     },
     "execution_count": 230,
     "metadata": {},
     "output_type": "execute_result"
    }
   ],
   "source": [
    "df1.head() #first five values"
   ]
  },
  {
   "cell_type": "code",
   "execution_count": 232,
   "id": "9528ec3e-b128-4b16-a537-d9cdb4a5a257",
   "metadata": {},
   "outputs": [
    {
     "data": {
      "text/html": [
       "<div>\n",
       "<style scoped>\n",
       "    .dataframe tbody tr th:only-of-type {\n",
       "        vertical-align: middle;\n",
       "    }\n",
       "\n",
       "    .dataframe tbody tr th {\n",
       "        vertical-align: top;\n",
       "    }\n",
       "\n",
       "    .dataframe thead th {\n",
       "        text-align: right;\n",
       "    }\n",
       "</style>\n",
       "<table border=\"1\" class=\"dataframe\">\n",
       "  <thead>\n",
       "    <tr style=\"text-align: right;\">\n",
       "      <th></th>\n",
       "      <th>Name</th>\n",
       "      <th>ID</th>\n",
       "      <th>Gender</th>\n",
       "      <th>Salary</th>\n",
       "    </tr>\n",
       "  </thead>\n",
       "  <tbody>\n",
       "    <tr>\n",
       "      <th>108</th>\n",
       "      <td>Ayesha</td>\n",
       "      <td>8</td>\n",
       "      <td>Female</td>\n",
       "      <td>60000</td>\n",
       "    </tr>\n",
       "    <tr>\n",
       "      <th>109</th>\n",
       "      <td>Anant</td>\n",
       "      <td>9</td>\n",
       "      <td>Male</td>\n",
       "      <td>10000</td>\n",
       "    </tr>\n",
       "    <tr>\n",
       "      <th>110</th>\n",
       "      <td>Shamiksha</td>\n",
       "      <td>10</td>\n",
       "      <td>Female</td>\n",
       "      <td>45000</td>\n",
       "    </tr>\n",
       "    <tr>\n",
       "      <th>111</th>\n",
       "      <td>Prashant</td>\n",
       "      <td>11</td>\n",
       "      <td>Male</td>\n",
       "      <td>55000</td>\n",
       "    </tr>\n",
       "    <tr>\n",
       "      <th>112</th>\n",
       "      <td>Mohini</td>\n",
       "      <td>12</td>\n",
       "      <td>Female</td>\n",
       "      <td>65000</td>\n",
       "    </tr>\n",
       "  </tbody>\n",
       "</table>\n",
       "</div>"
      ],
      "text/plain": [
       "          Name  ID  Gender  Salary\n",
       "108     Ayesha   8  Female   60000\n",
       "109      Anant   9    Male   10000\n",
       "110  Shamiksha  10  Female   45000\n",
       "111   Prashant  11    Male   55000\n",
       "112     Mohini  12  Female   65000"
      ]
     },
     "execution_count": 232,
     "metadata": {},
     "output_type": "execute_result"
    }
   ],
   "source": [
    "df1.tail() #last  5values "
   ]
  },
  {
   "cell_type": "code",
   "execution_count": 234,
   "id": "735d52a0-f141-42a7-b56c-65a84fbfe8c3",
   "metadata": {},
   "outputs": [
    {
     "name": "stdout",
     "output_type": "stream",
     "text": [
      "<class 'pandas.core.frame.DataFrame'>\n",
      "RangeIndex: 12 entries, 101 to 112\n",
      "Data columns (total 4 columns):\n",
      " #   Column  Non-Null Count  Dtype \n",
      "---  ------  --------------  ----- \n",
      " 0   Name    12 non-null     object\n",
      " 1   ID      12 non-null     int64 \n",
      " 2   Gender  12 non-null     object\n",
      " 3   Salary  12 non-null     int64 \n",
      "dtypes: int64(2), object(2)\n",
      "memory usage: 516.0+ bytes\n"
     ]
    }
   ],
   "source": [
    "df1.info() #give a detiailed info"
   ]
  },
  {
   "cell_type": "code",
   "execution_count": 212,
   "id": "3cd5040d-8a7c-413e-b213-8af6e65ef908",
   "metadata": {},
   "outputs": [
    {
     "data": {
      "text/plain": [
       "Name      0\n",
       "ID        0\n",
       "Gender    0\n",
       "Salary    0\n",
       "dtype: int64"
      ]
     },
     "execution_count": 212,
     "metadata": {},
     "output_type": "execute_result"
    }
   ],
   "source": [
    "df1.isnull().sum()"
   ]
  },
  {
   "cell_type": "code",
   "execution_count": 236,
   "id": "d690599e-1e7e-4fb0-8c55-5019f717e608",
   "metadata": {},
   "outputs": [
    {
     "data": {
      "text/plain": [
       "RangeIndex(start=101, stop=113, step=1)"
      ]
     },
     "execution_count": 236,
     "metadata": {},
     "output_type": "execute_result"
    }
   ],
   "source": [
    "df1.index #will give the start stop step of index "
   ]
  },
  {
   "cell_type": "code",
   "execution_count": 238,
   "id": "24d4edc4-02c1-42d8-8d3a-b16eac4df38a",
   "metadata": {},
   "outputs": [
    {
     "data": {
      "text/plain": [
       "array([['utkarsh', 1, 'Male', 95000],\n",
       "       ['kartik', 2, 'Male', 85000],\n",
       "       ['Aishwarya', 3, 'Female', 75000],\n",
       "       ['Anand', 4, 'Male', 65000],\n",
       "       ['Shalini', 5, 'Male', 90000],\n",
       "       ['Pratik', 6, 'Male', 80000],\n",
       "       ['Monalika', 7, 'female', 70000],\n",
       "       ['Ayesha', 8, 'Female', 60000],\n",
       "       ['Anant', 9, 'Male', 10000],\n",
       "       ['Shamiksha', 10, 'Female', 45000],\n",
       "       ['Prashant', 11, 'Male', 55000],\n",
       "       ['Mohini', 12, 'Female', 65000]], dtype=object)"
      ]
     },
     "execution_count": 238,
     "metadata": {},
     "output_type": "execute_result"
    }
   ],
   "source": [
    "df1.values #will return the valus "
   ]
  },
  {
   "cell_type": "code",
   "execution_count": 240,
   "id": "fea795d3-a924-425f-a4ab-e7f135d691f2",
   "metadata": {},
   "outputs": [
    {
     "data": {
      "text/plain": [
       "Index(['Name', 'ID', 'Gender', 'Salary'], dtype='object')"
      ]
     },
     "execution_count": 240,
     "metadata": {},
     "output_type": "execute_result"
    }
   ],
   "source": [
    "df1.columns #will return the name of the columns"
   ]
  },
  {
   "cell_type": "code",
   "execution_count": 244,
   "id": "c52619b7-b443-460f-9bae-bacc3f3be0e0",
   "metadata": {},
   "outputs": [
    {
     "data": {
      "text/html": [
       "<div>\n",
       "<style scoped>\n",
       "    .dataframe tbody tr th:only-of-type {\n",
       "        vertical-align: middle;\n",
       "    }\n",
       "\n",
       "    .dataframe tbody tr th {\n",
       "        vertical-align: top;\n",
       "    }\n",
       "\n",
       "    .dataframe thead th {\n",
       "        text-align: right;\n",
       "    }\n",
       "</style>\n",
       "<table border=\"1\" class=\"dataframe\">\n",
       "  <thead>\n",
       "    <tr style=\"text-align: right;\">\n",
       "      <th></th>\n",
       "      <th>Name</th>\n",
       "      <th>ID</th>\n",
       "      <th>Gender</th>\n",
       "      <th>Salary</th>\n",
       "    </tr>\n",
       "    <tr>\n",
       "      <th>emp_ID</th>\n",
       "      <th></th>\n",
       "      <th></th>\n",
       "      <th></th>\n",
       "      <th></th>\n",
       "    </tr>\n",
       "  </thead>\n",
       "  <tbody>\n",
       "    <tr>\n",
       "      <th>101</th>\n",
       "      <td>utkarsh</td>\n",
       "      <td>1</td>\n",
       "      <td>Male</td>\n",
       "      <td>95000</td>\n",
       "    </tr>\n",
       "    <tr>\n",
       "      <th>102</th>\n",
       "      <td>kartik</td>\n",
       "      <td>2</td>\n",
       "      <td>Male</td>\n",
       "      <td>85000</td>\n",
       "    </tr>\n",
       "    <tr>\n",
       "      <th>103</th>\n",
       "      <td>Aishwarya</td>\n",
       "      <td>3</td>\n",
       "      <td>Female</td>\n",
       "      <td>75000</td>\n",
       "    </tr>\n",
       "    <tr>\n",
       "      <th>104</th>\n",
       "      <td>Anand</td>\n",
       "      <td>4</td>\n",
       "      <td>Male</td>\n",
       "      <td>65000</td>\n",
       "    </tr>\n",
       "    <tr>\n",
       "      <th>105</th>\n",
       "      <td>Shalini</td>\n",
       "      <td>5</td>\n",
       "      <td>Male</td>\n",
       "      <td>90000</td>\n",
       "    </tr>\n",
       "    <tr>\n",
       "      <th>106</th>\n",
       "      <td>Pratik</td>\n",
       "      <td>6</td>\n",
       "      <td>Male</td>\n",
       "      <td>80000</td>\n",
       "    </tr>\n",
       "    <tr>\n",
       "      <th>107</th>\n",
       "      <td>Monalika</td>\n",
       "      <td>7</td>\n",
       "      <td>female</td>\n",
       "      <td>70000</td>\n",
       "    </tr>\n",
       "    <tr>\n",
       "      <th>108</th>\n",
       "      <td>Ayesha</td>\n",
       "      <td>8</td>\n",
       "      <td>Female</td>\n",
       "      <td>60000</td>\n",
       "    </tr>\n",
       "    <tr>\n",
       "      <th>109</th>\n",
       "      <td>Anant</td>\n",
       "      <td>9</td>\n",
       "      <td>Male</td>\n",
       "      <td>10000</td>\n",
       "    </tr>\n",
       "    <tr>\n",
       "      <th>110</th>\n",
       "      <td>Shamiksha</td>\n",
       "      <td>10</td>\n",
       "      <td>Female</td>\n",
       "      <td>45000</td>\n",
       "    </tr>\n",
       "    <tr>\n",
       "      <th>111</th>\n",
       "      <td>Prashant</td>\n",
       "      <td>11</td>\n",
       "      <td>Male</td>\n",
       "      <td>55000</td>\n",
       "    </tr>\n",
       "    <tr>\n",
       "      <th>112</th>\n",
       "      <td>Mohini</td>\n",
       "      <td>12</td>\n",
       "      <td>Female</td>\n",
       "      <td>65000</td>\n",
       "    </tr>\n",
       "  </tbody>\n",
       "</table>\n",
       "</div>"
      ],
      "text/plain": [
       "             Name  ID  Gender  Salary\n",
       "emp_ID                               \n",
       "101       utkarsh   1    Male   95000\n",
       "102        kartik   2    Male   85000\n",
       "103     Aishwarya   3  Female   75000\n",
       "104         Anand   4    Male   65000\n",
       "105       Shalini   5    Male   90000\n",
       "106        Pratik   6    Male   80000\n",
       "107      Monalika   7  female   70000\n",
       "108        Ayesha   8  Female   60000\n",
       "109         Anant   9    Male   10000\n",
       "110     Shamiksha  10  Female   45000\n",
       "111      Prashant  11    Male   55000\n",
       "112        Mohini  12  Female   65000"
      ]
     },
     "execution_count": 244,
     "metadata": {},
     "output_type": "execute_result"
    }
   ],
   "source": [
    "df1.name =\"Employee_Details\" #naming the whole dataset \n",
    "df1.index.name = \"emp_ID\" #naming the emp id \n",
    "df1"
   ]
  },
  {
   "cell_type": "code",
   "execution_count": 246,
   "id": "f4b89ab5-5be5-4166-b5c8-a1a748c38d81",
   "metadata": {},
   "outputs": [
    {
     "data": {
      "text/plain": [
       "'Employee_Details'"
      ]
     },
     "execution_count": 246,
     "metadata": {},
     "output_type": "execute_result"
    }
   ],
   "source": [
    "df1.name"
   ]
  },
  {
   "cell_type": "code",
   "execution_count": 248,
   "id": "743251bc-9a5c-47da-be27-181f9ed32305",
   "metadata": {},
   "outputs": [
    {
     "data": {
      "text/plain": [
       "'emp_ID'"
      ]
     },
     "execution_count": 248,
     "metadata": {},
     "output_type": "execute_result"
    }
   ],
   "source": [
    "df1.index.name"
   ]
  },
  {
   "cell_type": "raw",
   "id": "ed5563f7-a003-481f-9c91-417f7571137e",
   "metadata": {},
   "source": [
    "#accessing the data from data frame"
   ]
  },
  {
   "cell_type": "code",
   "execution_count": 250,
   "id": "0ca211b6-579f-425f-8ff0-1350ad03e870",
   "metadata": {},
   "outputs": [
    {
     "data": {
      "text/html": [
       "<div>\n",
       "<style scoped>\n",
       "    .dataframe tbody tr th:only-of-type {\n",
       "        vertical-align: middle;\n",
       "    }\n",
       "\n",
       "    .dataframe tbody tr th {\n",
       "        vertical-align: top;\n",
       "    }\n",
       "\n",
       "    .dataframe thead th {\n",
       "        text-align: right;\n",
       "    }\n",
       "</style>\n",
       "<table border=\"1\" class=\"dataframe\">\n",
       "  <thead>\n",
       "    <tr style=\"text-align: right;\">\n",
       "      <th></th>\n",
       "      <th>Name</th>\n",
       "      <th>ID</th>\n",
       "      <th>Gender</th>\n",
       "      <th>Salary</th>\n",
       "    </tr>\n",
       "    <tr>\n",
       "      <th>emp_ID</th>\n",
       "      <th></th>\n",
       "      <th></th>\n",
       "      <th></th>\n",
       "      <th></th>\n",
       "    </tr>\n",
       "  </thead>\n",
       "  <tbody>\n",
       "    <tr>\n",
       "      <th>101</th>\n",
       "      <td>utkarsh</td>\n",
       "      <td>1</td>\n",
       "      <td>Male</td>\n",
       "      <td>95000</td>\n",
       "    </tr>\n",
       "    <tr>\n",
       "      <th>102</th>\n",
       "      <td>kartik</td>\n",
       "      <td>2</td>\n",
       "      <td>Male</td>\n",
       "      <td>85000</td>\n",
       "    </tr>\n",
       "    <tr>\n",
       "      <th>103</th>\n",
       "      <td>Aishwarya</td>\n",
       "      <td>3</td>\n",
       "      <td>Female</td>\n",
       "      <td>75000</td>\n",
       "    </tr>\n",
       "    <tr>\n",
       "      <th>104</th>\n",
       "      <td>Anand</td>\n",
       "      <td>4</td>\n",
       "      <td>Male</td>\n",
       "      <td>65000</td>\n",
       "    </tr>\n",
       "    <tr>\n",
       "      <th>105</th>\n",
       "      <td>Shalini</td>\n",
       "      <td>5</td>\n",
       "      <td>Male</td>\n",
       "      <td>90000</td>\n",
       "    </tr>\n",
       "    <tr>\n",
       "      <th>106</th>\n",
       "      <td>Pratik</td>\n",
       "      <td>6</td>\n",
       "      <td>Male</td>\n",
       "      <td>80000</td>\n",
       "    </tr>\n",
       "    <tr>\n",
       "      <th>107</th>\n",
       "      <td>Monalika</td>\n",
       "      <td>7</td>\n",
       "      <td>female</td>\n",
       "      <td>70000</td>\n",
       "    </tr>\n",
       "    <tr>\n",
       "      <th>108</th>\n",
       "      <td>Ayesha</td>\n",
       "      <td>8</td>\n",
       "      <td>Female</td>\n",
       "      <td>60000</td>\n",
       "    </tr>\n",
       "    <tr>\n",
       "      <th>109</th>\n",
       "      <td>Anant</td>\n",
       "      <td>9</td>\n",
       "      <td>Male</td>\n",
       "      <td>10000</td>\n",
       "    </tr>\n",
       "    <tr>\n",
       "      <th>110</th>\n",
       "      <td>Shamiksha</td>\n",
       "      <td>10</td>\n",
       "      <td>Female</td>\n",
       "      <td>45000</td>\n",
       "    </tr>\n",
       "    <tr>\n",
       "      <th>111</th>\n",
       "      <td>Prashant</td>\n",
       "      <td>11</td>\n",
       "      <td>Male</td>\n",
       "      <td>55000</td>\n",
       "    </tr>\n",
       "    <tr>\n",
       "      <th>112</th>\n",
       "      <td>Mohini</td>\n",
       "      <td>12</td>\n",
       "      <td>Female</td>\n",
       "      <td>65000</td>\n",
       "    </tr>\n",
       "  </tbody>\n",
       "</table>\n",
       "</div>"
      ],
      "text/plain": [
       "             Name  ID  Gender  Salary\n",
       "emp_ID                               \n",
       "101       utkarsh   1    Male   95000\n",
       "102        kartik   2    Male   85000\n",
       "103     Aishwarya   3  Female   75000\n",
       "104         Anand   4    Male   65000\n",
       "105       Shalini   5    Male   90000\n",
       "106        Pratik   6    Male   80000\n",
       "107      Monalika   7  female   70000\n",
       "108        Ayesha   8  Female   60000\n",
       "109         Anant   9    Male   10000\n",
       "110     Shamiksha  10  Female   45000\n",
       "111      Prashant  11    Male   55000\n",
       "112        Mohini  12  Female   65000"
      ]
     },
     "execution_count": 250,
     "metadata": {},
     "output_type": "execute_result"
    }
   ],
   "source": [
    "df1"
   ]
  },
  {
   "cell_type": "raw",
   "id": "bdeae0b7-bb43-48cb-94bd-16acea5b975d",
   "metadata": {},
   "source": [
    "variablename['columnname'] to acces the columns"
   ]
  },
  {
   "cell_type": "code",
   "execution_count": 254,
   "id": "76887e3d-3189-4762-8ae6-8f1186db026e",
   "metadata": {},
   "outputs": [
    {
     "data": {
      "text/plain": [
       "emp_ID\n",
       "101      utkarsh\n",
       "102       kartik\n",
       "103    Aishwarya\n",
       "104        Anand\n",
       "105      Shalini\n",
       "106       Pratik\n",
       "107     Monalika\n",
       "108       Ayesha\n",
       "109        Anant\n",
       "110    Shamiksha\n",
       "111     Prashant\n",
       "112       Mohini\n",
       "Name: Name, dtype: object"
      ]
     },
     "execution_count": 254,
     "metadata": {},
     "output_type": "execute_result"
    }
   ],
   "source": [
    "df1['Name'] #accesing the column  "
   ]
  },
  {
   "cell_type": "code",
   "execution_count": 256,
   "id": "867e976f-dc68-4ba0-9bdf-5361ff6c85cb",
   "metadata": {},
   "outputs": [
    {
     "data": {
      "text/plain": [
       "emp_ID\n",
       "101    95000\n",
       "102    85000\n",
       "103    75000\n",
       "104    65000\n",
       "105    90000\n",
       "106    80000\n",
       "107    70000\n",
       "108    60000\n",
       "109    10000\n",
       "110    45000\n",
       "111    55000\n",
       "112    65000\n",
       "Name: Salary, dtype: int64"
      ]
     },
     "execution_count": 256,
     "metadata": {},
     "output_type": "execute_result"
    }
   ],
   "source": [
    "df1['Salary']"
   ]
  },
  {
   "cell_type": "code",
   "execution_count": 258,
   "id": "dbb05126-b92d-4eb8-94d6-5be6baa982b2",
   "metadata": {},
   "outputs": [
    {
     "data": {
      "text/plain": [
       "emp_ID\n",
       "101     1\n",
       "102     2\n",
       "103     3\n",
       "104     4\n",
       "105     5\n",
       "106     6\n",
       "107     7\n",
       "108     8\n",
       "109     9\n",
       "110    10\n",
       "111    11\n",
       "112    12\n",
       "Name: ID, dtype: int64"
      ]
     },
     "execution_count": 258,
     "metadata": {},
     "output_type": "execute_result"
    }
   ],
   "source": [
    "df1[\"ID\"]"
   ]
  },
  {
   "cell_type": "code",
   "execution_count": 260,
   "id": "4f8d90e9-6970-4845-8ed1-e2985278895f",
   "metadata": {},
   "outputs": [
    {
     "data": {
      "text/plain": [
       "emp_ID\n",
       "101      Male\n",
       "102      Male\n",
       "103    Female\n",
       "104      Male\n",
       "105      Male\n",
       "106      Male\n",
       "107    female\n",
       "108    Female\n",
       "109      Male\n",
       "110    Female\n",
       "111      Male\n",
       "112    Female\n",
       "Name: Gender, dtype: object"
      ]
     },
     "execution_count": 260,
     "metadata": {},
     "output_type": "execute_result"
    }
   ],
   "source": [
    "df1[\"Gender\"]"
   ]
  },
  {
   "cell_type": "code",
   "execution_count": 262,
   "id": "3f3e0a13-1798-41d7-bad4-7f44e978af4a",
   "metadata": {},
   "outputs": [
    {
     "data": {
      "text/plain": [
       "'Employee_Details'"
      ]
     },
     "execution_count": 262,
     "metadata": {},
     "output_type": "execute_result"
    }
   ],
   "source": [
    "df1.name"
   ]
  },
  {
   "cell_type": "code",
   "execution_count": 264,
   "id": "7d12aa59-034c-43b6-87fe-e50efc3b76cf",
   "metadata": {},
   "outputs": [
    {
     "data": {
      "text/html": [
       "<div>\n",
       "<style scoped>\n",
       "    .dataframe tbody tr th:only-of-type {\n",
       "        vertical-align: middle;\n",
       "    }\n",
       "\n",
       "    .dataframe tbody tr th {\n",
       "        vertical-align: top;\n",
       "    }\n",
       "\n",
       "    .dataframe thead th {\n",
       "        text-align: right;\n",
       "    }\n",
       "</style>\n",
       "<table border=\"1\" class=\"dataframe\">\n",
       "  <thead>\n",
       "    <tr style=\"text-align: right;\">\n",
       "      <th></th>\n",
       "      <th>Name</th>\n",
       "      <th>Salary</th>\n",
       "    </tr>\n",
       "    <tr>\n",
       "      <th>emp_ID</th>\n",
       "      <th></th>\n",
       "      <th></th>\n",
       "    </tr>\n",
       "  </thead>\n",
       "  <tbody>\n",
       "    <tr>\n",
       "      <th>101</th>\n",
       "      <td>utkarsh</td>\n",
       "      <td>95000</td>\n",
       "    </tr>\n",
       "    <tr>\n",
       "      <th>102</th>\n",
       "      <td>kartik</td>\n",
       "      <td>85000</td>\n",
       "    </tr>\n",
       "    <tr>\n",
       "      <th>103</th>\n",
       "      <td>Aishwarya</td>\n",
       "      <td>75000</td>\n",
       "    </tr>\n",
       "    <tr>\n",
       "      <th>104</th>\n",
       "      <td>Anand</td>\n",
       "      <td>65000</td>\n",
       "    </tr>\n",
       "    <tr>\n",
       "      <th>105</th>\n",
       "      <td>Shalini</td>\n",
       "      <td>90000</td>\n",
       "    </tr>\n",
       "    <tr>\n",
       "      <th>106</th>\n",
       "      <td>Pratik</td>\n",
       "      <td>80000</td>\n",
       "    </tr>\n",
       "    <tr>\n",
       "      <th>107</th>\n",
       "      <td>Monalika</td>\n",
       "      <td>70000</td>\n",
       "    </tr>\n",
       "    <tr>\n",
       "      <th>108</th>\n",
       "      <td>Ayesha</td>\n",
       "      <td>60000</td>\n",
       "    </tr>\n",
       "    <tr>\n",
       "      <th>109</th>\n",
       "      <td>Anant</td>\n",
       "      <td>10000</td>\n",
       "    </tr>\n",
       "    <tr>\n",
       "      <th>110</th>\n",
       "      <td>Shamiksha</td>\n",
       "      <td>45000</td>\n",
       "    </tr>\n",
       "    <tr>\n",
       "      <th>111</th>\n",
       "      <td>Prashant</td>\n",
       "      <td>55000</td>\n",
       "    </tr>\n",
       "    <tr>\n",
       "      <th>112</th>\n",
       "      <td>Mohini</td>\n",
       "      <td>65000</td>\n",
       "    </tr>\n",
       "  </tbody>\n",
       "</table>\n",
       "</div>"
      ],
      "text/plain": [
       "             Name  Salary\n",
       "emp_ID                   \n",
       "101       utkarsh   95000\n",
       "102        kartik   85000\n",
       "103     Aishwarya   75000\n",
       "104         Anand   65000\n",
       "105       Shalini   90000\n",
       "106        Pratik   80000\n",
       "107      Monalika   70000\n",
       "108        Ayesha   60000\n",
       "109         Anant   10000\n",
       "110     Shamiksha   45000\n",
       "111      Prashant   55000\n",
       "112        Mohini   65000"
      ]
     },
     "execution_count": 264,
     "metadata": {},
     "output_type": "execute_result"
    }
   ],
   "source": [
    "df1[['Name','Salary']]#accessing mulitple columns"
   ]
  },
  {
   "cell_type": "code",
   "execution_count": 266,
   "id": "a10b3c3f-7506-4dc9-b925-f393b6a26b89",
   "metadata": {},
   "outputs": [
    {
     "data": {
      "text/plain": [
       "Name      utkarsh\n",
       "ID              1\n",
       "Gender       Male\n",
       "Salary      95000\n",
       "Name: 101, dtype: object"
      ]
     },
     "execution_count": 266,
     "metadata": {},
     "output_type": "execute_result"
    }
   ],
   "source": [
    "#accessing Records (rows)\n",
    "df1.loc[101]"
   ]
  },
  {
   "cell_type": "code",
   "execution_count": 268,
   "id": "47d9e5cd-a935-47da-8082-c495b168d75b",
   "metadata": {},
   "outputs": [
    {
     "data": {
      "text/plain": [
       "Name      utkarsh\n",
       "ID              1\n",
       "Gender       Male\n",
       "Salary      95000\n",
       "Name: 101, dtype: object"
      ]
     },
     "execution_count": 268,
     "metadata": {},
     "output_type": "execute_result"
    }
   ],
   "source": [
    "df1.iloc[0] #accesing using index"
   ]
  },
  {
   "cell_type": "code",
   "execution_count": null,
   "id": "c69d6851-f008-4d3b-a5d0-afca73b9bccb",
   "metadata": {},
   "outputs": [],
   "source": []
  }
 ],
 "metadata": {
  "kernelspec": {
   "display_name": "Python 3 (ipykernel)",
   "language": "python",
   "name": "python3"
  },
  "language_info": {
   "codemirror_mode": {
    "name": "ipython",
    "version": 3
   },
   "file_extension": ".py",
   "mimetype": "text/x-python",
   "name": "python",
   "nbconvert_exporter": "python",
   "pygments_lexer": "ipython3",
   "version": "3.12.4"
  }
 },
 "nbformat": 4,
 "nbformat_minor": 5
}
