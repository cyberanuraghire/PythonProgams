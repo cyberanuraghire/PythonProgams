{
 "cells": [
  {
   "cell_type": "markdown",
   "id": "148a25ea-1f10-426c-8c91-41ace7c9a627",
   "metadata": {},
   "source": []
  },
  {
   "cell_type": "code",
   "execution_count": 1,
   "id": "140666c1-7c24-407a-8ac9-d74c1c978d2d",
   "metadata": {},
   "outputs": [],
   "source": [
    "#sets = collection of unique elements of multiple data types they all are unique and we perform actions like union and intersecton\n",
    "#union = they are all the element form set 1 and 2\n",
    "#intersection they are only the common elements from set 1 and 2\n",
    "#unordered\n",
    "#mutable\n",
    "#here we perform union and intersection \n",
    "\"\"\"\n",
    "list = [] mutable multiple data type allow repeated content\n",
    "tuple = () inn\n",
    "set {}\n",
    "\"\"\""
   ]
  },
  {
   "cell_type": "code",
   "execution_count": 7,
   "id": "0a1339c4-d855-4289-a9e5-b9633e6e085f",
   "metadata": {},
   "outputs": [
    {
     "name": "stdout",
     "output_type": "stream",
     "text": [
      "{}\n",
      "<class 'dict'>\n"
     ]
    }
   ],
   "source": [
    "set1={} #set denoted with {}\n",
    "#creating empty set\n",
    "\n",
    "print(set1) \n",
    "print(type(set1))"
   ]
  },
  {
   "cell_type": "code",
   "execution_count": 11,
   "id": "23333198-27b0-4edc-9930-d37f9237cd34",
   "metadata": {},
   "outputs": [
    {
     "name": "stdout",
     "output_type": "stream",
     "text": [
      "{1, 2, 3}\n",
      "<class 'set'>\n"
     ]
    }
   ],
   "source": [
    "set1={1,2,3} #we do not add key value so it acts as a set denoted with {}\n",
    "#they have unique value\n",
    "print(set1)\n",
    "print(type(set1))"
   ]
  },
  {
   "cell_type": "code",
   "execution_count": 13,
   "id": "4318077f-f686-489f-beab-41e3b62628cf",
   "metadata": {},
   "outputs": [
    {
     "name": "stdout",
     "output_type": "stream",
     "text": [
      "<class 'dict'>\n"
     ]
    }
   ],
   "source": [
    "set1 = {\"name\":\"anurg\"}\n",
    "print(type(set1))"
   ]
  },
  {
   "cell_type": "code",
   "execution_count": 21,
   "id": "885e461c-d144-4b51-881d-84f28d1a0a3b",
   "metadata": {},
   "outputs": [
    {
     "name": "stdout",
     "output_type": "stream",
     "text": [
      "{0, 1, 2, 3, 4, 5, 6, 'anrg'}\n",
      "<class 'set'>\n"
     ]
    }
   ],
   "source": [
    "set2={1,2,3,4,0,5,6,6,\"anrg\"} #multiple data type\n",
    "print(set2)\n",
    "print(type(set2))"
   ]
  },
  {
   "cell_type": "code",
   "execution_count": null,
   "id": "fd615f2d-1bfc-43c2-b33f-6880b87e9326",
   "metadata": {},
   "outputs": [],
   "source": [
    "#sets cannot have "
   ]
  },
  {
   "cell_type": "code",
   "execution_count": 23,
   "id": "4a63ea9f-8ee8-4381-b781-7bc378197b2f",
   "metadata": {},
   "outputs": [
    {
     "name": "stdout",
     "output_type": "stream",
     "text": [
      "{1, 3, 4, 5, 'red'}\n"
     ]
    }
   ],
   "source": [
    "set1={\"red\",\"red\",1,3,4,5,5} #here it does not repeat the double elements for set datatype\n",
    "print(set1)"
   ]
  },
  {
   "cell_type": "markdown",
   "id": "e54d9b09-e948-4e04-9225-de9c51386a92",
   "metadata": {},
   "source": [
    "len to find the lenght of the set\n",
    "true false = 1 0"
   ]
  },
  {
   "cell_type": "code",
   "execution_count": 41,
   "id": "62308d58-8809-4f13-af9a-4b2c6ea32288",
   "metadata": {},
   "outputs": [
    {
     "name": "stdout",
     "output_type": "stream",
     "text": [
      "{0, True, 'red', 'blue'}\n",
      "4\n"
     ]
    }
   ],
   "source": [
    "#1 and True are considered as same\n",
    "set2={\"red\",\"blue\",True,1,0,False} # as we know True=1 , False= 0 so when they are in set any of one comming first will be printed \n",
    "print(set2)\n",
    "print(len(set2))#to find the lenght \n"
   ]
  },
  {
   "cell_type": "code",
   "execution_count": 43,
   "id": "f61b1f79-7ddd-4666-ad17-4cf8dcac908d",
   "metadata": {},
   "outputs": [
    {
     "name": "stdout",
     "output_type": "stream",
     "text": [
      "{2, 1, 'black', 'red'}\n"
     ]
    }
   ],
   "source": [
    "#set method\n",
    "tuple1=(\"red\",\"black\",\"red\",\"black\",1,2,1,2) #it is a tuple have multiple repeated items and now u wnat unique elemnts and want to convert it into set we can use set() functio\n",
    "my_set=set(tuple1)\n",
    "print(my_set)"
   ]
  },
  {
   "cell_type": "code",
   "execution_count": 45,
   "id": "a2aa4bad-7fbe-4f00-b866-f436ed5c4b60",
   "metadata": {},
   "outputs": [
    {
     "name": "stdout",
     "output_type": "stream",
     "text": [
      "{1, 2, 3, 4, 5, 6, 'red'}\n"
     ]
    }
   ],
   "source": [
    "list1 = [1,2,3,4,5,5,6,\"red\",\"red\"] #convert list into set \n",
    "my_set=set(list1)\n",
    "print(my_set)"
   ]
  },
  {
   "cell_type": "markdown",
   "id": "d93c7f6e-986b-48ed-a028-5d9f3b50cc39",
   "metadata": {},
   "source": [
    "add items = adding elements in unorder way using .add() \n",
    "in set we have .add() we had append"
   ]
  },
  {
   "cell_type": "code",
   "execution_count": 53,
   "id": "d41fb036-4c47-4f01-afeb-056f769c60d4",
   "metadata": {},
   "outputs": [
    {
     "name": "stdout",
     "output_type": "stream",
     "text": [
      "{1, 1.2, 'yello', 'black', 'red', 'blue'}\n"
     ]
    }
   ],
   "source": [
    "set1 = {\"red\",\"yello\",\"blue\"}\n",
    "set1.add(\"black\") #str\n",
    "set1.add(1) #int\n",
    "set1.add(1.2) #float\n",
    "print(set1)"
   ]
  },
  {
   "cell_type": "markdown",
   "id": "f89c1ba1-6996-4482-80b3-ccc0113b61cd",
   "metadata": {},
   "source": [
    "we can use upate  for tupel dict or  any one we need to merg into set"
   ]
  },
  {
   "cell_type": "code",
   "execution_count": 55,
   "id": "b7dfbbb2-bb42-4c96-89df-d52566840b3d",
   "metadata": {},
   "outputs": [
    {
     "name": "stdout",
     "output_type": "stream",
     "text": [
      "{1, 2, 3, 4, 5, 6}\n"
     ]
    }
   ],
   "source": [
    "set1={1,2,3}\n",
    "set2={4,5,6}\n",
    "set1.update(set2) #we are updateing the set2 into set1 \n",
    "#we add the \n",
    "print(set1)"
   ]
  },
  {
   "cell_type": "code",
   "execution_count": 57,
   "id": "a6ac54da-a0b3-44e8-b212-b9b6783eb55c",
   "metadata": {},
   "outputs": [
    {
     "name": "stdout",
     "output_type": "stream",
     "text": [
      "{1, 2, 3, 4, 5, 'red', 'black'}\n"
     ]
    }
   ],
   "source": [
    "set1 ={1,2,3,4,5,5}\n",
    "set2 ={\"red\",\"black\"}\n",
    "set1.update(set2) #we can not only take set but also tuple or list\n",
    "print(set1)"
   ]
  },
  {
   "cell_type": "code",
   "execution_count": 59,
   "id": "43df2f53-9a5d-44a3-ae08-9f28a719555f",
   "metadata": {},
   "outputs": [
    {
     "name": "stdout",
     "output_type": "stream",
     "text": [
      "{1, 2, 3, 4, 'black', 'red'}\n"
     ]
    }
   ],
   "source": [
    "set1 ={1,2,3,4,4}\n",
    "list=[\"red\",\"red\",\"black\"] #here we are merging the list into the set using update() \n",
    "set1.update(list)\n",
    "print(set1)"
   ]
  },
  {
   "cell_type": "markdown",
   "id": "cb475028-345d-45bf-89b2-a5a3c63e279e",
   "metadata": {},
   "source": [
    "Remove or discard method to remove an item in a set     remove(), discard()"
   ]
  },
  {
   "cell_type": "code",
   "execution_count": 64,
   "id": "3116e481-14ac-4e3e-b6d9-8605896c3896",
   "metadata": {},
   "outputs": [
    {
     "name": "stdout",
     "output_type": "stream",
     "text": [
      "{'white', 'black', 'blue'}\n"
     ]
    }
   ],
   "source": [
    "color_set={\"red\",\"black\",\"blue\",\"white\"}\n",
    "color_set.remove(\"red\") #used to remove the element in the set\n",
    "print(color_set)"
   ]
  },
  {
   "cell_type": "code",
   "execution_count": 25,
   "id": "9b2d8056-6a08-416e-9758-b0f866be849a",
   "metadata": {},
   "outputs": [
    {
     "name": "stdout",
     "output_type": "stream",
     "text": [
      "{'blue', 'white', 'black'}\n"
     ]
    }
   ],
   "source": [
    "color_set={\"red\",\"black\",\"blue\",\"white\"}\n",
    "color_set.discard(\"red\") #used to remove the\n",
    "print(color_set)\n"
   ]
  },
  {
   "cell_type": "markdown",
   "id": "c7eefd92-210f-4e2f-8d71-95623cc47d57",
   "metadata": {},
   "source": [
    "you can also use the pop() mehtod to remove an item, but this method will remove a random item, so you cannot be sure what item that get removed"
   ]
  },
  {
   "cell_type": "code",
   "execution_count": 68,
   "id": "090886b2-d254-4edf-a919-46ebedd8b26c",
   "metadata": {},
   "outputs": [
    {
     "name": "stdout",
     "output_type": "stream",
     "text": [
      "white\n",
      "{'black', 'red', 'blue'}\n"
     ]
    }
   ],
   "source": [
    "color_set={\"red\",\"black\",\"blue\",\"white\"}\n",
    "x=color_set.pop() #removed random item\n",
    "print(x)\n",
    "print(color_set)"
   ]
  },
  {
   "cell_type": "markdown",
   "id": "0b95158a-83b6-47d3-a905-c6d5766a7bda",
   "metadata": {},
   "source": [
    "clear method to clear everything in the set\n"
   ]
  },
  {
   "cell_type": "code",
   "execution_count": 75,
   "id": "f36eaf83-dc41-418e-8639-06a66d44f935",
   "metadata": {},
   "outputs": [
    {
     "name": "stdout",
     "output_type": "stream",
     "text": [
      "set()\n",
      "<class 'set'>\n"
     ]
    }
   ],
   "source": [
    "color_set={\"red\",\"black\",\"blue\",\"white\"}\n",
    "color_set.clear()\n",
    "print(color_set)\n",
    "print(type(color_set))"
   ]
  },
  {
   "cell_type": "code",
   "execution_count": 81,
   "id": "97622704-dcab-4360-80d1-44a32f2b08a4",
   "metadata": {},
   "outputs": [
    {
     "ename": "NameError",
     "evalue": "name 'color_set' is not defined",
     "output_type": "error",
     "traceback": [
      "\u001b[1;31m---------------------------------------------------------------------------\u001b[0m",
      "\u001b[1;31mNameError\u001b[0m                                 Traceback (most recent call last)",
      "Cell \u001b[1;32mIn[81], line 3\u001b[0m\n\u001b[0;32m      1\u001b[0m color_set1\u001b[38;5;241m=\u001b[39m{\u001b[38;5;124m\"\u001b[39m\u001b[38;5;124mred\u001b[39m\u001b[38;5;124m\"\u001b[39m,\u001b[38;5;124m\"\u001b[39m\u001b[38;5;124mblack\u001b[39m\u001b[38;5;124m\"\u001b[39m,\u001b[38;5;124m\"\u001b[39m\u001b[38;5;124mblue\u001b[39m\u001b[38;5;124m\"\u001b[39m,\u001b[38;5;124m\"\u001b[39m\u001b[38;5;124mwhite\u001b[39m\u001b[38;5;124m\"\u001b[39m}\n\u001b[0;32m      2\u001b[0m \u001b[38;5;28;01mdel\u001b[39;00m color_set1\n\u001b[1;32m----> 3\u001b[0m \u001b[38;5;28mprint\u001b[39m(color_set)\n",
      "\u001b[1;31mNameError\u001b[0m: name 'color_set' is not defined"
     ]
    }
   ],
   "source": [
    "color_set1={\"red\",\"black\",\"blue\",\"white\"}\n",
    "del color_set1 #here we have deleted all the color_set1 so it will not print\n",
    "print(color_set)"
   ]
  },
  {
   "cell_type": "markdown",
   "id": "c1de48cd-d2ba-490d-b74f-d10594694896",
   "metadata": {},
   "source": [
    "Acessing the elements\n"
   ]
  },
  {
   "cell_type": "code",
   "execution_count": 9,
   "id": "bc108bb5-d86f-4a28-a2dd-9d99b9db7106",
   "metadata": {},
   "outputs": [
    {
     "name": "stdout",
     "output_type": "stream",
     "text": [
      "True\n"
     ]
    }
   ],
   "source": [
    "thisset = {\"apple\",\"banana\",\"cherry\"}\n",
    "print(\"apple\" in thisset) # we are using memebership operator"
   ]
  },
  {
   "cell_type": "code",
   "execution_count": 31,
   "id": "cb82d1b5-3704-4680-9350-8763cb28e1c9",
   "metadata": {},
   "outputs": [
    {
     "name": "stdout",
     "output_type": "stream",
     "text": [
      "1\n",
      "2\n",
      "3\n",
      "4\n",
      "red\n",
      "12\n",
      "black\n"
     ]
    }
   ],
   "source": [
    "set1 ={\"red\", \"black\", \"red\",1,12,2,3,2,3,2,3,4,2,4,2}\n",
    "for x in set1:\n",
    "    print(x)\n",
    "\n",
    " "
   ]
  },
  {
   "cell_type": "markdown",
   "id": "f553fc69-2411-41ef-8e01-be95386385c3",
   "metadata": {},
   "source": [
    "#union"
   ]
  },
  {
   "cell_type": "code",
   "execution_count": 40,
   "id": "f8865c96-f65d-409f-82bc-9cd785a14f75",
   "metadata": {},
   "outputs": [
    {
     "name": "stdout",
     "output_type": "stream",
     "text": [
      "{1, 2, 'a', 3, 'b', 'c'}\n"
     ]
    }
   ],
   "source": [
    "set1 = {\"a\",\"b\",\"c\"}\n",
    "set2 = {1,2,3,}\n",
    "set3 = set1.union(set2) #union is used to take all \n",
    "print(set3)"
   ]
  },
  {
   "cell_type": "code",
   "execution_count": 46,
   "id": "d1b27861-7a66-49f7-89a7-38795add7431",
   "metadata": {},
   "outputs": [
    {
     "name": "stdout",
     "output_type": "stream",
     "text": [
      "{1, 2, 3, 'a', 'b', 'c'}\n",
      "{True, 'red', 'a', 'b', 'c', 'black'}\n"
     ]
    }
   ],
   "source": [
    "x={\"a\",\"b\",\"c\"} #set\n",
    "y=(1,2,3) #tuple\n",
    "w=[\"red\",\"black\",True] #list\n",
    "z= x.union(y) #union of set and tuple\n",
    "print(z)\n",
    "a=x.union(w) #union of set and list \n",
    "print(a)"
   ]
  },
  {
   "cell_type": "markdown",
   "id": "8ba7ebd0-4516-4209-bd60-9be850fcef66",
   "metadata": {},
   "source": [
    "intersection is also denoted by &\n",
    "& for intersection \n",
    "| is used for union"
   ]
  },
  {
   "cell_type": "code",
   "execution_count": 48,
   "id": "78d12b75-1144-4318-b08a-461d021b0751",
   "metadata": {},
   "outputs": [
    {
     "name": "stdout",
     "output_type": "stream",
     "text": [
      "{1, 'red'}\n"
     ]
    }
   ],
   "source": [
    "#intersection \n",
    "#& is also used for intersectin\n",
    "set1={\"red\",1,2,3,4,}\n",
    "set2={\"red\",1,45,6,7,44,8,8,1}\n",
    "set3=set1.intersection(set2) #will only take the common elements in both the sets \n",
    "print(set3)"
   ]
  },
  {
   "cell_type": "code",
   "execution_count": 56,
   "id": "858569d1-5945-43df-aed0-93eb060eb07d",
   "metadata": {},
   "outputs": [
    {
     "name": "stdout",
     "output_type": "stream",
     "text": [
      "it is for union {1, 'red'}\n",
      "it is for intersection {1, 2, 3, 4, 6, 7, 8, 44, 45, 'red'}\n"
     ]
    }
   ],
   "source": [
    "#intersection \n",
    "#& is also used for intersectin\n",
    "set1={\"red\",1,2,3,4,}\n",
    "set2={\"red\",1,45,6,7,44,8,8,1}\n",
    "set3=set1 & set2 #will only take the common elements in both the sets \n",
    "print(\"it is for union\",set3)\n",
    "set4 = set1 | set2 # | is used for union\n",
    "print(\"it is for intersection\",set4)"
   ]
  },
  {
   "cell_type": "code",
   "execution_count": 58,
   "id": "a1ed4efd-dcec-4a2b-b6f1-543ac73731f7",
   "metadata": {},
   "outputs": [],
   "source": [
    "#set difference\n"
   ]
  },
  {
   "cell_type": "code",
   "execution_count": 68,
   "id": "c0d0a5a5-18bb-4e9e-aeb3-3a08af97e1db",
   "metadata": {},
   "outputs": [
    {
     "name": "stdout",
     "output_type": "stream",
     "text": [
      "Difference between set1 and set2 {'e', 'f'}\n",
      "Difference between set2 and set1 {'c', 'b'}\n"
     ]
    }
   ],
   "source": [
    "set1 = {\"a\",\"b\",\"c\"}\n",
    "set2 = {\"a\",\"e\",\"f\"}\n",
    "set3 = set1.difference(set2) #\n",
    "set4 = set2 - set1\n",
    "print(\"Difference between set1 and set2\",set4)\n",
    "print(\"Difference between set2 and set1\",set3)"
   ]
  },
  {
   "cell_type": "code",
   "execution_count": 78,
   "id": "b89a3549-ecfa-42e7-98f6-70c3dab5ba05",
   "metadata": {},
   "outputs": [
    {
     "name": "stdout",
     "output_type": "stream",
     "text": [
      "['a', 'n', 'u', 'r', 'a', 'g']\n"
     ]
    }
   ],
   "source": [
    "set1 =list(\"anurag\")\n",
    "print(set1)"
   ]
  },
  {
   "cell_type": "code",
   "execution_count": 80,
   "id": "07939e6d-feb3-4a71-aead-f7c0363d29b2",
   "metadata": {},
   "outputs": [
    {
     "name": "stdout",
     "output_type": "stream",
     "text": [
      "{'s', 'e', 'r', 'f', 'o', 'k', ' ', 'g'}\n"
     ]
    }
   ],
   "source": [
    "set1 = set(\"greeks for greeks\") #creating a set with a string\n",
    "print(set1)"
   ]
  },
  {
   "cell_type": "code",
   "execution_count": 82,
   "id": "9409df1c-1e86-4831-8143-df34c9f2d5d5",
   "metadata": {},
   "outputs": [
    {
     "name": "stdout",
     "output_type": "stream",
     "text": [
      "{'s', 'e', 'r', 'f', 'o', 'k', 'g'}\n"
     ]
    }
   ],
   "source": [
    "String = \"greeksforgreks\"\n",
    "set1= set(String)\n",
    "print(set1)"
   ]
  },
  {
   "cell_type": "code",
   "execution_count": 84,
   "id": "6d7b3846-90d2-4e1f-85d5-d07de0394dde",
   "metadata": {},
   "outputs": [
    {
     "name": "stdout",
     "output_type": "stream",
     "text": [
      "{'red', 'black', 'geeks'}\n"
     ]
    }
   ],
   "source": [
    "#creating a set with use of list\n",
    "set1 = set([\"black\",\"red\",\"geeks\"])\n",
    "print(set1)"
   ]
  },
  {
   "cell_type": "code",
   "execution_count": 86,
   "id": "f2f7b573-d864-4091-89de-e28eb420145f",
   "metadata": {},
   "outputs": [
    {
     "name": "stdout",
     "output_type": "stream",
     "text": [
      "{'for', 'geeks'}\n"
     ]
    }
   ],
   "source": [
    "#creating a set with the useof tuple\n",
    "t = (\"geeks\",\"for\",\"geeks\")\n",
    "print(set(t))"
   ]
  },
  {
   "cell_type": "code",
   "execution_count": 88,
   "id": "0062864d-b54e-4c34-96ad-b756453acde6",
   "metadata": {},
   "outputs": [
    {
     "name": "stdout",
     "output_type": "stream",
     "text": [
      "\n",
      "Set with the use of Dicitionary:\n",
      "{'geek', 'for', 'geeks'}\n"
     ]
    }
   ],
   "source": [
    "d = {\"geeks\":1, \"for\":2, \"geek\":3}\n",
    "print(\"\\nSet with the use of Dicitionary:\")\n",
    "print(set(d))"
   ]
  },
  {
   "cell_type": "markdown",
   "id": "e1177908-5e59-4d8a-a919-165c2fd89e33",
   "metadata": {},
   "source": [
    "union will take all the elements from set1 and set2 with out the repetitve elements"
   ]
  },
  {
   "cell_type": "code",
   "execution_count": 92,
   "id": "ad2f6837-826a-4487-b239-9f1d6279af21",
   "metadata": {},
   "outputs": [
    {
     "name": "stdout",
     "output_type": "stream",
     "text": [
      "{1, 2, 3, 4, 5, 6, 7, 8, 9}\n"
     ]
    }
   ],
   "source": [
    "set1 ={1,2,3,4,4,5,6,5,4}\n",
    "set2 ={6,7,8,8,8,9}\n",
    "set3= set1.union(set2)\n",
    "print(set3)"
   ]
  },
  {
   "cell_type": "code",
   "execution_count": 110,
   "id": "6f4d7a3f-5f0e-49a5-9935-3c01a58e9315",
   "metadata": {},
   "outputs": [
    {
     "name": "stdout",
     "output_type": "stream",
     "text": [
      "{0, 1, 2, 3, 4, 5, 'a', 'b', 8888, 'c'}\n",
      "{1, 2, 3, 4, 5}\n"
     ]
    }
   ],
   "source": [
    "set1 = {1,2,3,4,3,4,5,5,5,\"a\",\"b\",\"c\"}\n",
    "set2 ={1,5,4,3,0,2,2,2,8888}\n",
    "# set3 = set1.intersection(set2)# only the common elements from both the set ie interssection \n",
    "set3 = set1 & set2 #intersection only repeated elements\n",
    "set4 = set1 | set2 #union \n",
    "print(set4)\n",
    "print(set3)"
   ]
  },
  {
   "cell_type": "code",
   "execution_count": 118,
   "id": "d18e2275-08e5-41b9-8379-5b132b898a2f",
   "metadata": {},
   "outputs": [
    {
     "name": "stdout",
     "output_type": "stream",
     "text": [
      "Intially black set: \n",
      "set()\n",
      "\n",
      " Set after addition of Three elements:\n",
      "{1, 2, (3, 4)}\n"
     ]
    }
   ],
   "source": [
    "hello = set()\n",
    "print(\"Intially black set: \")\n",
    "print(hello)\n",
    "hello.add(1)\n",
    "hello.add(2)\n",
    "hello.add((3,4))\n",
    "print(\"\\n Set after addition of Three elements:\")\n",
    "print(hello)\n",
    "\n"
   ]
  },
  {
   "cell_type": "code",
   "execution_count": 176,
   "id": "5aa6106c-5082-48a9-9d9e-89c1981c636a",
   "metadata": {},
   "outputs": [
    {
     "name": "stdout",
     "output_type": "stream",
     "text": [
      "\n",
      " Set afte addition of elements from 1 -5:\n",
      "{0, 1, 2, 3, 4, 5, 6, 7, 8, 9, 10, 11, 12, 13, 14, 15, 16, 17, 18, 19, 20, 21, 22, 23, 24, 25, 26, 27, 28, 29, 30, 31, 32, 33, 34, 35, 36, 37, 38, 39, 40, 41, 42, 43, 44, 45, 46, 47, 48, 49, 50, 51, 52, 53, 54, 55, 56, 57, 58, 59}\n"
     ]
    }
   ],
   "source": [
    "hello1 = set()\n",
    "for i in range(0, 60, ):\n",
    "    hello1.add(i)\n",
    "print(\"\\n Set afte addition of elements from 1 -5:\")\n",
    "print(hello1)"
   ]
  },
  {
   "cell_type": "code",
   "execution_count": 180,
   "id": "f20ba853-8a29-4ac6-b767-5f8d0c827e6f",
   "metadata": {},
   "outputs": [
    {
     "name": "stdout",
     "output_type": "stream",
     "text": [
      "\n",
      "Set after addition of elements using Update:\n",
      "{4, 5, 6, 10, 11, (6, 7)}\n"
     ]
    }
   ],
   "source": [
    "set1 = set([4,5,6,(6,7)])\n",
    "set1.update([10,11])\n",
    "print(\"\\nSet after addition of elements using Update:\")\n",
    "print(set1)"
   ]
  },
  {
   "cell_type": "code",
   "execution_count": 182,
   "id": "19e9f9cb-afeb-49f6-9ffd-c75d70d24d69",
   "metadata": {},
   "outputs": [
    {
     "name": "stdout",
     "output_type": "stream",
     "text": [
      "\n",
      "Initial set\n",
      "{'geeks', 'for', 'greks'}\n"
     ]
    }
   ],
   "source": [
    "#accessing a set in Python\n",
    "set1 = set([\"greks\", \"for\", \"geeks\"])\n",
    "print(\"\\nInitial set\")\n",
    "print(set1)\n"
   ]
  },
  {
   "cell_type": "code",
   "execution_count": 204,
   "id": "0378f5bf-b265-4f3f-97bc-24193322806d",
   "metadata": {},
   "outputs": [
    {
     "name": "stdout",
     "output_type": "stream",
     "text": [
      "{1, 'red'}\n",
      "\n",
      "Elemets of set: \n",
      "1\n",
      "2\n",
      "3\n",
      "4\n",
      "red\n",
      "\n",
      "\n",
      "1 2 3 4 red "
     ]
    }
   ],
   "source": [
    "#intersection \n",
    "#& is also used for intersectin\n",
    "set1={\"red\",1,2,3,4,}\n",
    "set2={\"red\",1,45,6,7,44,8,8,1}\n",
    "set3=set1.intersection(set2) #will only take the common elements in both the sets \n",
    "print(set3)\n",
    "print(\"\\nElemets of set: \")\n",
    "for i in set1:\n",
    "    print(i)\n",
    "print(\"\\n\")\n",
    "for i in set1:\n",
    "    print(i, end=\" \")\n",
    "# print(\"geeks\" in set1)"
   ]
  },
  {
   "cell_type": "code",
   "execution_count": 220,
   "id": "f9ce7f12-e0cd-41fb-ae3f-d3bfc52b9d9b",
   "metadata": {},
   "outputs": [
    {
     "name": "stdout",
     "output_type": "stream",
     "text": [
      "initial set\n",
      "{1, 2, 3, 4, 5, 6, 7, 8, 9, 10}\n",
      "\n",
      " Set after Removal of two elemetns:\n",
      "{1, 2, 3, 4, 7, 8, 9}\n"
     ]
    }
   ],
   "source": [
    "set1 = set([1,2,3,4,5,6,7,8,9,10,10])\n",
    "print(\"initial set\")\n",
    "print(set1)\n",
    "#using remove() we remove the element that we want to remove\n",
    "#remove elements from set using Remove method \n",
    "set1.remove(5)\n",
    "set1.remove(6)\n",
    "set1.remove(10)\n",
    "print(\"\\n Set after Removal of two elemetns:\")\n",
    "print(set1)"
   ]
  },
  {
   "cell_type": "code",
   "execution_count": 222,
   "id": "be394e45-8181-44f9-8f6f-822cae3af2af",
   "metadata": {},
   "outputs": [
    {
     "name": "stdout",
     "output_type": "stream",
     "text": [
      "initial set\n",
      "{1, 2, 3, 4, 5, 6, 7, 8, 9, 10}\n",
      "after removal\n",
      "{1, 2, 3, 4, 5, 6, 7, 10}\n"
     ]
    }
   ],
   "source": [
    "set1 = set([1,2,3,4,5,6,7,8,9,10,10])\n",
    "print(\"initial set\")\n",
    "print(set1)\n",
    "#discard()\n",
    "set1.discard(8)\n",
    "set1.discard(9)\n",
    "print(\"after removal\")\n",
    "print(set1)\n"
   ]
  },
  {
   "cell_type": "markdown",
   "id": "3ebf98c6-0975-4006-9b3e-fe0c5efe1da4",
   "metadata": {},
   "source": [
    "what the difference bttween remove() and discard() disard is used to remove elements foelements from set without keyError use discard()"
   ]
  },
  {
   "cell_type": "code",
   "execution_count": 227,
   "id": "cea69b85-6985-404a-9580-55189e0fc65f",
   "metadata": {},
   "outputs": [
    {
     "name": "stdout",
     "output_type": "stream",
     "text": [
      "initial set\n",
      "{1, 2, 3, 4, 5, 6, 7, 8, 9, 10}\n",
      "1\n",
      "2\n",
      "3\n",
      "4\n",
      "remove\n",
      "{5, 6, 7, 8, 9, 10}\n"
     ]
    }
   ],
   "source": [
    "#remove using iterator\n",
    "set1 = set([1,2,3,4,5,6,7,8,9,10,10])\n",
    "print(\"initial set\")\n",
    "print(set1)\n",
    "for i in range(1, 5):\n",
    "    set1.remove(i)\n",
    "    print(i)\n",
    "print(\"remove\")\n",
    "print(set1)"
   ]
  },
  {
   "cell_type": "markdown",
   "id": "af7dfd1f-7228-4267-9625-231561ca5f75",
   "metadata": {},
   "source": [
    "#uisng pop method\n",
    "pop() function can also be used to remove and return an elemets form the set, but it remove only the last elemets of the set"
   ]
  },
  {
   "cell_type": "code",
   "execution_count": 232,
   "id": "7bbd6069-ac15-4cd5-be93-c3eada2f42d2",
   "metadata": {},
   "outputs": [
    {
     "name": "stdout",
     "output_type": "stream",
     "text": [
      "initial\n",
      "{64, 1, 2, 3, 4, 5}\n",
      "set\n",
      "{1, 2, 3, 4, 5}\n"
     ]
    }
   ],
   "source": [
    "set1 = set([1,2,3,4,4,5,64,3,])\n",
    "print(\"initial\")\n",
    "print(set1)\n",
    "set1.pop()\n",
    "print(\"set\")\n",
    "print(set1)"
   ]
  },
  {
   "cell_type": "code",
   "execution_count": 236,
   "id": "a14ec209-8efa-4737-8eb8-83d93cb7ad62",
   "metadata": {},
   "outputs": [
    {
     "name": "stdout",
     "output_type": "stream",
     "text": [
      "initial set\n",
      "{1, 2, 3, 4, 5, 6, 7, 8, 9, 10}\n",
      "done\n",
      "set()\n"
     ]
    }
   ],
   "source": [
    "#clear remove all the elements from the list\n",
    "#using clear()\n",
    "set1 = set([1,2,3,4,5,6,7,8,9,10,10])\n",
    "print(\"initial set\")\n",
    "print(set1)\n",
    "set1.clear()\n",
    "print(\"done\")\n",
    "print(set1)"
   ]
  },
  {
   "cell_type": "code",
   "execution_count": null,
   "id": "6ef6e85f-cec4-4e04-8e22-5ac575dd6f56",
   "metadata": {},
   "outputs": [],
   "source": [
    "set_symmetric_difference()\n",
    "set_subset()\n",
    "set_superset()"
   ]
  },
  {
   "cell_type": "code",
   "execution_count": 252,
   "id": "419d494b-0d15-4942-8670-94b1e0991959",
   "metadata": {},
   "outputs": [
    {
     "name": "stdout",
     "output_type": "stream",
     "text": [
      "{1, 2, 3, 4, 5}\n",
      "{1, 2, 3, 4, 5, 6}\n",
      "{1, 2, 4, 5}\n",
      "set()\n",
      "{0, 1, 2, 3, 4, 5, 6, 7, 8}\n",
      "{3, 4, 5}\n",
      "{1, 2, 3}\n",
      "{1, 2, 3, 6, 7, 8}\n",
      "True\n",
      "True\n"
     ]
    }
   ],
   "source": [
    "def create_set():\n",
    "    my_set ={1,2,3,3,4,5}\n",
    "    print(my_set)\n",
    "def add_elements():\n",
    "    my_set ={1,2,3,4,5}\n",
    "    my_set.add(6)\n",
    "    print(my_set)\n",
    "def remove_element():\n",
    "    my_set = {1,2,3,4,5}\n",
    "    my_set.remove(3)\n",
    "    print(my_set)\n",
    "def clear_set():\n",
    "    my_set ={12,2,3,3}\n",
    "    my_set.clear()\n",
    "    print(my_set)\n",
    "def set_union():\n",
    "    set1 = {1,2,3,4,4}\n",
    "    set2 = {5,6,6,7,8,0}\n",
    "    set3 = set1.union(set2)\n",
    "    print(set3)\n",
    "def set_intersection():\n",
    "    set1 = {1,3,4,5,4,3}\n",
    "    set2 = {3,4,5}\n",
    "    set3 = set1.intersection(set2)\n",
    "    print(set3)\n",
    "def set_difference():\n",
    "    set1 = {1,2,3,4,5,6}\n",
    "    set2 = {4,5,6,7,8}\n",
    "    set3 = set1.difference(set2)\n",
    "    print(set3)\n",
    "def set_symmetric_difference():\n",
    "    set1 = {1,2,3,4,5}\n",
    "    set2 ={4,5,6,7,8}\n",
    "    my_set = set1.symmetric_difference(set2)\n",
    "    print(my_set)\n",
    "def set_subset():\n",
    "    set1 = {1,2,3,4,5}\n",
    "    set2 ={2,3,4}\n",
    "    subset = set2.issubset(set1)\n",
    "    print(subset)\n",
    "def set_superset():\n",
    "    set1 = {1,2,3,4,5}\n",
    "    set2 ={2,3,4}\n",
    "    superset= set1.issuperset(set2)\n",
    "    print(superset)\n",
    "\n",
    "if __name__ == '__main__':\n",
    "    create_set()\n",
    "    add_elements()\n",
    "    remove_element()\n",
    "    clear_set()\n",
    "    set_union()\n",
    "    set_intersection()\n",
    "    set_difference()\n",
    "    set_symmetric_difference()s\n",
    "    set_subset()\n",
    "    set_superset()"
   ]
  },
  {
   "cell_type": "code",
   "execution_count": null,
   "id": "b9eecf8b-6584-4b16-bd4c-12e8a3516645",
   "metadata": {},
   "outputs": [],
   "source": []
  }
 ],
 "metadata": {
  "kernelspec": {
   "display_name": "Python 3 (ipykernel)",
   "language": "python",
   "name": "python3"
  },
  "language_info": {
   "codemirror_mode": {
    "name": "ipython",
    "version": 3
   },
   "file_extension": ".py",
   "mimetype": "text/x-python",
   "name": "python",
   "nbconvert_exporter": "python",
   "pygments_lexer": "ipython3",
   "version": "3.12.4"
  }
 },
 "nbformat": 4,
 "nbformat_minor": 5
}
