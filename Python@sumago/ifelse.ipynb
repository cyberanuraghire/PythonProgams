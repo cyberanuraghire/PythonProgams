{
 "cells": [
  {
   "cell_type": "markdown",
   "id": "c857cfd6-4ce3-4fa9-accd-29049e2a30ee",
   "metadata": {},
   "source": [
    "if-else "
   ]
  },
  {
   "cell_type": "raw",
   "id": "25fb42f9-4642-4f1c-acc4-82172ae02bb8",
   "metadata": {},
   "source": [
    "control flow : if,else\n",
    "types of control flow\n",
    "4 types\n",
    "if \n",
    "if-else\n",
    "-\n",
    "nested-if\n",
    "if \n",
    "    if \n",
    "\n",
    "    else\n",
    "else\n",
    "-\n",
    "if-elif-else\n",
    "if\n",
    "elif\n",
    "else\n"
   ]
  },
  {
   "cell_type": "markdown",
   "id": "20d5be62-f7cf-4564-93e0-9e359839351e",
   "metadata": {},
   "source": [
    "1)take age as input and check whether eligible for vote or not"
   ]
  },
  {
   "cell_type": "code",
   "execution_count": 5,
   "id": "eeaca7ca-aca6-41da-953b-defdf0d92bf2",
   "metadata": {},
   "outputs": [
    {
     "name": "stdin",
     "output_type": "stream",
     "text": [
      "enter the age 5\n"
     ]
    },
    {
     "name": "stdout",
     "output_type": "stream",
     "text": [
      "unable to vote\n"
     ]
    }
   ],
   "source": [
    "age = int(input(\"enter the age\"))\n",
    "if age >= 18:\n",
    "    print(\"You are ablevote\")\n",
    "else:\n",
    "    print(\"unable to vote\")"
   ]
  },
  {
   "cell_type": "markdown",
   "id": "c1ab1b78-3f57-47e6-aa8c-2461e4ac0cb7",
   "metadata": {},
   "source": [
    "2)write a program to check number is even or not"
   ]
  },
  {
   "cell_type": "code",
   "execution_count": null,
   "id": "dacd65eb-e242-40f1-86ac-80b1efa6ca28",
   "metadata": {},
   "outputs": [],
   "source": [
    "num = int(input(\"Enter the age\"))\n",
    "if num%2==0:\n",
    "    print(\"Even number\")\n",
    "else:\n",
    "    print(\"Not a Even number\")"
   ]
  },
  {
   "cell_type": "raw",
   "id": "4350abb3-e3d8-442d-9904-b947211dd08f",
   "metadata": {},
   "source": [
    "3)progarm to check max between two numbers"
   ]
  },
  {
   "cell_type": "code",
   "execution_count": null,
   "id": "9f1a16bc-8dd5-4ce5-b422-9fa2b12d30cd",
   "metadata": {},
   "outputs": [],
   "source": [
    "#progarm to check max between two numbers\n",
    "a = int(input(\"Enter 1st number:\"))\n",
    "b = int(input(\"Enter 2nd Nnumber:\"))\n",
    "if a > b: #if a is greater than b than it will return true an carry the following \n",
    "    print(\"Max number:\",a)\n",
    "else:\n",
    "    print(\"max number:\",b)\n",
    "    "
   ]
  },
  {
   "cell_type": "raw",
   "id": "0a094a37-405c-44d8-b31f-8fdbcae281b2",
   "metadata": {},
   "source": [
    "4)Write a progarm to check teh max betwen three numbers"
   ]
  },
  {
   "cell_type": "code",
   "execution_count": 30,
   "id": "33353fc7-cea8-40b0-8148-cf0420a6f487",
   "metadata": {},
   "outputs": [
    {
     "name": "stdin",
     "output_type": "stream",
     "text": [
      "Enter the 1st number 8\n",
      "Enter the 2nd number 5\n",
      "Enter the 3rd number 5\n",
      "Enter the 3rd number 1\n"
     ]
    },
    {
     "name": "stdout",
     "output_type": "stream",
     "text": [
      "1st number is Max 8\n"
     ]
    }
   ],
   "source": [
    "#check max between three numbers\n",
    "a = int(input(\"Enter the 1st number\"))\n",
    "b = int(input(\"Enter the 2nd number\"))\n",
    "c = int(input(\"Enter the 3rd number\"))\n",
    "if a > b and a > c:\n",
    "    print(\"1st number is Max\",a)\n",
    "elif b > a and b > c:\n",
    "    print(\"2nd number is Max\",b)\n",
    "else:\n",
    "    print(\"3rd number is Max\",c)\n",
    "    \n",
    "    "
   ]
  },
  {
   "cell_type": "markdown",
   "id": "5c291670-42b6-4970-a247-fdf2f5d9899f",
   "metadata": {},
   "source": [
    "5)find the max number from the given input"
   ]
  },
  {
   "cell_type": "code",
   "execution_count": 38,
   "id": "d288174d-f04e-42cc-af04-6dd7a0f1111e",
   "metadata": {},
   "outputs": [
    {
     "name": "stdin",
     "output_type": "stream",
     "text": [
      "Enter the 1st number 5\n",
      "Enter the 2nd number 5\n",
      "Enter the 3rd number 5\n",
      "Enter the 4d number 5\n"
     ]
    },
    {
     "name": "stdout",
     "output_type": "stream",
     "text": [
      "max 5\n"
     ]
    }
   ],
   "source": [
    "#find the max number from the given input\n",
    "a = int(input(\"Enter the 1st number\"))\n",
    "b = int(input(\"Enter the 2nd number\"))\n",
    "c = int(input(\"Enter the 3rd number\"))\n",
    "d= int(input(\"Enter the 4d number\"))\n",
    "if a > b and a > c and a > d: \n",
    "    print(\"max\",a)\n",
    "elif b>a and b>c and b>d:\n",
    "    print(\"max\",b)\n",
    "elif c>a and c > b and c >d:\n",
    "    print(\"max\",c)\n",
    "else:\n",
    "    print(\"max\",d)"
   ]
  },
  {
   "cell_type": "markdown",
   "id": "a33bb31d-7bfc-46f6-9ab2-34ae8bb958fc",
   "metadata": {},
   "source": [
    "6)find the min numbers from the given input"
   ]
  },
  {
   "cell_type": "code",
   "execution_count": 46,
   "id": "c12eb4bd-b7b4-4b43-b305-e5d4837b7193",
   "metadata": {},
   "outputs": [
    {
     "name": "stdin",
     "output_type": "stream",
     "text": [
      "Enter the 1rd number 1\n",
      "Enter the 2rd number 55\n",
      "Enter the 3rd number 88\n"
     ]
    },
    {
     "name": "stdout",
     "output_type": "stream",
     "text": [
      "min 1\n"
     ]
    }
   ],
   "source": [
    "#find the min numbers from the given input\n",
    "a = int(input(\"Enter the 1rd number\"))\n",
    "b = int(input(\"Enter the 2rd number\"))\n",
    "c = int(input(\"Enter the 3rd number\"))\n",
    "if a < b and a < c:\n",
    "    print(\"min\",a)\n",
    "elif b < c and b < a:\n",
    "    print(\"min\",b)\n",
    "else:\n",
    "    print(\"min\",c)\n"
   ]
  },
  {
   "cell_type": "markdown",
   "id": "6c57540d-d301-4d69-8522-b6e646137dc1",
   "metadata": {},
   "source": [
    "7)check whether number is positve negative or zero"
   ]
  },
  {
   "cell_type": "code",
   "execution_count": 13,
   "id": "0580baf2-1981-4cee-b33f-d2994d7cc47a",
   "metadata": {
    "jp-MarkdownHeadingCollapsed": true
   },
   "outputs": [
    {
     "name": "stdin",
     "output_type": "stream",
     "text": [
      "Enter the number: 5\n"
     ]
    },
    {
     "name": "stdout",
     "output_type": "stream",
     "text": [
      "Number is positive\n"
     ]
    }
   ],
   "source": [
    "# check whether number is positve negative or zero\n",
    "a = int(input(\"Enter the number:\"))\n",
    "if a > 0: #if number is greater than zero it is positive \n",
    "    print(\"Number is positive\")\n",
    "elif a < 0: #if number is less than zero it is negative\n",
    "    print(\"Number is negative\")\n",
    "else: #it is zero\n",
    "    print(\"number is zero\")\n",
    "    "
   ]
  },
  {
   "cell_type": "code",
   "execution_count": null,
   "id": "b1a46216-3217-4295-9ccb-85383e44f978",
   "metadata": {},
   "outputs": [],
   "source": []
  },
  {
   "cell_type": "code",
   "execution_count": 58,
   "id": "efd75ff7-0d0b-40f6-9ca1-fe7484253f8a",
   "metadata": {},
   "outputs": [
    {
     "name": "stdin",
     "output_type": "stream",
     "text": [
      "Enter the number 88\n",
      "Enter the number 50\n",
      "Enter the number 77\n"
     ]
    },
    {
     "name": "stdout",
     "output_type": "stream",
     "text": [
      "Middle number is 77\n"
     ]
    }
   ],
   "source": [
    "#to find the middle in a group of three number\n",
    "a = int(input(\"Enter the number\"))\n",
    "b = int(input(\"Enter the number\"))\n",
    "c = int(input(\"Enter the number\"))\n",
    "if (a > b and a < c) or (a < b and a > c):\n",
    "    print(\"middle number is \",a)\n",
    "elif(b > a and b > c ) or ( b < a and b > c):\n",
    "    print(\"middle number is\",b)\n",
    "else:\n",
    "    print(\"Middle number is\",c)\n",
    "    \n",
    "    "
   ]
  },
  {
   "cell_type": "code",
   "execution_count": 52,
   "id": "9da0878b-a1be-4c8d-b6d6-0e54f98a5d9e",
   "metadata": {},
   "outputs": [
    {
     "name": "stdout",
     "output_type": "stream",
     "text": [
      "3\n"
     ]
    }
   ],
   "source": [
    "a = 1\n",
    "b = 2\n",
    "c = 3\n",
    "if ( a > b and a < c) or (a < b and a > c):\n",
    "    print(a)\n",
    "elif ( b > a and b > c) or (b < a and b >c):\n",
    "    print(b)\n",
    "else:\n",
    "    print(c)"
   ]
  },
  {
   "cell_type": "code",
   "execution_count": 21,
   "id": "7cc13810-cea9-4ae0-a776-2fb3ba663373",
   "metadata": {},
   "outputs": [
    {
     "name": "stdin",
     "output_type": "stream",
     "text": [
      "Enter the marks of sub1 80\n",
      "Enter the marks of sub2 80\n",
      "Enter the marks of sub3 80\n",
      "Enter the marks of sub4 60\n",
      "Enter the marks of sub5 60\n"
     ]
    },
    {
     "name": "stdout",
     "output_type": "stream",
     "text": [
      "Total marks 360 Percentage 72.0\n",
      "Grade B\n"
     ]
    }
   ],
   "source": [
    "#calculate totla marks in 5 subject full marks =100) as well as percentage of marks and division as per the following conidtion \n",
    "#percentage >= 80 - Grade A percentage >=60 Grade B precentage >= 40 Grade c percentage < 40 - grade D \n",
    "sub1= int(input(\"Enter the marks of sub1\"))\n",
    "sub2= int(input(\"Enter the marks of sub2\"))\n",
    "sub3= int(input(\"Enter the marks of sub3\"))\n",
    "sub4= int(input(\"Enter the marks of sub4\"))\n",
    "sub5= int(input(\"Enter the marks of sub5\"))\n",
    "total = sub1+sub2+sub3+sub4+sub5\n",
    "percent = (total/500)*100\n",
    "print(\"Total marks\",total,\"Percentage\",percent)\n",
    "if percent >= 80:\n",
    "    print(\"Grade A\")\n",
    "elif percent >= 60:\n",
    "    print(\"Grade B\")\n",
    "elif percent >= 40:\n",
    "    print(\"Grade C\")\n",
    "else:\n",
    "    print(\"Grade D\")"
   ]
  },
  {
   "cell_type": "markdown",
   "id": "1f6b4ffb-29a0-4545-aed7-f6b04875515d",
   "metadata": {},
   "source": [
    "practice questions\n"
   ]
  },
  {
   "cell_type": "code",
   "execution_count": 62,
   "id": "1710ae77-a94e-4acd-9a27-d39265155e70",
   "metadata": {},
   "outputs": [
    {
     "name": "stdin",
     "output_type": "stream",
     "text": [
      "a 5\n",
      "b 1\n",
      "c 3\n"
     ]
    },
    {
     "name": "stdout",
     "output_type": "stream",
     "text": [
      "1\n"
     ]
    }
   ],
   "source": [
    "a = int(input(\"a\"))\n",
    "b = int(input(\"b\"))\n",
    "c = int(input(\"c\"))\n",
    "if ( a < b and a <c):\n",
    "        print(a)\n",
    "elif(b<a and b<c):\n",
    "        print(b)\n",
    "else:\n",
    "    print(c)\n",
    "    \n",
    "        "
   ]
  },
  {
   "cell_type": "code",
   "execution_count": null,
   "id": "2211fc7f-2177-4471-8db3-b60be0497f7e",
   "metadata": {},
   "outputs": [],
   "source": [
    "#check leap year or not"
   ]
  },
  {
   "cell_type": "code",
   "execution_count": 70,
   "id": "eca7d597-a06d-4ade-b61e-94ce7d7522e0",
   "metadata": {},
   "outputs": [
    {
     "name": "stdin",
     "output_type": "stream",
     "text": [
      "Enter the year 2013\n"
     ]
    },
    {
     "name": "stdout",
     "output_type": "stream",
     "text": [
      "2013 is not a leap year\n"
     ]
    }
   ],
   "source": [
    "#check leap year\n",
    "year = int(input(\"Enter the year\"))\n",
    "if (year % 4==0 and year %100 !=0) or (year % 400 ==0):\n",
    "    print(f\"{year} is a leap year\")\n",
    "else:\n",
    "    print(f\"{year} is not a leap year\")"
   ]
  },
  {
   "cell_type": "code",
   "execution_count": 82,
   "id": "5a105e2c-a997-4035-b00a-8eb8675089b6",
   "metadata": {},
   "outputs": [
    {
     "name": "stdin",
     "output_type": "stream",
     "text": [
      "Enter the nuber 88\n",
      "Enter the number 9999\n",
      "Enter the number 5\n"
     ]
    },
    {
     "name": "stdout",
     "output_type": "stream",
     "text": [
      "88\n",
      "middle number\n"
     ]
    }
   ],
   "source": [
    "#write a program to find the middle of threee numbers \n",
    "num1 = int(input(\"Enter the nuber\"))\n",
    "num2 = int(input(\"Enter the number\"))\n",
    "num3 = int(input(\"Enter the number\"))\n",
    "if (num1 > num2 and num1 < num3 ) or (num1 <num2 and num1 > num3):\n",
    "    print(num1)\n",
    "elif (num2 > num1 and num2 < num3) or (num2 < num1 and num2 > num3):\n",
    "    print(num2)\n",
    "else:\n",
    "    print(num3)\n",
    "print(\"middle number\")"
   ]
  },
  {
   "cell_type": "markdown",
   "id": "a7aafd2a-9dd6-4e7e-9302-c9143a7cd5a1",
   "metadata": {},
   "source": [
    "Smallest of Three Numbers: Write a Python program that takes three integers as input and prints the smallest of the three.\n",
    "\n"
   ]
  },
  {
   "cell_type": "code",
   "execution_count": 93,
   "id": "2b4fb3fc-54ef-47ae-8a83-fad652d0242f",
   "metadata": {},
   "outputs": [
    {
     "name": "stdin",
     "output_type": "stream",
     "text": [
      "Enter the value of a  5\n",
      "Enter the value of b  6\n",
      "Enter the value of c  4\n"
     ]
    },
    {
     "name": "stdout",
     "output_type": "stream",
     "text": [
      "The Smallest of Three NUmber\n",
      "\n",
      "4\n",
      "The largest of Three Numbers\n",
      "\n",
      "6\n"
     ]
    }
   ],
   "source": [
    "a = int(input(\"Enter the value of a \"))\n",
    "b = int(input(\"Enter the value of b \"))\n",
    "c = int(input(\"Enter the value of c \"))\n",
    "print(\"The Smallest of Three NUmber\\n\")\n",
    "if (a < b and a < c):\n",
    "    print(a)\n",
    "elif(b < a and b < c):\n",
    "    print(b)\n",
    "else:\n",
    "    print(c)\n",
    "print(\"The largest of Three Numbers\\n\")\n",
    "if( a > b and a > c):\n",
    "    print(a)\n",
    "elif(b > a  and b > c):\n",
    "    print(b)\n",
    "else:\n",
    "    print(c)\n",
    "\n"
   ]
  },
  {
   "cell_type": "code",
   "execution_count": null,
   "id": "38c9b65e-052f-470a-a34e-cfba6cf56a7d",
   "metadata": {},
   "outputs": [],
   "source": []
  }
 ],
 "metadata": {
  "kernelspec": {
   "display_name": "Python 3 (ipykernel)",
   "language": "python",
   "name": "python3"
  },
  "language_info": {
   "codemirror_mode": {
    "name": "ipython",
    "version": 3
   },
   "file_extension": ".py",
   "mimetype": "text/x-python",
   "name": "python",
   "nbconvert_exporter": "python",
   "pygments_lexer": "ipython3",
   "version": "3.12.4"
  }
 },
 "nbformat": 4,
 "nbformat_minor": 5
}
