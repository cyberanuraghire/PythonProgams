{
 "cells": [
  {
   "cell_type": "code",
   "execution_count": 9,
   "id": "2c5bf668-efbb-4fbe-a9b8-4c5dcf0b4925",
   "metadata": {},
   "outputs": [
    {
     "name": "stdout",
     "output_type": "stream",
     "text": [
      "10\n",
      "9\n",
      "8\n",
      "7\n",
      "6\n",
      "5\n",
      "4\n",
      "3\n",
      "2\n",
      "1\n",
      "1\n",
      "2\n",
      "4\n",
      "8\n"
     ]
    }
   ],
   "source": [
    "n = 10\n",
    "i = n \n",
    "while i > 0:\n",
    "    print(i)\n",
    "    i -= 1\n",
    "j = 1 \n",
    "while j < n :\n",
    "    print(i + j)\n",
    "    j *= 2"
   ]
  },
  {
   "cell_type": "code",
   "execution_count": null,
   "id": "0496adf0-eba5-49d1-87c7-1f3b46a7739e",
   "metadata": {},
   "outputs": [],
   "source": []
  }
 ],
 "metadata": {
  "kernelspec": {
   "display_name": "Python 3 (ipykernel)",
   "language": "python",
   "name": "python3"
  },
  "language_info": {
   "codemirror_mode": {
    "name": "ipython",
    "version": 3
   },
   "file_extension": ".py",
   "mimetype": "text/x-python",
   "name": "python",
   "nbconvert_exporter": "python",
   "pygments_lexer": "ipython3",
   "version": "3.12.4"
  }
 },
 "nbformat": 4,
 "nbformat_minor": 5
}
