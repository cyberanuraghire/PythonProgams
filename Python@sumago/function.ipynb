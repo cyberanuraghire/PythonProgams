{
 "cells": [
  {
   "cell_type": "markdown",
   "id": "aa6d8d27-b572-4452-8056-cf1e6a590bee",
   "metadata": {},
   "source": [
    "#python function\n",
    "block of statement that return a specific task we do a function call to call the function \n",
    "It is the block of code which is used to perform a repeated task in continous \n",
    "There are two types of functions\n",
    "1)Built in functions\n",
    "2)User defined= that we create on our requirement \n",
    "benefit\n",
    "increase readability\n",
    "increase reusebility  \n",
    "\n",
    "1) No arguement no return\n",
    "2) Arguement no Return\n",
    "3) No arguement with Return\n",
    "4) With Argument with Return \n",
    "\n",
    "def = keyword"
   ]
  },
  {
   "cell_type": "markdown",
   "id": "df5773b0-8d4c-4b9a-be08-12304ae37760",
   "metadata": {},
   "source": [
    "TYPES OF FUNCTIONS"
   ]
  },
  {
   "cell_type": "code",
   "execution_count": 9,
   "id": "984c4cbd-8e09-4ee6-b952-8d55f1f43309",
   "metadata": {},
   "outputs": [
    {
     "name": "stdin",
     "output_type": "stream",
     "text": [
      "enter the number 5\n",
      "Enter the b 7\n"
     ]
    },
    {
     "name": "stdout",
     "output_type": "stream",
     "text": [
      "addition of a and b  12\n"
     ]
    }
   ],
   "source": [
    "#No argument No Return\n",
    "def addition(): #no argument no return \n",
    "    a = int(input(\"enter the number\"))\n",
    "    b = int(input(\"Enter the b\"))\n",
    "    c = a+ b\n",
    "    print(\"addition of a and b \",c)\n",
    "    \n",
    "addition() #calling the functions\n",
    "#no return type added into it \n",
    "\n",
    "# task\n",
    "# make these in repetative way by using loop\n",
    "#memory will relocate everytime \n"
   ]
  },
  {
   "cell_type": "code",
   "execution_count": 11,
   "id": "e8f1da2e-43c4-477b-aece-09bf31e46bf0",
   "metadata": {},
   "outputs": [
    {
     "name": "stdin",
     "output_type": "stream",
     "text": [
      "enter the number 5\n"
     ]
    },
    {
     "name": "stdout",
     "output_type": "stream",
     "text": [
      "number is Odd\n"
     ]
    }
   ],
   "source": [
    "def oddeven(): #no argument no return \n",
    "    n=int(input(\"enter the number\"))\n",
    "    if n %2==0:\n",
    "        print(\"number is even\")\n",
    "    else:\n",
    "        print(\"number is Odd\")\n",
    "oddeven()"
   ]
  },
  {
   "cell_type": "markdown",
   "id": "c1c3a3e4-8b60-47ca-a351-241f7ba4ccbd",
   "metadata": {},
   "source": [
    "#functions with argument no return \n"
   ]
  },
  {
   "cell_type": "code",
   "execution_count": 14,
   "id": "7c3a48d3-99d9-4d8a-87c8-c17a165aa94d",
   "metadata": {},
   "outputs": [
    {
     "name": "stdout",
     "output_type": "stream",
     "text": [
      "addition of a and b 12\n"
     ]
    }
   ],
   "source": [
    "def addition(a,b):#giving parameters but no return \n",
    "    c=a+b\n",
    "    print(\"addition of a and b\",c)\n",
    "addition(7,5) #giving argument of a and b \n",
    "    "
   ]
  },
  {
   "cell_type": "code",
   "execution_count": 24,
   "id": "06a5da00-2272-4705-9b2b-5f6c63681f7c",
   "metadata": {},
   "outputs": [
    {
     "name": "stdin",
     "output_type": "stream",
     "text": [
      "enter the value of x 5\n",
      "enter the value of y 55\n"
     ]
    },
    {
     "name": "stdout",
     "output_type": "stream",
     "text": [
      "addition of x and y is : 60\n"
     ]
    }
   ],
   "source": [
    "def add(x,y): #paramerter\n",
    "\n",
    "    z=x+y\n",
    "    print(\"addition of x and y is :\",z)\n",
    "    \n",
    "x = int(input(\"enter the value of x\"))\n",
    "y = int(input(\"enter the value of y\"))\n",
    "add(x,y) #argument"
   ]
  },
  {
   "cell_type": "code",
   "execution_count": 26,
   "id": "f023f9e6-8f9e-4aef-8c88-ae37a23d8f3f",
   "metadata": {},
   "outputs": [
    {
     "name": "stdin",
     "output_type": "stream",
     "text": [
      "Enter the number 5\n"
     ]
    },
    {
     "name": "stdout",
     "output_type": "stream",
     "text": [
      "odd\n"
     ]
    }
   ],
   "source": [
    "def oddeven(n): #parameter\n",
    "    if n%2==0:\n",
    "        print(\"Even\")\n",
    "    else:\n",
    "        print(\"odd\")\n",
    "n = int(input(\"Enter the number\"))\n",
    "oddeven(n) #argument "
   ]
  },
  {
   "cell_type": "code",
   "execution_count": 69,
   "id": "6cb92817-5886-4af9-87df-d944cb7ad64c",
   "metadata": {},
   "outputs": [
    {
     "name": "stdout",
     "output_type": "stream",
     "text": [
      "5\n"
     ]
    }
   ],
   "source": [
    "def add(a,b): #we gave argument \n",
    "    return a + b  #we got the retured value\n",
    "ans=add(3,2)\n",
    "print(ans)"
   ]
  },
  {
   "cell_type": "code",
   "execution_count": 75,
   "id": "1eb8f253-c8d5-4d0b-8808-a2de0f868469",
   "metadata": {},
   "outputs": [
    {
     "name": "stdout",
     "output_type": "stream",
     "text": [
      "hello anurag\n",
      "None\n"
     ]
    }
   ],
   "source": [
    "def greet(name):\n",
    "    return print(\"hello\",name)\n",
    "print(greet(\"anurag\"))"
   ]
  },
  {
   "cell_type": "code",
   "execution_count": 83,
   "id": "0c8722a2-37f0-45bf-9677-d26ce642ffd7",
   "metadata": {},
   "outputs": [
    {
     "name": "stdout",
     "output_type": "stream",
     "text": [
      "[1, 4, 9, 16]\n"
     ]
    }
   ],
   "source": [
    "def square(x):\n",
    "    return x * x \n",
    "numbers = [1,2,3,4]\n",
    "squared_number= map(square,numbers) #maped \n",
    "print(list(squared_number))"
   ]
  },
  {
   "cell_type": "code",
   "execution_count": 85,
   "id": "f4d5b269-0bd3-48d1-8345-fd563a3e01ed",
   "metadata": {},
   "outputs": [
    {
     "name": "stdout",
     "output_type": "stream",
     "text": [
      "120\n"
     ]
    }
   ],
   "source": [
    "def factorial(n):\n",
    "    if n == 1:\n",
    "        return 1 \n",
    "    else:\n",
    "        return n * factorial(n - 1)\n",
    "print(factorial(5))"
   ]
  },
  {
   "cell_type": "code",
   "execution_count": 28,
   "id": "e0a521f5-df8e-461e-b699-208dd5736547",
   "metadata": {},
   "outputs": [
    {
     "name": "stdin",
     "output_type": "stream",
     "text": [
      "Enter the value of A 5\n",
      "Enter the value of B 5\n"
     ]
    },
    {
     "name": "stdout",
     "output_type": "stream",
     "text": [
      "addition of a and b is c  10\n"
     ]
    }
   ],
   "source": [
    "#No Argument with return \n",
    "def addition(): #no argumet \n",
    "    a = int(input(\"Enter the value of A\"))\n",
    "    b = int(input(\"Enter the value of B\"))\n",
    "    c = a+b \n",
    "    \n",
    "    return c #return the value of c \n",
    "x=addition()\n",
    "print(\"addition of a and b is c \", x)"
   ]
  },
  {
   "cell_type": "code",
   "execution_count": 11,
   "id": "114d04ef-8b23-4fc4-92a7-2ec40b14257c",
   "metadata": {},
   "outputs": [
    {
     "name": "stdin",
     "output_type": "stream",
     "text": [
      "enter the value of n 4\n"
     ]
    },
    {
     "name": "stdout",
     "output_type": "stream",
     "text": [
      "True\n",
      "odd\n"
     ]
    }
   ],
   "source": [
    "####\n",
    "def oddeven():\n",
    "    n = int(input(\"enter the value of n\"))\n",
    "    if n%2==0:\n",
    "        return True\n",
    "    else:\n",
    "        return False\n",
    "z=oddeven()\n",
    "print(z)\n",
    "if z == 'True':\n",
    "    print(\"even\")\n",
    "else:\"\"\n",
    "    \n",
    "    print(\"odd\")\n"
   ]
  },
  {
   "cell_type": "code",
   "execution_count": 19,
   "id": "16071d7e-384c-40af-a50c-894f835e9ce8",
   "metadata": {},
   "outputs": [
    {
     "name": "stdin",
     "output_type": "stream",
     "text": [
      "Enter number to check 5\n"
     ]
    },
    {
     "name": "stdout",
     "output_type": "stream",
     "text": [
      "odd\n",
      "num 5\n"
     ]
    }
   ],
   "source": [
    "def oddeven():\n",
    "    n = int(input(\"Enter number to check\"))\n",
    "    if n %2 ==0:\n",
    "        print(\"Even\")\n",
    "    \n",
    "    else:\n",
    "        print(\"odd\")\n",
    "        \n",
    "    return n \n",
    "z = oddeven()\n",
    "print(\"num\",z)"
   ]
  },
  {
   "cell_type": "code",
   "execution_count": 21,
   "id": "ea996d5b-a7e2-4871-a4df-cc4a61cb1dc4",
   "metadata": {},
   "outputs": [
    {
     "name": "stdin",
     "output_type": "stream",
     "text": [
      "Enter the value of x  5\n",
      "Enter the value fo y 6\n"
     ]
    },
    {
     "name": "stdout",
     "output_type": "stream",
     "text": [
      "addition of x and y  11\n"
     ]
    }
   ],
   "source": [
    "#with argument with return \n",
    "def addition (a, b):\n",
    "    c = a+b \n",
    "    return c  #final ansers\n",
    "x = int(input(\"Enter the value of x \"))\n",
    "y = int(input(\"Enter the value fo y\"))\n",
    "z = addition(x,y)\n",
    "print(\"addition of x and y \",z)"
   ]
  },
  {
   "cell_type": "code",
   "execution_count": 25,
   "id": "498a14ce-d8ee-44ec-b6cf-91d2ab8aa4db",
   "metadata": {},
   "outputs": [
    {
     "name": "stdin",
     "output_type": "stream",
     "text": [
      "n 4\n"
     ]
    },
    {
     "name": "stdout",
     "output_type": "stream",
     "text": [
      "even\n",
      "number is  4\n"
     ]
    }
   ],
   "source": [
    "def oddeven(a):\n",
    "    if(a%2==0):\n",
    "        print(\"even\")\n",
    "    else:\n",
    "        print(\"odd\")\n",
    "    return a \n",
    "n= int(input(\"n\"))\n",
    "z=oddeven(n)\n",
    "print(\"number is \",z)"
   ]
  },
  {
   "cell_type": "code",
   "execution_count": 67,
   "id": "3ebc05a6-d0fb-49fe-8558-fbf2c20d2e02",
   "metadata": {},
   "outputs": [
    {
     "name": "stdin",
     "output_type": "stream",
     "text": [
      "enter the number 1\n",
      "enter the number 5\n",
      "enter the number 6\n"
     ]
    },
    {
     "name": "stdout",
     "output_type": "stream",
     "text": [
      "average of three numbers are 4.0\n"
     ]
    }
   ],
   "source": [
    "#average of 3 number  #with no parameter no return \n",
    "def calc_avg():\n",
    "    a=int(input(\"enter the number\"))\n",
    "    b=int(input(\"enter the number\"))\n",
    "    c=int(input(\"enter the number\"))\n",
    "    sum=a+b+c\n",
    "    avg=sum/3\n",
    "    print(\"average of three numbers are\",avg)\n",
    "calc_avg()"
   ]
  },
  {
   "cell_type": "code",
   "execution_count": 65,
   "id": "41537d1d-d365-444f-aced-94f8b7155a12",
   "metadata": {},
   "outputs": [
    {
     "name": "stdout",
     "output_type": "stream",
     "text": [
      "4.0\n"
     ]
    }
   ],
   "source": [
    "#with parameter no return \n",
    "def calc_avg(a,b): #parameters \n",
    "    sum=a+b+3\n",
    "    avg=sum/2\n",
    "    print(avg)\n",
    "\n",
    "calc_avg(4,4)\n",
    "\n",
    "    \n",
    "    "
   ]
  },
  {
   "cell_type": "code",
   "execution_count": 63,
   "id": "43e1a988-04b8-4fb3-b052-5ee436b1b55e",
   "metadata": {},
   "outputs": [
    {
     "name": "stdout",
     "output_type": "stream",
     "text": [
      "15\n",
      "19\n",
      "13\n"
     ]
    }
   ],
   "source": [
    "#default parameter \n",
    "def add(a=5, b=5,c=4): #default paramters\n",
    "    d = a+b+ c\n",
    "    print(d)\n",
    "add(6) #a willbe assigned to 6\n",
    "add(5,10)  # a and b will be assigned as 5 10 it will over write the value of a and b in the defalult paramters\n",
    "add(4,5,4) #it will completly overwrite the values in the pramter \n"
   ]
  },
  {
   "cell_type": "code",
   "execution_count": 91,
   "id": "934d908a-b9f8-4ab3-95f2-811a19bb483d",
   "metadata": {},
   "outputs": [
    {
     "name": "stdout",
     "output_type": "stream",
     "text": [
      "Hello, Alice!\n",
      "goodMoring, anurag!\n"
     ]
    }
   ],
   "source": [
    "#function with default parmeters\n",
    "def greet(name , greeting=\"Hello\"):\n",
    "    return f\"{greeting}, {name}!\"\n",
    "print(greet(\"Alice\")) #output will be name with the default parameter\n",
    "print(greet(\"anurag\",\"goodMoring\"))"
   ]
  },
  {
   "cell_type": "code",
   "execution_count": 87,
   "id": "070867e4-87dc-4743-9b82-ac0c647b5d60",
   "metadata": {},
   "outputs": [],
   "source": [
    "#pass \n",
    "#this will execute without any action or error\n",
    "def future_function():\n",
    "    pass # these will just pass the function \n",
    "future_function()"
   ]
  },
  {
   "cell_type": "code",
   "execution_count": 89,
   "id": "711e62d8-629c-46fe-b62c-d23d9c9502b3",
   "metadata": {},
   "outputs": [
    {
     "name": "stdout",
     "output_type": "stream",
     "text": [
      "Square Root of 4 is 2.0\n",
      "2 to the power 3 is 8\n"
     ]
    }
   ],
   "source": [
    "import math  #using the inbuild function\n",
    "#sqrt computes the squre root\n",
    "square_root = math.sqrt(4)\n",
    "print(\"Square Root of 4 is\", square_root)\n",
    "#pow() computes the power\n",
    "power = pow(2, 3)\n",
    "print(\"2 to the power 3 is\",power)\n"
   ]
  },
  {
   "cell_type": "code",
   "execution_count": null,
   "id": "62cd69c5-7861-4202-b8ee-c6be88a186c2",
   "metadata": {},
   "outputs": [],
   "source": []
  }
 ],
 "metadata": {
  "kernelspec": {
   "display_name": "Python 3 (ipykernel)",
   "language": "python",
   "name": "python3"
  },
  "language_info": {
   "codemirror_mode": {
    "name": "ipython",
    "version": 3
   },
   "file_extension": ".py",
   "mimetype": "text/x-python",
   "name": "python",
   "nbconvert_exporter": "python",
   "pygments_lexer": "ipython3",
   "version": "3.12.4"
  }
 },
 "nbformat": 4,
 "nbformat_minor": 5
}
