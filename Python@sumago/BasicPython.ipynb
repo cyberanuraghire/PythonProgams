{
 "cells": [
  {
   "cell_type": "markdown",
   "id": "1c3107a9-e6d5-4e1d-b198-30a384bb8624",
   "metadata": {},
   "source": []
  },
  {
   "cell_type": "code",
   "execution_count": null,
   "id": "da7d32b4-5924-4031-9ff5-b7790821d08a",
   "metadata": {},
   "outputs": [],
   "source": []
  },
  {
   "cell_type": "code",
   "execution_count": 112,
   "id": "ad91abe1-dfa8-475b-b08e-4bb4e96617e4",
   "metadata": {},
   "outputs": [
    {
     "name": "stdout",
     "output_type": "stream",
     "text": [
      "4\n"
     ]
    }
   ],
   "source": [
    "\"\"\"\n",
    "Thes is a mulitline comment\n",
    "hello \n",
    "hello\n",
    "\"\"\"\n",
    "a = 4\n",
    "print(a)"
   ]
  },
  {
   "cell_type": "raw",
   "id": "b5620cac-d024-4dd8-a200-77bd0f3ea8b7",
   "metadata": {},
   "source": [
    "Write a progarme to input two numbers and print there sum"
   ]
  },
  {
   "cell_type": "code",
   "execution_count": 106,
   "id": "78befa62-53e3-4e8a-b99d-299c191de0b2",
   "metadata": {},
   "outputs": [],
   "source": [
    "# float a, b \n",
    "# a= 10.10\n",
    "# b= 12.12\n",
    "\n",
    "\n",
    "\n"
   ]
  },
  {
   "cell_type": "code",
   "execution_count": 1,
   "id": "cd5d3dad-65c4-4d10-b264-c8d44f30e3a6",
   "metadata": {},
   "outputs": [
    {
     "name": "stdout",
     "output_type": "stream",
     "text": [
      "30\n"
     ]
    }
   ],
   "source": [
    "a = 10\n",
    "b = 20 \n",
    "c = a + b #additon of two numbers\n",
    "print(c) "
   ]
  },
  {
   "cell_type": "code",
   "execution_count": 3,
   "id": "2b0ea5cc-e954-4b8a-b7ba-6b04b41a0b32",
   "metadata": {},
   "outputs": [
    {
     "name": "stdout",
     "output_type": "stream",
     "text": [
      "-10\n"
     ]
    }
   ],
   "source": [
    "d = a - b\n",
    "print(d) #substraction"
   ]
  },
  {
   "cell_type": "code",
   "execution_count": 5,
   "id": "24cc686f-5d03-49a9-bf84-2421bec31f5a",
   "metadata": {},
   "outputs": [
    {
     "name": "stdout",
     "output_type": "stream",
     "text": [
      "200\n"
     ]
    }
   ],
   "source": [
    "e = a * b\n",
    "print(e) #multi"
   ]
  },
  {
   "cell_type": "code",
   "execution_count": 9,
   "id": "15ab25f6-e095-4204-991f-c9d0ace2fa3d",
   "metadata": {},
   "outputs": [
    {
     "name": "stdout",
     "output_type": "stream",
     "text": [
      "0.5\n"
     ]
    }
   ],
   "source": [
    "f = a/b\n",
    "print(f) #division"
   ]
  },
  {
   "cell_type": "code",
   "execution_count": 11,
   "id": "ed47bb3a-6330-451d-b147-61e40d17557c",
   "metadata": {},
   "outputs": [
    {
     "name": "stdout",
     "output_type": "stream",
     "text": [
      "100000000000000000000\n"
     ]
    }
   ],
   "source": [
    "g = a**b #power a^b\n",
    "print(g)"
   ]
  },
  {
   "cell_type": "code",
   "execution_count": 39,
   "id": "2f714aa9-7578-468b-a5f7-5661b66fa146",
   "metadata": {},
   "outputs": [
    {
     "name": "stdout",
     "output_type": "stream",
     "text": [
      "0.0\n"
     ]
    }
   ],
   "source": [
    "j = a//b\n",
    "print(j) #floor division"
   ]
  },
  {
   "cell_type": "code",
   "execution_count": 13,
   "id": "3dd8df01-a513-4fe8-97fb-4cfe486e14e3",
   "metadata": {},
   "outputs": [
    {
     "name": "stdout",
     "output_type": "stream",
     "text": [
      "10\n"
     ]
    }
   ],
   "source": [
    "h = a%b \n",
    "print(h) #to find reminder # a modulo b"
   ]
  },
  {
   "cell_type": "code",
   "execution_count": 15,
   "id": "ce04abbd-2a35-4c72-b59f-4dc2dfb179fb",
   "metadata": {},
   "outputs": [
    {
     "name": "stdout",
     "output_type": "stream",
     "text": [
      "<class 'int'>\n"
     ]
    }
   ],
   "source": [
    "a =10 \n",
    "print(type(a)) #to fint the type of data type ie int"
   ]
  },
  {
   "cell_type": "code",
   "execution_count": 17,
   "id": "8bca3c0b-1200-4893-beec-bda6d5d477bd",
   "metadata": {},
   "outputs": [
    {
     "name": "stdout",
     "output_type": "stream",
     "text": [
      "<class 'float'>\n"
     ]
    }
   ],
   "source": [
    "b = 1.2\n",
    "print(type(b))"
   ]
  },
  {
   "cell_type": "code",
   "execution_count": 19,
   "id": "edd8a14e-dcac-41ac-8e5b-f96628fd7e55",
   "metadata": {},
   "outputs": [
    {
     "name": "stdout",
     "output_type": "stream",
     "text": [
      "<class 'bool'>\n"
     ]
    }
   ],
   "source": [
    "c = True #first letter alway capital\n",
    "print(type(c))"
   ]
  },
  {
   "cell_type": "code",
   "execution_count": 23,
   "id": "67636d12-32c4-4db1-ba06-de7a0021b9a3",
   "metadata": {},
   "outputs": [
    {
     "name": "stdout",
     "output_type": "stream",
     "text": [
      "<class 'str'>\n"
     ]
    }
   ],
   "source": [
    "d = \"anurag\"\n",
    "print(type(d)) #string "
   ]
  },
  {
   "cell_type": "code",
   "execution_count": 2,
   "id": "6a95e95b-f415-443e-8f16-fd78ed1f5c9e",
   "metadata": {},
   "outputs": [
    {
     "ename": "NameError",
     "evalue": "name 'iy' is not defined",
     "output_type": "error",
     "traceback": [
      "\u001b[1;31m---------------------------------------------------------------------------\u001b[0m",
      "\u001b[1;31mNameError\u001b[0m                                 Traceback (most recent call last)",
      "Cell \u001b[1;32mIn[2], line 1\u001b[0m\n\u001b[1;32m----> 1\u001b[0m a \u001b[38;5;241m=\u001b[39m \u001b[38;5;241m2\u001b[39m \u001b[38;5;241m+\u001b[39m iy\n\u001b[0;32m      2\u001b[0m \u001b[38;5;28mprint\u001b[39m(\u001b[38;5;28mtype\u001b[39m(e))\n",
      "\u001b[1;31mNameError\u001b[0m: name 'iy' is not defined"
     ]
    }
   ],
   "source": [
    "a = 2 + iy\n",
    "print(type(e)) #for complex number"
   ]
  },
  {
   "cell_type": "code",
   "execution_count": 29,
   "id": "32648f43-cdf6-46d7-8245-c54b25cacd44",
   "metadata": {},
   "outputs": [
    {
     "name": "stdout",
     "output_type": "stream",
     "text": [
      "10.0\n"
     ]
    }
   ],
   "source": [
    " a = 10\n",
    "print(float(a)) #type casting"
   ]
  },
  {
   "cell_type": "markdown",
   "id": "e1d559ee-2281-4c7b-89ff-f6c5e0b85d24",
   "metadata": {},
   "source": [
    "b = 3.14\n",
    "print(int(b))  #type casting for deciaml to inetger"
   ]
  },
  {
   "cell_type": "code",
   "execution_count": 6,
   "id": "f99fc28b-b3e3-4ee4-8cdb-aa5a42bc4a1c",
   "metadata": {},
   "outputs": [
    {
     "name": "stdin",
     "output_type": "stream",
     "text": [
      "enter the number 10\n",
      "enter e 2\n"
     ]
    },
    {
     "name": "stdout",
     "output_type": "stream",
     "text": [
      "average : 26.6\n",
      "power 100\n"
     ]
    }
   ],
   "source": [
    "#write a prgram to input two floating number and print there average\n",
    "# a = float(input(\"Enter First numeber:\")) #type caste then take the input\n",
    "# b = float(input(\"Enter second number:\"))  \n",
    "d = int(input(\"enter the number\"))\n",
    "e = int(input(\"enter e\"))\n",
    "\n",
    "c= a+b/2\n",
    "f=d**e\n",
    "print(\"average :\",c)\n",
    "print(\"power\",f)"
   ]
  },
  {
   "cell_type": "markdown",
   "id": "7054dd45-9d78-47b5-b334-45a79e4c315b",
   "metadata": {},
   "source": [
    "comparision operator "
   ]
  },
  {
   "cell_type": "code",
   "execution_count": 6,
   "id": "a4ebb039-537e-4881-be3a-3711425828f3",
   "metadata": {},
   "outputs": [
    {
     "data": {
      "text/plain": [
       "False"
      ]
     },
     "execution_count": 6,
     "metadata": {},
     "output_type": "execute_result"
    }
   ],
   "source": [
    "a = 0\n",
    "b = 5\n",
    "a > b #greater than \n",
    "# if left is greather than the right then it will return the value true\n",
    "# if left is not greater than the right then it will return the value false "
   ]
  },
  {
   "cell_type": "code",
   "execution_count": 8,
   "id": "1ae78c57-7249-48be-9721-297f49c9053f",
   "metadata": {},
   "outputs": [
    {
     "data": {
      "text/plain": [
       "True"
      ]
     },
     "execution_count": 8,
     "metadata": {},
     "output_type": "execute_result"
    }
   ],
   "source": [
    "a > b #if a is greater than b then it will return the True value \n",
    "#greater  "
   ]
  },
  {
   "cell_type": "code",
   "execution_count": 14,
   "id": "bdaad937-8b72-4691-a600-4f3138d30c0d",
   "metadata": {},
   "outputs": [
    {
     "name": "stdout",
     "output_type": "stream",
     "text": [
      "hello\n"
     ]
    }
   ],
   "source": [
    "# a >= b # greater than if a is greater or equal to b then it will return True valye\n",
    "a = 1\n",
    "b = 10\n",
    "if(a < b):\n",
    "    print(\"hello\")\n",
    "else:\n",
    "    print(\"bye\")"
   ]
  },
  {
   "cell_type": "code",
   "execution_count": 22,
   "id": "c78d175d-201c-4739-99ea-8fdba0efed3b",
   "metadata": {},
   "outputs": [
    {
     "name": "stdout",
     "output_type": "stream",
     "text": [
      "a is smaller than b\n"
     ]
    }
   ],
   "source": [
    "#a < b #less than  here if a is smaller than b then  it will return True value\n",
    "a = 100\n",
    "b = 20\n",
    "if(a <= 100):\n",
    "    print(\"a is smaller than b\")\n",
    "else:\n",
    "    print(\"a is greather than b\")"
   ]
  },
  {
   "cell_type": "code",
   "execution_count": 12,
   "id": "dfcf8d07-59bf-4069-8c1f-2c5449786f27",
   "metadata": {},
   "outputs": [
    {
     "data": {
      "text/plain": [
       "False"
      ]
     },
     "execution_count": 12,
     "metadata": {},
     "output_type": "execute_result"
    }
   ],
   "source": [
    "a <= b #less than equal to \n"
   ]
  },
  {
   "cell_type": "code",
   "execution_count": 18,
   "id": "8795012f-5fd7-4f94-a2a5-07437da30520",
   "metadata": {},
   "outputs": [
    {
     "ename": "SyntaxError",
     "evalue": "invalid syntax (2825872190.py, line 1)",
     "output_type": "error",
     "traceback": [
      "\u001b[1;36m  Cell \u001b[1;32mIn[18], line 1\u001b[1;36m\u001b[0m\n\u001b[1;33m    a < > b #not equal to operator\u001b[0m\n\u001b[1;37m        ^\u001b[0m\n\u001b[1;31mSyntaxError\u001b[0m\u001b[1;31m:\u001b[0m invalid syntax\n"
     ]
    }
   ],
   "source": [
    "a < > b #not equal to operator \n"
   ]
  },
  {
   "cell_type": "code",
   "execution_count": 20,
   "id": "c037e656-accb-4ffc-bf1e-b7605ae84a39",
   "metadata": {},
   "outputs": [
    {
     "data": {
      "text/plain": [
       "True"
      ]
     },
     "execution_count": 20,
     "metadata": {},
     "output_type": "execute_result"
    }
   ],
   "source": [
    "a != b #not equal to "
   ]
  },
  {
   "cell_type": "code",
   "execution_count": 22,
   "id": "ddc7eba5-0eeb-4d81-8cae-8f3d6897c90d",
   "metadata": {},
   "outputs": [
    {
     "data": {
      "text/plain": [
       "False"
      ]
     },
     "execution_count": 22,
     "metadata": {},
     "output_type": "execute_result"
    }
   ],
   "source": [
    "a == b\n"
   ]
  },
  {
   "cell_type": "markdown",
   "id": "f4c7f17e-bd85-4e99-93df-3734f0f7fe1b",
   "metadata": {},
   "source": [
    "logical opertor"
   ]
  },
  {
   "cell_type": "code",
   "execution_count": 34,
   "id": "c7ed0f21-3cc0-48de-bf4c-01f9dffeb96d",
   "metadata": {},
   "outputs": [
    {
     "name": "stdout",
     "output_type": "stream",
     "text": [
      "False\n",
      "bye\n"
     ]
    }
   ],
   "source": [
    "#AND True if both the operand are true\n",
    "#OR True if any of the operand are True it will return the value True \n",
    "#NOT #REVERSE THE OUTPUT\n",
    "a = True\n",
    "b = False \n",
    "print(a and b) #and operator \n",
    "a = 11\n",
    "b = 100\n",
    "c = 12\n",
    "d = 100\n",
    "if(a > b) or (c > d):\n",
    "    print(\"hello\")\n",
    "else:\n",
    "    print(\"bye\")\n"
   ]
  },
  {
   "cell_type": "code",
   "execution_count": 31,
   "id": "73e2a46d-05ae-402f-b754-1e8299526e0e",
   "metadata": {},
   "outputs": [
    {
     "name": "stdout",
     "output_type": "stream",
     "text": [
      "True\n"
     ]
    }
   ],
   "source": [
    "\n",
    "print( a or b) #or operator "
   ]
  },
  {
   "cell_type": "code",
   "execution_count": 33,
   "id": "b3042629-0dee-475e-83a4-4245cb2d1ca8",
   "metadata": {},
   "outputs": [
    {
     "name": "stdout",
     "output_type": "stream",
     "text": [
      "False\n"
     ]
    }
   ],
   "source": [
    "print(not a)"
   ]
  },
  {
   "cell_type": "markdown",
   "id": "ba9bb92f-7a93-4ec5-a4b4-78a1d3a83ab1",
   "metadata": {},
   "source": [
    "x = 10\n",
    "y = 15\n",
    "result = (x>15) or (y<10)\n",
    "print(result)"
   ]
  },
  {
   "cell_type": "code",
   "execution_count": 39,
   "id": "5128b006-311b-4274-b192-fe07ddc9276d",
   "metadata": {},
   "outputs": [
    {
     "name": "stdout",
     "output_type": "stream",
     "text": [
      "False\n"
     ]
    }
   ],
   "source": [
    "result1 = (x>15) and (y<10)\n",
    "print(result1)"
   ]
  },
  {
   "cell_type": "code",
   "execution_count": 41,
   "id": "a9ed39dd-fad5-4295-b741-c7a6dbfde5ce",
   "metadata": {},
   "outputs": [
    {
     "name": "stdout",
     "output_type": "stream",
     "text": [
      "True\n"
     ]
    }
   ],
   "source": [
    "result2 = (x>6) and (y<20)\n",
    "print(result2)"
   ]
  },
  {
   "cell_type": "code",
   "execution_count": 43,
   "id": "5c678d4e-7271-4103-b245-a0cb0f6daec8",
   "metadata": {},
   "outputs": [
    {
     "name": "stdout",
     "output_type": "stream",
     "text": [
      "True\n"
     ]
    }
   ],
   "source": [
    "result2 = (x>6) or  (y<20)\n",
    "print(result2)"
   ]
  },
  {
   "cell_type": "markdown",
   "id": "6a064ac4-a540-446c-92c8-29f3b14e505b",
   "metadata": {},
   "source": [
    "Assignment operator"
   ]
  },
  {
   "cell_type": "code",
   "execution_count": 46,
   "id": "63d73a8d-cfdf-40d2-b64a-141b74977ea4",
   "metadata": {},
   "outputs": [
    {
     "name": "stdout",
     "output_type": "stream",
     "text": [
      "15\n"
     ]
    }
   ],
   "source": [
    "num = 10 #assignment operator \n",
    "num = num + 5\n",
    "print(num) #assign the value"
   ]
  },
  {
   "cell_type": "code",
   "execution_count": 54,
   "id": "7644952d-8d27-4434-afcb-17cbcd070422",
   "metadata": {},
   "outputs": [
    {
     "name": "stdout",
     "output_type": "stream",
     "text": [
      "num: 20\n"
     ]
    }
   ],
   "source": [
    "num = 10\n",
    "num +=10 \n",
    "print(\"num:\",num)"
   ]
  },
  {
   "cell_type": "code",
   "execution_count": 58,
   "id": "8aa231bc-437c-416f-ae02-883573112443",
   "metadata": {},
   "outputs": [
    {
     "name": "stdout",
     "output_type": "stream",
     "text": [
      "5\n"
     ]
    }
   ],
   "source": [
    "num = 10\n",
    "num = num-5 #num -= 5 \n",
    "print(num)"
   ]
  },
  {
   "cell_type": "code",
   "execution_count": 60,
   "id": "acb94589-b658-4ba0-a706-64b4a9d803d5",
   "metadata": {},
   "outputs": [
    {
     "name": "stdout",
     "output_type": "stream",
     "text": [
      "100\n"
     ]
    }
   ],
   "source": [
    "num = 10\n",
    "num = num * 10 # num *= 10\n",
    "print(num)"
   ]
  },
  {
   "cell_type": "code",
   "execution_count": 62,
   "id": "1ed37215-1306-43db-a83b-8df906319d01",
   "metadata": {},
   "outputs": [
    {
     "name": "stdout",
     "output_type": "stream",
     "text": [
      "4.0\n"
     ]
    }
   ],
   "source": [
    "num = 20\n",
    "num = num / 5 # num /= 5 it can also be written as \n",
    "print(num)"
   ]
  },
  {
   "cell_type": "code",
   "execution_count": 66,
   "id": "19357a94-4eea-4896-955f-90b4b821d29a",
   "metadata": {},
   "outputs": [
    {
     "name": "stdout",
     "output_type": "stream",
     "text": [
      "15\n"
     ]
    }
   ],
   "source": [
    "num = 10\n",
    "#num= num^5 \n",
    "num = num^5\n",
    "print(num)"
   ]
  },
  {
   "cell_type": "code",
   "execution_count": 22,
   "id": "9bd03a69-12e6-47ef-8fcb-88d1ffa97f11",
   "metadata": {},
   "outputs": [
    {
     "name": "stdout",
     "output_type": "stream",
     "text": [
      "True\n",
      "True\n"
     ]
    }
   ],
   "source": [
    "a = 20\n",
    "b = 10\n",
    "c = a\n",
    "print(a is not b) #both were not identical so it return true \n",
    "\n",
    "print(a is c)\n",
    "#is operator True if the operator are identical \n",
    "#is not if the operator are not identical "
   ]
  },
  {
   "cell_type": "markdown",
   "id": "beb6f84a-cffd-4122-bbee-4f4b6dd0e143",
   "metadata": {},
   "source": [
    "membership operator  only used to check the memebers in the list "
   ]
  },
  {
   "cell_type": "code",
   "execution_count": 50,
   "id": "cbd5c6e3-8b8f-4df6-abb9-ff4287738086",
   "metadata": {},
   "outputs": [
    {
     "name": "stdout",
     "output_type": "stream",
     "text": [
      "not present\n"
     ]
    }
   ],
   "source": [
    "x = 20\n",
    "y = 10\n",
    "list = [10, 20, 30, 40, 50] #given list \n",
    "# if (x not in list): #true if s is not found in the list\n",
    "#     print(\"x is not the list\")\n",
    "# else:\n",
    "#     print(\"x is present in the list\")\n",
    "if(x is list):\n",
    "    print(\"present\")\n",
    "else:\n",
    "    print(\"not present\")"
   ]
  },
  {
   "cell_type": "code",
   "execution_count": null,
   "id": "7c259e7f-9dd2-4b71-bc2f-547f616fd02d",
   "metadata": {},
   "outputs": [],
   "source": []
  }
 ],
 "metadata": {
  "kernelspec": {
   "display_name": "Python 3 (ipykernel)",
   "language": "python",
   "name": "python3"
  },
  "language_info": {
   "codemirror_mode": {
    "name": "ipython",
    "version": 3
   },
   "file_extension": ".py",
   "mimetype": "text/x-python",
   "name": "python",
   "nbconvert_exporter": "python",
   "pygments_lexer": "ipython3",
   "version": "3.12.4"
  }
 },
 "nbformat": 4,
 "nbformat_minor": 5
}
